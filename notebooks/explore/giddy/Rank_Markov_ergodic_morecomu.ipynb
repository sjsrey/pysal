{
 "cells": [
  {
   "cell_type": "markdown",
   "metadata": {},
   "source": [
    "# Full Rank Markov and Geographic Rank Markov \n",
    "\n",
    "**Author: Wei Kang <weikang9009@gmail.com>**"
   ]
  },
  {
   "cell_type": "code",
   "execution_count": 1,
   "metadata": {},
   "outputs": [],
   "source": [
    "import pysal.lib as ps\n",
    "import pysal.lib\n",
    "import numpy as np\n",
    "import matplotlib.pyplot as plt\n",
    "%matplotlib inline\n",
    "import seaborn as sns\n",
    "import pandas as pd\n",
    "import geopandas as gpd\n",
    "from pysal.explore.giddy.markov import Spatial_Markov, Markov, FullRank_Markov\n",
    "from pysal.explore.giddy import ergodic, util\n",
    "from pysal.viz import mapclassify as mc\n",
    "import quantecon as qe"
   ]
  },
  {
   "cell_type": "code",
   "execution_count": 2,
   "metadata": {},
   "outputs": [],
   "source": [
    "f = ps.io.open(ps.examples.get_path('usjoin.csv'))\n",
    "pci = np.array([f.by_col[str(y)] for y in range(2000, 2010)])\n",
    "pci = pci.transpose()\n",
    "rpci = pci / (pci.mean(axis=0))\n",
    "discretized = (rpci * 100).astype(int) % 4\n",
    "w = ps.io.open(ps.examples.get_path(\"states48.gal\")).read()\n",
    "w.transform = 'r'"
   ]
  },
  {
   "cell_type": "code",
   "execution_count": 3,
   "metadata": {},
   "outputs": [
    {
     "name": "stdout",
     "output_type": "stream",
     "text": [
      "The Markov Chain is irreducible and is composed by:\n",
      "1 Recurrent class (indices):\n",
      "[0 1 2 3 4]\n",
      "0 Transient class.\n",
      "The Markov Chain has 0 absorbing state.\n"
     ]
    }
   ],
   "source": [
    "pci = np.array([f.by_col[str(y)] for y in range(1929,2010)])\n",
    "# rpci = pci/(pci.mean(axis=0))\n",
    "rq = mc.Quantiles(pci.flatten()).yb.reshape(pci.shape)\n",
    "m = Markov(rq)"
   ]
  },
  {
   "cell_type": "code",
   "execution_count": 4,
   "metadata": {},
   "outputs": [
    {
     "data": {
      "text/plain": [
       "array([0.1696532 , 0.1853406 , 0.19973599, 0.2178871 , 0.22738311])"
      ]
     },
     "execution_count": 4,
     "metadata": {},
     "output_type": "execute_result"
    }
   ],
   "source": [
    "m.steady_state"
   ]
  },
  {
   "cell_type": "code",
   "execution_count": null,
   "metadata": {},
   "outputs": [],
   "source": []
  },
  {
   "cell_type": "code",
   "execution_count": 41,
   "metadata": {},
   "outputs": [],
   "source": [
    "q5 = np.array([mc.Quantiles(y).yb for y in pci]).transpose()"
   ]
  },
  {
   "cell_type": "code",
   "execution_count": 42,
   "metadata": {},
   "outputs": [
    {
     "name": "stdout",
     "output_type": "stream",
     "text": [
      "The Markov Chain is reducible and is composed by:\n",
      "Recurrent classes:\n",
      "[0 1], [2], [3 4]\n",
      "Transient classes:\n",
      "None\n"
     ]
    }
   ],
   "source": [
    "m = Markov(q5)"
   ]
  },
  {
   "cell_type": "code",
   "execution_count": 43,
   "metadata": {},
   "outputs": [
    {
     "data": {
      "text/plain": [
       "array([[0.50531915, 0.49468085, 0.        , 0.        , 0.        ],\n",
       "       [0.        , 0.        , 1.        , 0.        , 0.        ],\n",
       "       [0.        , 0.        , 0.        , 0.5       , 0.5       ]])"
      ]
     },
     "execution_count": 43,
     "metadata": {},
     "output_type": "execute_result"
    }
   ],
   "source": [
    "m.steady_state"
   ]
  },
  {
   "cell_type": "code",
   "execution_count": 3,
   "metadata": {},
   "outputs": [],
   "source": [
    "a = Spatial_Markov(rpci, w)"
   ]
  },
  {
   "cell_type": "code",
   "execution_count": 5,
   "metadata": {},
   "outputs": [
    {
     "name": "stdout",
     "output_type": "stream",
     "text": [
      "The Markov Chain is reducible and is composed by:\n",
      "Recurrent classes:\n",
      "[0], [1], [2], [3 4], [ 5  6  7  8  9 10 11 12 13 14 15 16 17 18 19 20 21 22 23 24 25 26 27 28\n",
      " 29 30 31 32 33 34 35 36 37 38 39 40 41 42 43 44 45 46], [47]\n",
      "Transient classes:\n",
      "None\n"
     ]
    }
   ],
   "source": [
    "a = FullRank_Markov(rpci)"
   ]
  },
  {
   "cell_type": "code",
   "execution_count": 5,
   "metadata": {},
   "outputs": [],
   "source": [
    "P = np.array([[0,0,0.8,0.2],\n",
    "             [0,0,0.2,0.8],\n",
    "             [0.3,0.7,0,0],\n",
    "             [0.7,0.3,0,0]])"
   ]
  },
  {
   "cell_type": "code",
   "execution_count": 6,
   "metadata": {},
   "outputs": [],
   "source": [
    "m = qe.MarkovChain(P)"
   ]
  },
  {
   "cell_type": "code",
   "execution_count": 7,
   "metadata": {},
   "outputs": [
    {
     "data": {
      "text/plain": [
       "[array([0, 1, 2, 3])]"
      ]
     },
     "execution_count": 7,
     "metadata": {},
     "output_type": "execute_result"
    }
   ],
   "source": [
    "m.recurrent_classes_indices"
   ]
  },
  {
   "cell_type": "code",
   "execution_count": 8,
   "metadata": {},
   "outputs": [
    {
     "data": {
      "text/plain": [
       "[array([0, 1, 2, 3])]"
      ]
     },
     "execution_count": 8,
     "metadata": {},
     "output_type": "execute_result"
    }
   ],
   "source": [
    "m.communication_classes_indices"
   ]
  },
  {
   "cell_type": "code",
   "execution_count": 9,
   "metadata": {},
   "outputs": [
    {
     "data": {
      "text/plain": [
       "False"
      ]
     },
     "execution_count": 9,
     "metadata": {},
     "output_type": "execute_result"
    }
   ],
   "source": [
    "m.is_aperiodic"
   ]
  },
  {
   "cell_type": "code",
   "execution_count": 10,
   "metadata": {},
   "outputs": [
    {
     "data": {
      "text/plain": [
       "array([[0.25, 0.25, 0.25, 0.25]])"
      ]
     },
     "execution_count": 10,
     "metadata": {},
     "output_type": "execute_result"
    }
   ],
   "source": [
    "m.stationary_distributions"
   ]
  },
  {
   "cell_type": "code",
   "execution_count": null,
   "metadata": {},
   "outputs": [],
   "source": []
  },
  {
   "cell_type": "code",
   "execution_count": 32,
   "metadata": {},
   "outputs": [],
   "source": [
    "p = np.array([[0.8,0.2],[0.7,0.3]])"
   ]
  },
  {
   "cell_type": "code",
   "execution_count": 34,
   "metadata": {},
   "outputs": [
    {
     "data": {
      "text/plain": [
       "[]"
      ]
     },
     "execution_count": 34,
     "metadata": {},
     "output_type": "execute_result"
    }
   ],
   "source": [
    "list(np.argwhere(p==0.5))"
   ]
  },
  {
   "cell_type": "code",
   "execution_count": 36,
   "metadata": {},
   "outputs": [
    {
     "data": {
      "text/plain": [
       "0"
      ]
     },
     "execution_count": 36,
     "metadata": {},
     "output_type": "execute_result"
    }
   ],
   "source": [
    "len([])"
   ]
  },
  {
   "cell_type": "code",
   "execution_count": 35,
   "metadata": {},
   "outputs": [
    {
     "name": "stdout",
     "output_type": "stream",
     "text": [
      "\n"
     ]
    }
   ],
   "source": [
    "print(*[], sep=\", \""
   ]
  },
  {
   "cell_type": "code",
   "execution_count": 4,
   "metadata": {},
   "outputs": [],
   "source": [
    "from pysal.explore.giddy.ergodic import fmpt, steady_state"
   ]
  },
  {
   "cell_type": "code",
   "execution_count": 5,
   "metadata": {},
   "outputs": [
    {
     "data": {
      "text/plain": [
       "array([[1.28571429, 5.        ],\n",
       "       [1.42857143, 4.5       ]])"
      ]
     },
     "execution_count": 5,
     "metadata": {},
     "output_type": "execute_result"
    }
   ],
   "source": [
    "fmpt(p)"
   ]
  },
  {
   "cell_type": "code",
   "execution_count": 6,
   "metadata": {},
   "outputs": [
    {
     "data": {
      "text/plain": [
       "array([0.77777778, 0.22222222])"
      ]
     },
     "execution_count": 6,
     "metadata": {},
     "output_type": "execute_result"
    }
   ],
   "source": [
    "steady_state(p)"
   ]
  },
  {
   "cell_type": "code",
   "execution_count": 100,
   "metadata": {},
   "outputs": [
    {
     "data": {
      "text/plain": [
       "array([1.28571429, 4.5       ])"
      ]
     },
     "execution_count": 100,
     "metadata": {},
     "output_type": "execute_result"
    }
   ],
   "source": [
    "1/steady_state(p)"
   ]
  },
  {
   "cell_type": "code",
   "execution_count": null,
   "metadata": {},
   "outputs": [],
   "source": []
  },
  {
   "cell_type": "code",
   "execution_count": 25,
   "metadata": {},
   "outputs": [
    {
     "data": {
      "text/plain": [
       "array([[1. , 0. , 0. , 0. , 0. ],\n",
       "       [0. , 1. , 0. , 0. , 0. ],\n",
       "       [0. , 0. , 0. , 0.5, 0.5],\n",
       "       [0. , 0.5, 0. , 0. , 0.5],\n",
       "       [0.5, 0. , 0. , 0.5, 0. ]])"
      ]
     },
     "execution_count": 25,
     "metadata": {},
     "output_type": "execute_result"
    }
   ],
   "source": [
    "P = np.array([[1, 0,0,0,0],\n",
    "              [0,1,0,0,0],\n",
    "              [0, 0,0,0.5, 0.5],\n",
    "             [0,0.5,0, 0, 0.5],\n",
    "             [0.5,0, 0, 0.5, 0]])\n",
    "P"
   ]
  },
  {
   "cell_type": "code",
   "execution_count": 27,
   "metadata": {},
   "outputs": [],
   "source": [
    "np.where?"
   ]
  },
  {
   "cell_type": "code",
   "execution_count": 30,
   "metadata": {},
   "outputs": [
    {
     "data": {
      "text/plain": [
       "array([[2, 3],\n",
       "       [2, 4],\n",
       "       [3, 1],\n",
       "       [3, 4],\n",
       "       [4, 0],\n",
       "       [4, 3]])"
      ]
     },
     "execution_count": 30,
     "metadata": {},
     "output_type": "execute_result"
    }
   ],
   "source": [
    "np.argwhere(P==0.5)"
   ]
  },
  {
   "cell_type": "code",
   "execution_count": 31,
   "metadata": {},
   "outputs": [
    {
     "data": {
      "text/plain": [
       "array([0, 1])"
      ]
     },
     "execution_count": 31,
     "metadata": {},
     "output_type": "execute_result"
    }
   ],
   "source": [
    "np.argwhere(P==1)[:,0]"
   ]
  },
  {
   "cell_type": "code",
   "execution_count": 11,
   "metadata": {},
   "outputs": [
    {
     "data": {
      "text/plain": [
       "[array([0]), array([1]), array([3, 4]), array([2])]"
      ]
     },
     "execution_count": 11,
     "metadata": {},
     "output_type": "execute_result"
    }
   ],
   "source": [
    "mc = qe.MarkovChain(P)\n",
    "mc.communication_classes_indices"
   ]
  },
  {
   "cell_type": "code",
   "execution_count": 14,
   "metadata": {},
   "outputs": [],
   "source": [
    "mc.recurrent_classes?"
   ]
  },
  {
   "cell_type": "code",
   "execution_count": 15,
   "metadata": {},
   "outputs": [
    {
     "data": {
      "text/plain": [
       "4"
      ]
     },
     "execution_count": 15,
     "metadata": {},
     "output_type": "execute_result"
    }
   ],
   "source": [
    "mc.num_communication_classes"
   ]
  },
  {
   "cell_type": "code",
   "execution_count": 13,
   "metadata": {},
   "outputs": [
    {
     "data": {
      "text/plain": [
       "[array([0]), array([1])]"
      ]
     },
     "execution_count": 13,
     "metadata": {},
     "output_type": "execute_result"
    }
   ],
   "source": [
    "mc.recurrent_classes_indices"
   ]
  },
  {
   "cell_type": "code",
   "execution_count": 66,
   "metadata": {},
   "outputs": [
    {
     "name": "stdout",
     "output_type": "stream",
     "text": [
      "The Markov Chain is reducible and is composed by:\n",
      "Recurrent classes:\n",
      "[0]\n",
      "Transient classes:\n",
      "[1 2]\n"
     ]
    }
   ],
   "source": [
    "c = [['b','a','a'],['c','c','a'],['c','b','c']]\n",
    "m = Markov(np.array(c))"
   ]
  },
  {
   "cell_type": "code",
   "execution_count": 67,
   "metadata": {},
   "outputs": [
    {
     "data": {
      "text/plain": [
       "array([[1.        , 0.        , 0.        ],\n",
       "       [0.5       , 0.        , 0.5       ],\n",
       "       [0.33333333, 0.33333333, 0.33333333]])"
      ]
     },
     "execution_count": 67,
     "metadata": {},
     "output_type": "execute_result"
    }
   ],
   "source": [
    "m.p"
   ]
  },
  {
   "cell_type": "code",
   "execution_count": 19,
   "metadata": {},
   "outputs": [
    {
     "name": "stdout",
     "output_type": "stream",
     "text": [
      "The Markov Chain is irreducible and is composed by:\n",
      "Recurrent classes:\n",
      "[0 1 2]\n",
      "Transient classes:\n",
      "None\n"
     ]
    }
   ],
   "source": [
    "c = [['b','a','c'],['c','c','a'],['c','b','c']]\n",
    "c.extend([['a','a','b'], ['a','b','c']])\n",
    "c = np.array(c)\n",
    "m = Markov(c)"
   ]
  },
  {
   "cell_type": "code",
   "execution_count": 20,
   "metadata": {},
   "outputs": [
    {
     "data": {
      "text/plain": [
       "array(['a', 'b', 'c'], dtype='<U1')"
      ]
     },
     "execution_count": 20,
     "metadata": {},
     "output_type": "execute_result"
    }
   ],
   "source": [
    "m.classes"
   ]
  },
  {
   "cell_type": "code",
   "execution_count": 22,
   "metadata": {},
   "outputs": [
    {
     "data": {
      "text/plain": [
       "[array([0, 1, 2])]"
      ]
     },
     "execution_count": 22,
     "metadata": {},
     "output_type": "execute_result"
    }
   ],
   "source": [
    "m.communication_classes"
   ]
  },
  {
   "cell_type": "code",
   "execution_count": 23,
   "metadata": {},
   "outputs": [
    {
     "data": {
      "text/plain": [
       "array(['a', 'b', 'c'], dtype='<U1')"
      ]
     },
     "execution_count": 23,
     "metadata": {},
     "output_type": "execute_result"
    }
   ],
   "source": [
    "m.classes[m.communication_classes[0]]"
   ]
  },
  {
   "cell_type": "code",
   "execution_count": null,
   "metadata": {},
   "outputs": [],
   "source": [
    "classes"
   ]
  },
  {
   "cell_type": "code",
   "execution_count": 17,
   "metadata": {},
   "outputs": [
    {
     "name": "stdout",
     "output_type": "stream",
     "text": [
      "The Markov Chain is reducible and is composed by:\n",
      "2 Recurrent classes:\n",
      "[array([0]), array([1])]\n",
      "Transient classes:\n"
     ]
    },
    {
     "ename": "NameError",
     "evalue": "name 'self' is not defined",
     "output_type": "error",
     "traceback": [
      "\u001b[0;31m---------------------------------------------------------------------------\u001b[0m",
      "\u001b[0;31mNameError\u001b[0m                                 Traceback (most recent call last)",
      "\u001b[0;32m<ipython-input-17-6c26cc7bf27f>\u001b[0m in \u001b[0;36m<module>\u001b[0;34m\u001b[0m\n\u001b[1;32m      6\u001b[0m \u001b[0mprint\u001b[0m\u001b[0;34m(\u001b[0m\u001b[0mmc\u001b[0m\u001b[0;34m.\u001b[0m\u001b[0mrecurrent_classes_indices\u001b[0m\u001b[0;34m,\u001b[0m \u001b[0msep\u001b[0m \u001b[0;34m=\u001b[0m \u001b[0;34m\", \"\u001b[0m\u001b[0;34m)\u001b[0m\u001b[0;34m\u001b[0m\u001b[0;34m\u001b[0m\u001b[0m\n\u001b[1;32m      7\u001b[0m \u001b[0mprint\u001b[0m\u001b[0;34m(\u001b[0m\u001b[0;34m\"Transient classes:\"\u001b[0m\u001b[0;34m)\u001b[0m\u001b[0;34m\u001b[0m\u001b[0;34m\u001b[0m\u001b[0m\n\u001b[0;32m----> 8\u001b[0;31m \u001b[0;32mif\u001b[0m \u001b[0mself\u001b[0m\u001b[0;34m.\u001b[0m\u001b[0mtransient_classes\u001b[0m \u001b[0;32mis\u001b[0m \u001b[0;32mNone\u001b[0m\u001b[0;34m:\u001b[0m\u001b[0;34m\u001b[0m\u001b[0;34m\u001b[0m\u001b[0m\n\u001b[0m\u001b[1;32m      9\u001b[0m     \u001b[0mprint\u001b[0m\u001b[0;34m(\u001b[0m\u001b[0;34m\"None\"\u001b[0m\u001b[0;34m)\u001b[0m\u001b[0;34m\u001b[0m\u001b[0;34m\u001b[0m\u001b[0m\n\u001b[1;32m     10\u001b[0m \u001b[0;32melse\u001b[0m\u001b[0;34m:\u001b[0m\u001b[0;34m\u001b[0m\u001b[0;34m\u001b[0m\u001b[0m\n",
      "\u001b[0;31mNameError\u001b[0m: name 'self' is not defined"
     ]
    }
   ],
   "source": [
    "if mc.is_irreducible:\n",
    "    print(\"The Markov Chain is irreducible and is composed by:\")\n",
    "else:\n",
    "    print(\"The Markov Chain is reducible and is composed by:\")\n",
    "print(\"{0} Recurrent classes:\".format(mc.num_recurrent_classes))\n",
    "print(mc.recurrent_classes_indices, sep = \", \")\n",
    "print(\"Transient classes:\")\n",
    "if self.transient_classes is None:\n",
    "    print(\"None\")\n",
    "else:\n",
    "    print(*self.transient_classes, sep = \", \")"
   ]
  },
  {
   "cell_type": "code",
   "execution_count": 17,
   "metadata": {},
   "outputs": [
    {
     "data": {
      "text/plain": [
       "True"
      ]
     },
     "execution_count": 17,
     "metadata": {},
     "output_type": "execute_result"
    }
   ],
   "source": [
    "all(np.array([0.5,0.5])<1)"
   ]
  },
  {
   "cell_type": "code",
   "execution_count": null,
   "metadata": {},
   "outputs": [],
   "source": []
  },
  {
   "cell_type": "code",
   "execution_count": 11,
   "metadata": {},
   "outputs": [
    {
     "data": {
      "text/plain": [
       "False"
      ]
     },
     "execution_count": 11,
     "metadata": {},
     "output_type": "execute_result"
    }
   ],
   "source": [
    "any(P.sum(axis=1))<1"
   ]
  },
  {
   "cell_type": "code",
   "execution_count": 23,
   "metadata": {},
   "outputs": [],
   "source": [
    "if not len([1]):\n",
    "    print(2)"
   ]
  },
  {
   "cell_type": "code",
   "execution_count": 26,
   "metadata": {},
   "outputs": [
    {
     "data": {
      "text/plain": [
       "2"
      ]
     },
     "execution_count": 26,
     "metadata": {},
     "output_type": "execute_result"
    }
   ],
   "source": [
    "mc.num_recurrent_classes"
   ]
  },
  {
   "cell_type": "code",
   "execution_count": 27,
   "metadata": {},
   "outputs": [
    {
     "data": {
      "text/plain": [
       "[array([0]), array([1])]"
      ]
     },
     "execution_count": 27,
     "metadata": {},
     "output_type": "execute_result"
    }
   ],
   "source": [
    "mc.recurrent_classes_indices"
   ]
  },
  {
   "cell_type": "code",
   "execution_count": 31,
   "metadata": {},
   "outputs": [
    {
     "ename": "TypeError",
     "evalue": "unhashable type: 'list'",
     "output_type": "error",
     "traceback": [
      "\u001b[0;31m---------------------------------------------------------------------------\u001b[0m",
      "\u001b[0;31mTypeError\u001b[0m                                 Traceback (most recent call last)",
      "\u001b[0;32m<ipython-input-31-6b690714732b>\u001b[0m in \u001b[0;36m<module>\u001b[0;34m\u001b[0m\n\u001b[0;32m----> 1\u001b[0;31m \u001b[0mset\u001b[0m\u001b[0;34m(\u001b[0m\u001b[0mlist\u001b[0m\u001b[0;34m(\u001b[0m\u001b[0mmap\u001b[0m\u001b[0;34m(\u001b[0m\u001b[0mlist\u001b[0m\u001b[0;34m,\u001b[0m\u001b[0mmc\u001b[0m\u001b[0;34m.\u001b[0m\u001b[0mcommunication_classes_indices\u001b[0m\u001b[0;34m)\u001b[0m\u001b[0;34m)\u001b[0m\u001b[0;34m)\u001b[0m\u001b[0;34m\u001b[0m\u001b[0;34m\u001b[0m\u001b[0m\n\u001b[0m",
      "\u001b[0;31mTypeError\u001b[0m: unhashable type: 'list'"
     ]
    }
   ],
   "source": [
    "set(list(map(list,mc.communication_classes_indices)))"
   ]
  },
  {
   "cell_type": "code",
   "execution_count": 34,
   "metadata": {},
   "outputs": [
    {
     "data": {
      "text/plain": [
       "[array([0]), array([1]), array([3, 4]), array([2])]"
      ]
     },
     "execution_count": 34,
     "metadata": {},
     "output_type": "execute_result"
    }
   ],
   "source": [
    "mc.communication_classes_indices"
   ]
  },
  {
   "cell_type": "code",
   "execution_count": 38,
   "metadata": {},
   "outputs": [
    {
     "data": {
      "text/plain": [
       "array([0])"
      ]
     },
     "execution_count": 38,
     "metadata": {},
     "output_type": "execute_result"
    }
   ],
   "source": [
    "np.array(tuple(np.array([0])))"
   ]
  },
  {
   "cell_type": "code",
   "execution_count": 33,
   "metadata": {},
   "outputs": [
    {
     "data": {
      "text/plain": [
       "{(0,), (1,), (2,), (3, 4)}"
      ]
     },
     "execution_count": 33,
     "metadata": {},
     "output_type": "execute_result"
    }
   ],
   "source": [
    "set(list(map(tuple,mc.communication_classes_indices)))"
   ]
  },
  {
   "cell_type": "code",
   "execution_count": 43,
   "metadata": {},
   "outputs": [],
   "source": [
    "transient = set(list(map(tuple,mc.communication_classes_indices))).difference(\n",
    "    set(list(map(tuple,mc.recurrent_classes_indices))))"
   ]
  },
  {
   "cell_type": "code",
   "execution_count": 46,
   "metadata": {},
   "outputs": [],
   "source": [
    "transient = set(list(map(tuple,mc.communication_classes_indices))).difference(\n",
    "    set(list(map(tuple,mc.recurrent_classes_indices))))"
   ]
  },
  {
   "cell_type": "code",
   "execution_count": 47,
   "metadata": {},
   "outputs": [
    {
     "data": {
      "text/plain": [
       "{(2,), (3, 4)}"
      ]
     },
     "execution_count": 47,
     "metadata": {},
     "output_type": "execute_result"
    }
   ],
   "source": [
    "transient"
   ]
  },
  {
   "cell_type": "code",
   "execution_count": 51,
   "metadata": {},
   "outputs": [
    {
     "name": "stdout",
     "output_type": "stream",
     "text": [
      "[0] [1] [3 4] [2]\n"
     ]
    }
   ],
   "source": [
    "print(*mc.communication_classes_indices)"
   ]
  },
  {
   "cell_type": "code",
   "execution_count": 56,
   "metadata": {},
   "outputs": [
    {
     "name": "stdout",
     "output_type": "stream",
     "text": [
      "[1] [2]\n"
     ]
    }
   ],
   "source": [
    "print(*[[1],[2]])"
   ]
  },
  {
   "cell_type": "code",
   "execution_count": 58,
   "metadata": {},
   "outputs": [
    {
     "name": "stdout",
     "output_type": "stream",
     "text": [
      "[1]\n"
     ]
    }
   ],
   "source": [
    "print(*[[1]])"
   ]
  },
  {
   "cell_type": "code",
   "execution_count": null,
   "metadata": {},
   "outputs": [],
   "source": [
    "mc.is_irreducible"
   ]
  },
  {
   "cell_type": "code",
   "execution_count": 55,
   "metadata": {},
   "outputs": [
    {
     "name": "stdout",
     "output_type": "stream",
     "text": [
      "Markov Chain is composed by:\n",
      "Recurrent classes:\n",
      "[0], [1]\n",
      "Transient classes:\n",
      "[0], [1], [3 4], [2]\n"
     ]
    }
   ],
   "source": [
    "print(\"Markov Chain is composed by:\\n\"\n",
    "              \"Recurrent classes:\")\n",
    "print(*mc.recurrent_classes_indices, sep = \", \")\n",
    "print(\"Transient classes:\")\n",
    "if transient_classes is None:\n",
    "    print(\"None\")\n",
    "else:\n",
    "    print(*mc.communication_classes_indices, sep = \", \")"
   ]
  },
  {
   "cell_type": "code",
   "execution_count": 48,
   "metadata": {},
   "outputs": [
    {
     "data": {
      "text/plain": [
       "[array([2]), array([3, 4])]"
      ]
     },
     "execution_count": 48,
     "metadata": {},
     "output_type": "execute_result"
    }
   ],
   "source": [
    "[np.asarray(i) for i in transient]"
   ]
  },
  {
   "cell_type": "code",
   "execution_count": 42,
   "metadata": {},
   "outputs": [
    {
     "data": {
      "text/plain": [
       "0"
      ]
     },
     "execution_count": 42,
     "metadata": {},
     "output_type": "execute_result"
    }
   ],
   "source": [
    "len(set({1}).difference(set({1})))"
   ]
  },
  {
   "cell_type": "code",
   "execution_count": null,
   "metadata": {},
   "outputs": [],
   "source": []
  },
  {
   "cell_type": "code",
   "execution_count": 25,
   "metadata": {},
   "outputs": [
    {
     "name": "stdout",
     "output_type": "stream",
     "text": [
      "[array([0]), array([1])] None\n"
     ]
    }
   ],
   "source": [
    "recurrent_classes = []\n",
    "transient_classes = []\n",
    "for cclass in mc.communication_classes_indices:\n",
    "    rows = cclass[:, np.newaxis]\n",
    "    p_temp = P[rows, cclass]\n",
    "    if all(p_temp.sum(axis=1)<1):\n",
    "        transient_classes.append(cclass)\n",
    "    else:\n",
    "        recurrent_classes.append(cclass)\n",
    "if not len(transient_classes):\n",
    "    transient_classes = None\n",
    "transient_classes = None    \n",
    "print(recurrent_classes, transient_classes)"
   ]
  },
  {
   "cell_type": "code",
   "execution_count": null,
   "metadata": {},
   "outputs": [],
   "source": []
  },
  {
   "cell_type": "code",
   "execution_count": 86,
   "metadata": {},
   "outputs": [
    {
     "data": {
      "text/plain": [
       "array([1. , 0. , 0. , 0. , 0. , 0. , 1. , 0. , 0. , 0. , 0. , 0. , 0. ,\n",
       "       0.5, 0.5, 0. , 0.5, 0. , 0. , 0.5, 0.5, 0. , 0. , 0.5, 0. ])"
      ]
     },
     "execution_count": 86,
     "metadata": {},
     "output_type": "execute_result"
    }
   ],
   "source": [
    "P.flatten()"
   ]
  },
  {
   "cell_type": "code",
   "execution_count": 81,
   "metadata": {},
   "outputs": [
    {
     "data": {
      "text/plain": [
       "array([[0.2, 0.8, 0. , 0. , 0. ],\n",
       "       [0.4, 0.6, 0. , 0. , 0. ],\n",
       "       [0. , 0. , 0. , 0.5, 0.5],\n",
       "       [0. , 0.5, 0. , 0. , 0.5],\n",
       "       [0.5, 0. , 0. , 0.5, 0. ]])"
      ]
     },
     "execution_count": 81,
     "metadata": {},
     "output_type": "execute_result"
    }
   ],
   "source": [
    "P2 = np.array([[0.2, 0.8,0,0,0],\n",
    "              [0.4,0.6,0,0,0],\n",
    "              [0, 0,0,0.5, 0.5],\n",
    "             [0,0.5,0, 0, 0.5],\n",
    "             [0.5,0, 0, 0.5, 0]])\n",
    "P2"
   ]
  },
  {
   "cell_type": "code",
   "execution_count": 82,
   "metadata": {},
   "outputs": [
    {
     "data": {
      "text/plain": [
       "[array([0, 1])]"
      ]
     },
     "execution_count": 82,
     "metadata": {},
     "output_type": "execute_result"
    }
   ],
   "source": [
    "mc2 = qe.MarkovChain(P2)\n",
    "mc2.recurrent_classes_indices"
   ]
  },
  {
   "cell_type": "code",
   "execution_count": 85,
   "metadata": {},
   "outputs": [
    {
     "name": "stdout",
     "output_type": "stream",
     "text": [
      "[[0.2 0.8]\n",
      " [0.4 0.6]]\n"
     ]
    }
   ],
   "source": [
    "rec_classes = mc2.recurrent_classes_indices\n",
    "for i, rec_class in enumerate(rec_classes):\n",
    "    P_rec_class = P2[np.ix_(rec_class, rec_class)]\n",
    "    print(P_rec_class)"
   ]
  },
  {
   "cell_type": "code",
   "execution_count": 72,
   "metadata": {},
   "outputs": [],
   "source": [
    "mc = qe.MarkovChain(P)"
   ]
  },
  {
   "cell_type": "code",
   "execution_count": 75,
   "metadata": {},
   "outputs": [],
   "source": [
    "mc_graph = mc.digraph"
   ]
  },
  {
   "cell_type": "code",
   "execution_count": 76,
   "metadata": {},
   "outputs": [
    {
     "data": {
      "text/plain": [
       "2"
      ]
     },
     "execution_count": 76,
     "metadata": {},
     "output_type": "execute_result"
    }
   ],
   "source": [
    "mc_graph.num_sink_strongly_connected_components"
   ]
  },
  {
   "cell_type": "code",
   "execution_count": 68,
   "metadata": {},
   "outputs": [
    {
     "data": {
      "text/plain": [
       "[array([0]), array([1])]"
      ]
     },
     "execution_count": 68,
     "metadata": {},
     "output_type": "execute_result"
    }
   ],
   "source": [
    "mc.recurrent_classes_indices"
   ]
  },
  {
   "cell_type": "code",
   "execution_count": 69,
   "metadata": {},
   "outputs": [
    {
     "data": {
      "text/plain": [
       "[array([0]), array([1]), array([3, 4]), array([2])]"
      ]
     },
     "execution_count": 69,
     "metadata": {},
     "output_type": "execute_result"
    }
   ],
   "source": [
    "mc.communication_classes_indices"
   ]
  },
  {
   "cell_type": "code",
   "execution_count": null,
   "metadata": {},
   "outputs": [],
   "source": []
  },
  {
   "cell_type": "code",
   "execution_count": 78,
   "metadata": {},
   "outputs": [
    {
     "data": {
      "text/plain": [
       "[array([0]), array([1])]"
      ]
     },
     "execution_count": 78,
     "metadata": {},
     "output_type": "execute_result"
    }
   ],
   "source": [
    "rec_classes = mc.recurrent_classes_indices\n",
    "rec_classes"
   ]
  },
  {
   "cell_type": "code",
   "execution_count": 80,
   "metadata": {},
   "outputs": [
    {
     "name": "stdout",
     "output_type": "stream",
     "text": [
      "[[1.]]\n",
      "[[1.]]\n"
     ]
    }
   ],
   "source": [
    "for i, rec_class in enumerate(rec_classes):\n",
    "    P_rec_class = P[np.ix_(rec_class, rec_class)]\n",
    "    print(P_rec_class)"
   ]
  },
  {
   "cell_type": "code",
   "execution_count": null,
   "metadata": {},
   "outputs": [],
   "source": []
  },
  {
   "cell_type": "code",
   "execution_count": 52,
   "metadata": {},
   "outputs": [
    {
     "data": {
      "text/plain": [
       "[0, 1]"
      ]
     },
     "execution_count": 52,
     "metadata": {},
     "output_type": "execute_result"
    }
   ],
   "source": [
    "recurrent_indices = []\n",
    "for i in mc.recurrent_classes_indices:\n",
    "    recurrent_indices.extend(list(i))\n",
    "recurrent_indices"
   ]
  },
  {
   "cell_type": "code",
   "execution_count": 64,
   "metadata": {},
   "outputs": [
    {
     "data": {
      "text/plain": [
       "array([2, 3, 4])"
      ]
     },
     "execution_count": 64,
     "metadata": {},
     "output_type": "execute_result"
    }
   ],
   "source": [
    "k = len(P)\n",
    "transient_indices = np.array(list(set(range(k)).difference(set(recurrent_indices))))\n",
    "recurrent_indices = np.array(recurrent_indices)\n",
    "transient_indices "
   ]
  },
  {
   "cell_type": "code",
   "execution_count": 90,
   "metadata": {},
   "outputs": [
    {
     "name": "stdout",
     "output_type": "stream",
     "text": [
      "[[0.  0.5 0.5]\n",
      " [0.  0.  0.5]\n",
      " [0.  0.5 0. ]] [[1. 0.]\n",
      " [0. 1.]] [[0.  0. ]\n",
      " [0.  0.5]\n",
      " [0.5 0. ]]\n"
     ]
    }
   ],
   "source": [
    "# rows = \n",
    "Q = P[transient_indices[:, np.newaxis], transient_indices]\n",
    "S = P[recurrent_indices[:, np.newaxis], recurrent_indices]\n",
    "R = P[transient_indices[:, np.newaxis], recurrent_indices]\n",
    "print(Q,S,R)"
   ]
  },
  {
   "cell_type": "code",
   "execution_count": 94,
   "metadata": {},
   "outputs": [],
   "source": [
    "def expected_steps_fast(Q):\n",
    "    I = np.identity(Q.shape[0])\n",
    "    o = np.ones(Q.shape[0])\n",
    "    return(np.linalg.solve(I-Q, o))"
   ]
  },
  {
   "cell_type": "code",
   "execution_count": 95,
   "metadata": {},
   "outputs": [
    {
     "data": {
      "text/plain": [
       "array([3., 2., 2.])"
      ]
     },
     "execution_count": 95,
     "metadata": {},
     "output_type": "execute_result"
    }
   ],
   "source": [
    "expected_steps_fast(Q)"
   ]
  },
  {
   "cell_type": "code",
   "execution_count": null,
   "metadata": {},
   "outputs": [],
   "source": []
  },
  {
   "cell_type": "markdown",
   "metadata": {},
   "source": [
    "## the fundamental matrix N: \n",
    "\n",
    "$n_{ij}$:the mean of the total number of times the process is in transient state j given it started in transient state i"
   ]
  },
  {
   "cell_type": "code",
   "execution_count": 66,
   "metadata": {},
   "outputs": [
    {
     "data": {
      "text/plain": [
       "array([[1.        , 1.        , 1.        ],\n",
       "       [0.        , 1.33333333, 0.66666667],\n",
       "       [0.        , 0.66666667, 1.33333333]])"
      ]
     },
     "execution_count": 66,
     "metadata": {},
     "output_type": "execute_result"
    }
   ],
   "source": [
    "# norm_Q = Q/Q.sum(axis=1)\n",
    "I = np.identity(len(Q))\n",
    "N = inv(I-Q)\n",
    "N"
   ]
  },
  {
   "cell_type": "code",
   "execution_count": 67,
   "metadata": {},
   "outputs": [
    {
     "data": {
      "text/plain": [
       "array([[ 1. , -0.5, -0.5],\n",
       "       [ 0. ,  1. , -0.5],\n",
       "       [ 0. , -0.5,  1. ]])"
      ]
     },
     "execution_count": 67,
     "metadata": {},
     "output_type": "execute_result"
    }
   ],
   "source": [
    "I-Q"
   ]
  },
  {
   "cell_type": "code",
   "execution_count": 36,
   "metadata": {},
   "outputs": [
    {
     "data": {
      "text/plain": [
       "array([[0. , 0.5, 0.5],\n",
       "       [0. , 0. , 0.5],\n",
       "       [0. , 0.5, 0. ]])"
      ]
     },
     "execution_count": 36,
     "metadata": {},
     "output_type": "execute_result"
    }
   ],
   "source": [
    "Q = np.array([[0, 0.5, 0.5],\n",
    "             [0, 0, 0.5],\n",
    "             [0, 0.5, 0]])\n",
    "Q"
   ]
  },
  {
   "cell_type": "code",
   "execution_count": 37,
   "metadata": {},
   "outputs": [
    {
     "data": {
      "text/plain": [
       "array([[1., 0., 0.],\n",
       "       [0., 1., 0.],\n",
       "       [0., 0., 1.]])"
      ]
     },
     "execution_count": 37,
     "metadata": {},
     "output_type": "execute_result"
    }
   ],
   "source": [
    "I = np.identity(len(Q))\n",
    "I"
   ]
  },
  {
   "cell_type": "code",
   "execution_count": 38,
   "metadata": {},
   "outputs": [
    {
     "data": {
      "text/plain": [
       "array([[1.        , 1.        , 1.        ],\n",
       "       [0.        , 1.33333333, 0.66666667],\n",
       "       [0.        , 0.66666667, 1.33333333]])"
      ]
     },
     "execution_count": 38,
     "metadata": {},
     "output_type": "execute_result"
    }
   ],
   "source": [
    "from numpy.linalg import inv\n",
    "N = inv(I-Q)\n",
    "N"
   ]
  },
  {
   "cell_type": "code",
   "execution_count": null,
   "metadata": {},
   "outputs": [],
   "source": []
  },
  {
   "cell_type": "code",
   "execution_count": 71,
   "metadata": {},
   "outputs": [
    {
     "data": {
      "text/plain": [
       "array([[1.33333333, 0.66666667],\n",
       "       [0.66666667, 1.33333333]])"
      ]
     },
     "execution_count": 71,
     "metadata": {},
     "output_type": "execute_result"
    }
   ],
   "source": [
    "Q = np.array([[0, 0.5],\n",
    "             [0.5, 0]])\n",
    "I = np.identity(len(Q))\n",
    "N = inv(I-Q)\n",
    "N"
   ]
  },
  {
   "cell_type": "code",
   "execution_count": null,
   "metadata": {},
   "outputs": [],
   "source": []
  },
  {
   "cell_type": "code",
   "execution_count": 11,
   "metadata": {},
   "outputs": [],
   "source": [
    "sm = Spatial_Markov(rpci, w, fixed=True, k=5, m=5)"
   ]
  },
  {
   "cell_type": "code",
   "execution_count": 13,
   "metadata": {},
   "outputs": [
    {
     "data": {
      "text/plain": [
       "array([[  2.29835259,  28.95614035,  46.14285714,  80.80952381,\n",
       "        279.42857143],\n",
       "       [ 33.86549708,   3.79459555,  22.57142857,  57.23809524,\n",
       "        255.85714286],\n",
       "       [ 43.60233918,   9.73684211,   4.91085714,  34.66666667,\n",
       "        233.28571429],\n",
       "       [ 46.62865497,  12.76315789,   6.25714286,  14.61564626,\n",
       "        198.61904762],\n",
       "       [ 52.62865497,  18.76315789,  12.25714286,   6.        ,\n",
       "         34.1031746 ]])"
      ]
     },
     "execution_count": 13,
     "metadata": {},
     "output_type": "execute_result"
    }
   ],
   "source": [
    "sm.F[0]"
   ]
  },
  {
   "cell_type": "code",
   "execution_count": 4,
   "metadata": {},
   "outputs": [],
   "source": [
    "cc = np.array([0.8, 0.9, 1, 1.2])\n",
    "sm = Spatial_Markov(rpci, w, cutoffs=cc, lag_cutoffs=cc)"
   ]
  },
  {
   "cell_type": "code",
   "execution_count": 5,
   "metadata": {},
   "outputs": [],
   "source": [
    "sm = Spatial_Markov(rpci, w, cutoffs=cc, lag_cutoffs=cc, fill_diag=True)"
   ]
  },
  {
   "cell_type": "code",
   "execution_count": 9,
   "metadata": {},
   "outputs": [
    {
     "data": {
      "text/plain": [
       "array([0.03607655, 0.22667277, 0.25883041, 0.43607249, 0.04234777])"
      ]
     },
     "execution_count": 9,
     "metadata": {},
     "output_type": "execute_result"
    }
   ],
   "source": [
    "sm.S[2]"
   ]
  },
  {
   "cell_type": "code",
   "execution_count": 18,
   "metadata": {},
   "outputs": [
    {
     "data": {
      "text/plain": [
       "array([[0.19044059, 0.29836464, 0.50387978],\n",
       "       [0.38069295, 0.8113362 , 0.61993731]])"
      ]
     },
     "execution_count": 18,
     "metadata": {},
     "output_type": "execute_result"
    }
   ],
   "source": [
    "a = np.random.random((2,3))\n",
    "a"
   ]
  },
  {
   "cell_type": "code",
   "execution_count": 19,
   "metadata": {},
   "outputs": [
    {
     "data": {
      "text/plain": [
       "array([0.66913524, 0.81527363, 0.80146708])"
      ]
     },
     "execution_count": 19,
     "metadata": {},
     "output_type": "execute_result"
    }
   ],
   "source": [
    "b = np.random.random((3,))\n",
    "b"
   ]
  },
  {
   "cell_type": "code",
   "execution_count": 31,
   "metadata": {},
   "outputs": [
    {
     "data": {
      "text/plain": [
       "array([array([[0.19044059, 0.29836464, 0.50387978],\n",
       "       [0.38069295, 0.8113362 , 0.61993731]]),\n",
       "       array([0.66913524, 0.81527363, 0.80146708])], dtype=object)"
      ]
     },
     "execution_count": 31,
     "metadata": {},
     "output_type": "execute_result"
    }
   ],
   "source": [
    "np.array([a,b])"
   ]
  },
  {
   "cell_type": "code",
   "execution_count": 21,
   "metadata": {},
   "outputs": [
    {
     "data": {
      "text/plain": [
       "[array([[0.19044059, 0.29836464, 0.50387978],\n",
       "        [0.38069295, 0.8113362 , 0.61993731]]),\n",
       " array([0.66913524, 0.81527363, 0.80146708])]"
      ]
     },
     "execution_count": 21,
     "metadata": {},
     "output_type": "execute_result"
    }
   ],
   "source": [
    "list([a,b])"
   ]
  },
  {
   "cell_type": "code",
   "execution_count": 25,
   "metadata": {},
   "outputs": [
    {
     "data": {
      "text/plain": [
       "dtype('float64')"
      ]
     },
     "execution_count": 25,
     "metadata": {},
     "output_type": "execute_result"
    }
   ],
   "source": [
    "a.dtype"
   ]
  },
  {
   "cell_type": "code",
   "execution_count": 29,
   "metadata": {},
   "outputs": [
    {
     "name": "stdout",
     "output_type": "stream",
     "text": [
      "0\n"
     ]
    }
   ],
   "source": [
    "if np.array(list([a,b])).dtype is np.dtype('O'):\n",
    "    print(0)"
   ]
  },
  {
   "cell_type": "code",
   "execution_count": 30,
   "metadata": {},
   "outputs": [],
   "source": [
    "if a.dtype is np.dtype('O'):\n",
    "    print(0)"
   ]
  },
  {
   "cell_type": "code",
   "execution_count": null,
   "metadata": {},
   "outputs": [],
   "source": [
    "np.array(list([a,b])).dtype"
   ]
  },
  {
   "cell_type": "code",
   "execution_count": 24,
   "metadata": {},
   "outputs": [
    {
     "data": {
      "text/plain": [
       "dtype('O')"
      ]
     },
     "execution_count": 24,
     "metadata": {},
     "output_type": "execute_result"
    }
   ],
   "source": [
    "np.array(list([a,b])).dtype"
   ]
  },
  {
   "cell_type": "code",
   "execution_count": null,
   "metadata": {},
   "outputs": [],
   "source": []
  },
  {
   "cell_type": "code",
   "execution_count": 12,
   "metadata": {},
   "outputs": [
    {
     "data": {
      "text/plain": [
       "array([[[0.96703297, 0.03296703, 0.        , 0.        , 0.        ],\n",
       "        [0.10638298, 0.68085106, 0.21276596, 0.        , 0.        ],\n",
       "        [0.        , 0.14285714, 0.7755102 , 0.08163265, 0.        ],\n",
       "        [0.        , 0.        , 0.5       , 0.5       , 0.        ],\n",
       "        [0.        , 0.        , 0.        , 0.        , 1.        ]],\n",
       "\n",
       "       [[0.88636364, 0.10606061, 0.00757576, 0.        , 0.        ],\n",
       "        [0.04402516, 0.89308176, 0.06289308, 0.        , 0.        ],\n",
       "        [0.        , 0.05882353, 0.8627451 , 0.07843137, 0.        ],\n",
       "        [0.        , 0.        , 0.13846154, 0.86153846, 0.        ],\n",
       "        [0.        , 0.        , 0.        , 0.        , 1.        ]],\n",
       "\n",
       "       [[0.78082192, 0.17808219, 0.02739726, 0.01369863, 0.        ],\n",
       "        [0.03488372, 0.90406977, 0.05813953, 0.00290698, 0.        ],\n",
       "        [0.        , 0.05919003, 0.84735202, 0.09034268, 0.00311526],\n",
       "        [0.        , 0.        , 0.05811623, 0.92985972, 0.01202405],\n",
       "        [0.        , 0.        , 0.        , 0.14285714, 0.85714286]],\n",
       "\n",
       "       [[0.82692308, 0.15384615, 0.        , 0.01923077, 0.        ],\n",
       "        [0.0703125 , 0.7890625 , 0.125     , 0.015625  , 0.        ],\n",
       "        [0.00295858, 0.06213018, 0.82248521, 0.10946746, 0.00295858],\n",
       "        [0.        , 0.00185529, 0.07606679, 0.88497217, 0.03710575],\n",
       "        [0.        , 0.        , 0.        , 0.07803468, 0.92196532]],\n",
       "\n",
       "       [[1.        , 0.        , 0.        , 0.        , 0.        ],\n",
       "        [0.        , 1.        , 0.        , 0.        , 0.        ],\n",
       "        [0.        , 0.06666667, 0.9       , 0.03333333, 0.        ],\n",
       "        [0.        , 0.        , 0.05660377, 0.90566038, 0.03773585],\n",
       "        [0.        , 0.        , 0.        , 0.03932584, 0.96067416]]])"
      ]
     },
     "execution_count": 12,
     "metadata": {},
     "output_type": "execute_result"
    }
   ],
   "source": [
    "sm.P"
   ]
  },
  {
   "cell_type": "code",
   "execution_count": null,
   "metadata": {},
   "outputs": [],
   "source": []
  },
  {
   "cell_type": "code",
   "execution_count": null,
   "metadata": {},
   "outputs": [],
   "source": []
  },
  {
   "cell_type": "code",
   "execution_count": null,
   "metadata": {},
   "outputs": [],
   "source": []
  },
  {
   "cell_type": "code",
   "execution_count": 42,
   "metadata": {},
   "outputs": [],
   "source": [
    "f = ps.io.open(ps.examples.get_path('usjoin.csv'))\n",
    "pci = np.array([f.by_col[str(y)] for y in range(1929, 2010)])\n",
    "q5 = np.array([mc.Quantiles(y).yb for y in pci]).transpose()\n",
    "m = Markov(q5)"
   ]
  },
  {
   "cell_type": "code",
   "execution_count": 43,
   "metadata": {},
   "outputs": [
    {
     "data": {
      "text/plain": [
       "array([0.20774716, 0.18725774, 0.20740537, 0.18821787, 0.20937187])"
      ]
     },
     "execution_count": 43,
     "metadata": {},
     "output_type": "execute_result"
    }
   ],
   "source": [
    "m.steady_state"
   ]
  },
  {
   "cell_type": "code",
   "execution_count": 44,
   "metadata": {},
   "outputs": [
    {
     "data": {
      "text/plain": [
       "array([[  4.81354357,  11.50292712,  29.60921231,  53.38594954,\n",
       "        103.59816743],\n",
       "       [ 42.04774505,   5.34023324,  18.74455332,  42.50023268,\n",
       "         92.71316899],\n",
       "       [ 69.25849753,  27.21075248,   4.82147603,  25.27184624,\n",
       "         75.43305672],\n",
       "       [ 84.90689329,  42.85914824,  17.18082642,   5.31299186,\n",
       "         51.60953369],\n",
       "       [ 98.41295543,  56.36521038,  30.66046735,  14.21158356,\n",
       "          4.77619083]])"
      ]
     },
     "execution_count": 44,
     "metadata": {},
     "output_type": "execute_result"
    }
   ],
   "source": [
    "m.fmpt"
   ]
  },
  {
   "cell_type": "code",
   "execution_count": 45,
   "metadata": {},
   "outputs": [
    {
     "data": {
      "text/plain": [
       "array([11.125     ,  4.65806452,  4.73372781,  4.95172414, 13.77586207])"
      ]
     },
     "execution_count": 45,
     "metadata": {},
     "output_type": "execute_result"
    }
   ],
   "source": [
    "m.sojourn_time"
   ]
  },
  {
   "cell_type": "code",
   "execution_count": 46,
   "metadata": {},
   "outputs": [
    {
     "data": {
      "text/plain": [
       "array([11.125     ,  4.65806452,  4.73372781,  4.95172414, 13.77586207])"
      ]
     },
     "execution_count": 46,
     "metadata": {},
     "output_type": "execute_result"
    }
   ],
   "source": [
    "sojourn_time(m.p)"
   ]
  },
  {
   "cell_type": "code",
   "execution_count": 9,
   "metadata": {},
   "outputs": [
    {
     "data": {
      "text/plain": [
       "array([[0, 0, 0, ..., 0, 0, 0],\n",
       "       [2, 2, 2, ..., 1, 1, 0],\n",
       "       [0, 0, 0, ..., 0, 0, 0],\n",
       "       ...,\n",
       "       [1, 1, 1, ..., 0, 0, 0],\n",
       "       [3, 3, 2, ..., 2, 2, 2],\n",
       "       [3, 3, 3, ..., 4, 4, 4]])"
      ]
     },
     "execution_count": 9,
     "metadata": {},
     "output_type": "execute_result"
    }
   ],
   "source": [
    "q5"
   ]
  },
  {
   "cell_type": "code",
   "execution_count": 10,
   "metadata": {},
   "outputs": [
    {
     "data": {
      "text/plain": [
       "array([0, 2, 0, 4, 2, 4, 4, 2, 0, 1, 4, 3, 2, 1, 0, 1, 2, 4, 4, 3, 2, 0,\n",
       "       2, 3, 1, 4, 3, 4, 1, 4, 0, 0, 3, 1, 3, 3, 4, 0, 0, 0, 1, 2, 2, 1,\n",
       "       3, 1, 2, 3])"
      ]
     },
     "execution_count": 10,
     "metadata": {},
     "output_type": "execute_result"
    }
   ],
   "source": [
    "q5[:,10]"
   ]
  },
  {
   "cell_type": "code",
   "execution_count": 11,
   "metadata": {},
   "outputs": [
    {
     "data": {
      "text/plain": [
       "array([[10.,  0.,  0.,  0.,  0.],\n",
       "       [ 0.,  9.,  0.,  0.,  0.],\n",
       "       [ 0.,  0., 10.,  0.,  0.],\n",
       "       [ 0.,  0.,  0.,  9.,  0.],\n",
       "       [ 0.,  0.,  0.,  0., 10.]])"
      ]
     },
     "execution_count": 11,
     "metadata": {},
     "output_type": "execute_result"
    }
   ],
   "source": [
    "m2 = Markov(q5[:,10:12])\n",
    "m2.transitions"
   ]
  },
  {
   "cell_type": "code",
   "execution_count": 12,
   "metadata": {},
   "outputs": [
    {
     "data": {
      "text/plain": [
       "array([[1.        , 0.        , 0.        , 0.        , 0.        ],\n",
       "       [0.        , 0.88888889, 0.11111111, 0.        , 0.        ],\n",
       "       [0.        , 0.09090909, 0.81818182, 0.09090909, 0.        ],\n",
       "       [0.        , 0.        , 0.        , 1.        , 0.        ],\n",
       "       [0.        , 0.        , 0.        , 0.1       , 0.9       ]])"
      ]
     },
     "execution_count": 12,
     "metadata": {},
     "output_type": "execute_result"
    }
   ],
   "source": [
    "m2 = Markov(q5[:,:2])\n",
    "m2.p"
   ]
  },
  {
   "cell_type": "code",
   "execution_count": 13,
   "metadata": {},
   "outputs": [
    {
     "data": {
      "text/plain": [
       "inf"
      ]
     },
     "execution_count": 13,
     "metadata": {},
     "output_type": "execute_result"
    }
   ],
   "source": [
    "np.inf"
   ]
  },
  {
   "cell_type": "code",
   "execution_count": 15,
   "metadata": {},
   "outputs": [],
   "source": [
    "p = m2.p\n",
    "pii = p.diagonal()"
   ]
  },
  {
   "cell_type": "code",
   "execution_count": 16,
   "metadata": {},
   "outputs": [
    {
     "data": {
      "text/plain": [
       "array([1.        , 0.88888889, 0.81818182, 1.        , 0.9       ])"
      ]
     },
     "execution_count": 16,
     "metadata": {},
     "output_type": "execute_result"
    }
   ],
   "source": [
    "pii"
   ]
  },
  {
   "cell_type": "code",
   "execution_count": 20,
   "metadata": {},
   "outputs": [
    {
     "data": {
      "text/plain": [
       "array([0, 3])"
      ]
     },
     "execution_count": 20,
     "metadata": {},
     "output_type": "execute_result"
    }
   ],
   "source": [
    "np.where(pii==1)[0]"
   ]
  },
  {
   "cell_type": "code",
   "execution_count": 39,
   "metadata": {},
   "outputs": [
    {
     "data": {
      "text/plain": [
       "array([inf, inf, inf, inf, inf])"
      ]
     },
     "execution_count": 39,
     "metadata": {},
     "output_type": "execute_result"
    }
   ],
   "source": [
    "np.full(len(pii), np.inf)"
   ]
  },
  {
   "cell_type": "code",
   "execution_count": null,
   "metadata": {},
   "outputs": [],
   "source": []
  },
  {
   "cell_type": "code",
   "execution_count": 40,
   "metadata": {},
   "outputs": [],
   "source": [
    "def sojourn_time(p):\n",
    "    \"\"\"\n",
    "    Calculate sojourn time based on a given transition probability matrix.\n",
    "\n",
    "    \"\"\"\n",
    "    p = np.asarray(p)\n",
    "    pii = p.diagonal()\n",
    "\n",
    "    if not (1 - pii).all():\n",
    "        absorbing_states = np.where(pii==1)[0]\n",
    "        non_absorbing_states = np.where(pii!=1)[0]\n",
    "        st = np.full(len(pii), np.inf)\n",
    "        print(\"Sojourn times are infinite for absorbing states! In this Markov Chain, states {} are absorbing states.\".format(list(absorbing_states)))\n",
    "        st[non_absorbing_states] = 1 / (1 - pii[non_absorbing_states])\n",
    "    else:\n",
    "        st = 1 / (1 - pii)\n",
    "    return st"
   ]
  },
  {
   "cell_type": "code",
   "execution_count": null,
   "metadata": {},
   "outputs": [],
   "source": []
  },
  {
   "cell_type": "code",
   "execution_count": 47,
   "metadata": {},
   "outputs": [],
   "source": [
    "p2 = np.array([[.5, .5, 0], [.3, .7, 0], [0, 0, 1]])"
   ]
  },
  {
   "cell_type": "code",
   "execution_count": 48,
   "metadata": {},
   "outputs": [
    {
     "name": "stdout",
     "output_type": "stream",
     "text": [
      "Sojourn times are infinite for absorbing states! In this Markov Chain, states [2] are absorbing states.\n"
     ]
    },
    {
     "data": {
      "text/plain": [
       "array([2.        , 3.33333333,        inf])"
      ]
     },
     "execution_count": 48,
     "metadata": {},
     "output_type": "execute_result"
    }
   ],
   "source": [
    "sojourn_time(p2)"
   ]
  },
  {
   "cell_type": "code",
   "execution_count": 41,
   "metadata": {},
   "outputs": [
    {
     "name": "stdout",
     "output_type": "stream",
     "text": [
      "Sojourn times are infinite for absorbing states! In this Markov Chain, states [0, 3] are absorbing states.\n"
     ]
    },
    {
     "data": {
      "text/plain": [
       "array([ inf,  9. ,  5.5,  inf, 10. ])"
      ]
     },
     "execution_count": 41,
     "metadata": {},
     "output_type": "execute_result"
    }
   ],
   "source": [
    "sojourn_time(p)"
   ]
  },
  {
   "cell_type": "code",
   "execution_count": 48,
   "metadata": {},
   "outputs": [
    {
     "data": {
      "text/plain": [
       "array([[1.        ,        inf,        inf,        inf,        inf],\n",
       "       [       inf, 1.78305684, 8.65447755,        inf,        inf],\n",
       "       [       inf, 7.393034  , 2.2770465 ,        inf,        inf],\n",
       "       [       inf,        inf,        inf, 1.        ,        inf],\n",
       "       [       inf,        inf,        inf,        inf, 1.        ]])"
      ]
     },
     "execution_count": 48,
     "metadata": {},
     "output_type": "execute_result"
    }
   ],
   "source": [
    "m2.fmpt"
   ]
  },
  {
   "cell_type": "code",
   "execution_count": 45,
   "metadata": {},
   "outputs": [
    {
     "data": {
      "text/plain": [
       "array([[1., 0., 0., 0., 0.],\n",
       "       [0., 0., 0., 1., 0.]])"
      ]
     },
     "execution_count": 45,
     "metadata": {},
     "output_type": "execute_result"
    }
   ],
   "source": [
    "m2.steady_state"
   ]
  },
  {
   "cell_type": "code",
   "execution_count": 44,
   "metadata": {},
   "outputs": [
    {
     "data": {
      "text/plain": [
       "array([[10.,  0.,  0.,  0.,  0.],\n",
       "       [ 0.,  8.,  1.,  0.,  0.],\n",
       "       [ 0.,  1.,  9.,  1.,  0.],\n",
       "       [ 0.,  0.,  0.,  8.,  0.],\n",
       "       [ 0.,  0.,  0.,  1.,  9.]])"
      ]
     },
     "execution_count": 44,
     "metadata": {},
     "output_type": "execute_result"
    }
   ],
   "source": [
    "m2.transitions"
   ]
  },
  {
   "cell_type": "code",
   "execution_count": 2,
   "metadata": {},
   "outputs": [
    {
     "data": {
      "text/plain": [
       "array([[0.5 , 0.25, 0.25],\n",
       "       [0.5 , 0.  , 0.5 ],\n",
       "       [0.25, 0.25, 0.5 ]])"
      ]
     },
     "execution_count": 2,
     "metadata": {},
     "output_type": "execute_result"
    }
   ],
   "source": [
    "p = np.array([[.5, .25, .25], [.5, 0, .5], [.25, .25, .5]])\n",
    "p"
   ]
  },
  {
   "cell_type": "code",
   "execution_count": 17,
   "metadata": {},
   "outputs": [
    {
     "data": {
      "text/plain": [
       "array([[0.5, 0.5, 0. ],\n",
       "       [0.3, 0.7, 0. ],\n",
       "       [0. , 0. , 1. ]])"
      ]
     },
     "execution_count": 17,
     "metadata": {},
     "output_type": "execute_result"
    }
   ],
   "source": [
    "p2 = np.array([[.5, .5, 0], [.3, .7, 0], [0, 0, 1]])\n",
    "p2"
   ]
  },
  {
   "cell_type": "code",
   "execution_count": 24,
   "metadata": {},
   "outputs": [
    {
     "data": {
      "text/plain": [
       "array([[0.5, 0.5, 0. ],\n",
       "       [0.3, 0.7, 0. ],\n",
       "       [0. , 0. , 0. ]])"
      ]
     },
     "execution_count": 24,
     "metadata": {},
     "output_type": "execute_result"
    }
   ],
   "source": [
    "p3 = np.array([[.5, .5, 0], [.3, .7, 0], [0, 0, 0]])\n",
    "p3"
   ]
  },
  {
   "cell_type": "code",
   "execution_count": 28,
   "metadata": {},
   "outputs": [
    {
     "data": {
      "text/plain": [
       "array([[[0.5, 0.5, 0. ],\n",
       "        [0.3, 0.7, 0. ],\n",
       "        [0. , 0. , 0. ]],\n",
       "\n",
       "       [[0. , 0. , 0. ],\n",
       "        [0.3, 0.7, 0. ],\n",
       "        [0. , 0. , 0. ]]])"
      ]
     },
     "execution_count": 28,
     "metadata": {},
     "output_type": "execute_result"
    }
   ],
   "source": [
    "p23 = np.array([[[.5, .5, 0], [.3, .7, 0], [0, 0, 0]],\n",
    "                [[0, 0, 0], [.3, .7, 0], [0, 0, 0]]])\n",
    "p23"
   ]
  },
  {
   "cell_type": "code",
   "execution_count": 30,
   "metadata": {},
   "outputs": [
    {
     "ename": "ValueError",
     "evalue": "Please use function `fill_diag3` for a three-dimensional matrix!",
     "output_type": "error",
     "traceback": [
      "\u001b[0;31m---------------------------------------------------------------------------\u001b[0m",
      "\u001b[0;31mValueError\u001b[0m                                Traceback (most recent call last)",
      "\u001b[0;32m<ipython-input-30-af60868f6222>\u001b[0m in \u001b[0;36m<module>\u001b[0;34m\u001b[0m\n\u001b[0;32m----> 1\u001b[0;31m \u001b[0mutil\u001b[0m\u001b[0;34m.\u001b[0m\u001b[0mfill_diag2\u001b[0m\u001b[0;34m(\u001b[0m\u001b[0mp23\u001b[0m\u001b[0;34m)\u001b[0m\u001b[0;34m\u001b[0m\u001b[0;34m\u001b[0m\u001b[0m\n\u001b[0m",
      "\u001b[0;32m~/Google Drive/python_repos/pysal-refactor/giddy/giddy/util.py\u001b[0m in \u001b[0;36mfill_diag2\u001b[0;34m(p)\u001b[0m\n\u001b[1;32m    102\u001b[0m     \u001b[0mp_temp\u001b[0m \u001b[0;34m=\u001b[0m \u001b[0mnp\u001b[0m\u001b[0;34m.\u001b[0m\u001b[0masarray\u001b[0m\u001b[0;34m(\u001b[0m\u001b[0mp\u001b[0m\u001b[0;34m)\u001b[0m\u001b[0;34m\u001b[0m\u001b[0;34m\u001b[0m\u001b[0m\n\u001b[1;32m    103\u001b[0m     \u001b[0;32mif\u001b[0m \u001b[0mlen\u001b[0m\u001b[0;34m(\u001b[0m\u001b[0mp_temp\u001b[0m\u001b[0;34m.\u001b[0m\u001b[0mshape\u001b[0m\u001b[0;34m)\u001b[0m \u001b[0;34m==\u001b[0m \u001b[0;36m3\u001b[0m\u001b[0;34m:\u001b[0m\u001b[0;34m\u001b[0m\u001b[0;34m\u001b[0m\u001b[0m\n\u001b[0;32m--> 104\u001b[0;31m         raise ValueError('Please use function `fill_diag3` for '\n\u001b[0m\u001b[1;32m    105\u001b[0m                          'a three-dimensional matrix!')\n\u001b[1;32m    106\u001b[0m     \u001b[0mp0\u001b[0m \u001b[0;34m=\u001b[0m \u001b[0;34m(\u001b[0m\u001b[0mp_temp\u001b[0m\u001b[0;34m.\u001b[0m\u001b[0msum\u001b[0m\u001b[0;34m(\u001b[0m\u001b[0maxis\u001b[0m\u001b[0;34m=\u001b[0m\u001b[0;36m1\u001b[0m\u001b[0;34m)\u001b[0m \u001b[0;34m==\u001b[0m \u001b[0;36m0\u001b[0m\u001b[0;34m)\u001b[0m\u001b[0;34m\u001b[0m\u001b[0;34m\u001b[0m\u001b[0m\n",
      "\u001b[0;31mValueError\u001b[0m: Please use function `fill_diag3` for a three-dimensional matrix!"
     ]
    }
   ],
   "source": [
    "util.fill_diag2(p23)"
   ]
  },
  {
   "cell_type": "code",
   "execution_count": 29,
   "metadata": {},
   "outputs": [
    {
     "data": {
      "text/plain": [
       "array([[[0.5, 0.5, 0. ],\n",
       "        [0.3, 0.7, 0. ],\n",
       "        [0. , 0. , 1. ]],\n",
       "\n",
       "       [[1. , 0. , 0. ],\n",
       "        [0.3, 0.7, 0. ],\n",
       "        [0. , 0. , 1. ]]])"
      ]
     },
     "execution_count": 29,
     "metadata": {},
     "output_type": "execute_result"
    }
   ],
   "source": [
    "util.fill_diag3(p23)"
   ]
  },
  {
   "cell_type": "code",
   "execution_count": 26,
   "metadata": {},
   "outputs": [
    {
     "data": {
      "text/plain": [
       "array([[0.5, 0.5, 0. ],\n",
       "       [0.3, 0.7, 0. ],\n",
       "       [0. , 0. , 1. ]])"
      ]
     },
     "execution_count": 26,
     "metadata": {},
     "output_type": "execute_result"
    }
   ],
   "source": [
    "util.fill_diag2(p3)"
   ]
  },
  {
   "cell_type": "code",
   "execution_count": 18,
   "metadata": {},
   "outputs": [
    {
     "data": {
      "text/plain": [
       "array([[0.375, 0.625, 0.   ],\n",
       "       [0.   , 0.   , 1.   ]])"
      ]
     },
     "execution_count": 18,
     "metadata": {},
     "output_type": "execute_result"
    }
   ],
   "source": [
    "ergodic.steady_state_general(p2)"
   ]
  },
  {
   "cell_type": "code",
   "execution_count": 14,
   "metadata": {},
   "outputs": [
    {
     "data": {
      "text/plain": [
       "array([0.5, 0.5, 0. ])"
      ]
     },
     "execution_count": 14,
     "metadata": {},
     "output_type": "execute_result"
    }
   ],
   "source": [
    "ergodic.steady_state(p2)"
   ]
  },
  {
   "cell_type": "code",
   "execution_count": 23,
   "metadata": {},
   "outputs": [
    {
     "data": {
      "text/plain": [
       "inf"
      ]
     },
     "execution_count": 23,
     "metadata": {},
     "output_type": "execute_result"
    }
   ],
   "source": [
    "np.inf"
   ]
  },
  {
   "cell_type": "code",
   "execution_count": 20,
   "metadata": {},
   "outputs": [
    {
     "data": {
      "text/plain": [
       "array([[2.66666667, 2.        ,        inf],\n",
       "       [3.33333333, 1.6       ,        inf],\n",
       "       [       inf,        inf, 1.        ]])"
      ]
     },
     "execution_count": 20,
     "metadata": {},
     "output_type": "execute_result"
    }
   ],
   "source": [
    "ergodic.fmpt_general(p2)"
   ]
  },
  {
   "cell_type": "code",
   "execution_count": 19,
   "metadata": {},
   "outputs": [
    {
     "data": {
      "text/plain": [
       "array([[2.5       , 4.        , 3.33333333],\n",
       "       [2.66666667, 5.        , 2.66666667],\n",
       "       [3.33333333, 4.        , 2.5       ]])"
      ]
     },
     "execution_count": 19,
     "metadata": {},
     "output_type": "execute_result"
    }
   ],
   "source": [
    "ergodic.fmpt_general(p)"
   ]
  },
  {
   "cell_type": "code",
   "execution_count": 2,
   "metadata": {},
   "outputs": [
    {
     "data": {
      "text/plain": [
       "array([0.8, 0.9, 1. , 1.2])"
      ]
     },
     "execution_count": 2,
     "metadata": {},
     "output_type": "execute_result"
    }
   ],
   "source": [
    "f = pysal.lib.io.open(pysal.lib.examples.get_path(\"usjoin.csv\"))\n",
    "pci = np.array([f.by_col[str(y)] for y in range(1929,2010)])\n",
    "pci = pci.transpose()\n",
    "rpci = pci/(pci.mean(axis=0))\n",
    "w = pysal.lib.io.open(pysal.lib.examples.get_path(\"states48.gal\")).read()\n",
    "w.transform = 'r'\n",
    "cc = np.array([0.8, 0.9, 1, 1.2])\n",
    "sm = Spatial_Markov(rpci, w, cutoffs=cc, lag_cutoffs=cc, variable_name='rpci')\n",
    "sm.cutoffs"
   ]
  },
  {
   "cell_type": "code",
   "execution_count": 3,
   "metadata": {},
   "outputs": [
    {
     "data": {
      "text/plain": [
       "array([[[264.,   9.,   0.,   0.,   0.],\n",
       "        [  5.,  32.,  10.,   0.,   0.],\n",
       "        [  0.,   7.,  38.,   4.,   0.],\n",
       "        [  0.,   0.,   3.,   3.,   0.],\n",
       "        [  0.,   0.,   0.,   0.,   0.]],\n",
       "\n",
       "       [[117.,  14.,   1.,   0.,   0.],\n",
       "        [  7., 142.,  10.,   0.,   0.],\n",
       "        [  0.,   6.,  88.,   8.,   0.],\n",
       "        [  0.,   0.,   9.,  56.,   0.],\n",
       "        [  0.,   0.,   0.,   0.,   4.]],\n",
       "\n",
       "       [[ 57.,  13.,   2.,   1.,   0.],\n",
       "        [ 12., 311.,  20.,   1.,   0.],\n",
       "        [  0.,  19., 272.,  29.,   1.],\n",
       "        [  0.,   0.,  29., 464.,   6.],\n",
       "        [  0.,   0.,   0.,   7.,  42.]],\n",
       "\n",
       "       [[ 43.,   8.,   0.,   1.,   0.],\n",
       "        [  9., 101.,  16.,   2.,   0.],\n",
       "        [  1.,  21., 278.,  37.,   1.],\n",
       "        [  0.,   1.,  41., 477.,  20.],\n",
       "        [  0.,   0.,   0.,  27., 319.]],\n",
       "\n",
       "       [[  0.,   0.,   0.,   0.,   0.],\n",
       "        [  0.,   0.,   0.,   0.,   0.],\n",
       "        [  0.,   2.,  27.,   1.,   0.],\n",
       "        [  0.,   0.,   6.,  96.,   4.],\n",
       "        [  0.,   0.,   0.,   7., 171.]]])"
      ]
     },
     "execution_count": 3,
     "metadata": {},
     "output_type": "execute_result"
    }
   ],
   "source": [
    "sm.T"
   ]
  },
  {
   "cell_type": "code",
   "execution_count": 10,
   "metadata": {},
   "outputs": [],
   "source": [
    "p_adjust = sm.T"
   ]
  },
  {
   "cell_type": "code",
   "execution_count": 21,
   "metadata": {},
   "outputs": [
    {
     "data": {
      "text/plain": [
       "0"
      ]
     },
     "execution_count": 21,
     "metadata": {},
     "output_type": "execute_result"
    }
   ],
   "source": [
    "(p_adjust.sum(axis=2) == 0).sum()"
   ]
  },
  {
   "cell_type": "code",
   "execution_count": 29,
   "metadata": {},
   "outputs": [],
   "source": [
    "def fill_diagonal2(p):\n",
    "    \"\"\"\n",
    "\n",
    "    :param p:\n",
    "    :return:\n",
    "    \"\"\"\n",
    "    p = np.asarray(p)\n",
    "    if len(p.shape) == 3:\n",
    "        raise ValueError('Please use function `fill_diagonal3` for '\n",
    "                         'three-dimensional matrix!')\n",
    "    p0 = (p.sum(axis=1) == 0)\n",
    "    if not p0.sum():\n",
    "        row_zero_i = np.where(p0)\n",
    "        for row in row_zero_i:\n",
    "            p[row, row] = 1\n",
    "    return p"
   ]
  },
  {
   "cell_type": "code",
   "execution_count": 22,
   "metadata": {},
   "outputs": [],
   "source": [
    "def fill_diagonal3(p):\n",
    "    p = np.asarray(p)\n",
    "    p0 = (p.sum(axis=2) == 0)\n",
    "    if not p0.sum():\n",
    "        rows, cols = np.where(p0)\n",
    "        row_zero_i = list(zip(rows, cols))\n",
    "        for row in row_zero_i:\n",
    "            i, j = row\n",
    "            p[i, j, j] = 1\n",
    "    return p"
   ]
  },
  {
   "cell_type": "code",
   "execution_count": 28,
   "metadata": {},
   "outputs": [
    {
     "data": {
      "text/plain": [
       "array([[  1.,   0.,   0.,   0.,   0.],\n",
       "       [  0.,   1.,   0.,   0.,   0.],\n",
       "       [  0.,   2.,  27.,   1.,   0.],\n",
       "       [  0.,   0.,   6.,  96.,   4.],\n",
       "       [  0.,   0.,   0.,   7., 171.]])"
      ]
     },
     "execution_count": 28,
     "metadata": {},
     "output_type": "execute_result"
    }
   ],
   "source": [
    "fill_diagonal2(sm.T[4])"
   ]
  },
  {
   "cell_type": "code",
   "execution_count": 31,
   "metadata": {},
   "outputs": [],
   "source": [
    "b=2\n",
    "a=b\n"
   ]
  },
  {
   "cell_type": "code",
   "execution_count": 32,
   "metadata": {},
   "outputs": [],
   "source": [
    "a = 3"
   ]
  },
  {
   "cell_type": "code",
   "execution_count": 33,
   "metadata": {},
   "outputs": [
    {
     "data": {
      "text/plain": [
       "2"
      ]
     },
     "execution_count": 33,
     "metadata": {},
     "output_type": "execute_result"
    }
   ],
   "source": [
    "b"
   ]
  },
  {
   "cell_type": "code",
   "execution_count": 30,
   "metadata": {},
   "outputs": [
    {
     "ename": "ValueError",
     "evalue": "Please use function `fill_diagonal3` for three-dimensional matrix!",
     "output_type": "error",
     "traceback": [
      "\u001b[0;31m---------------------------------------------------------------------------\u001b[0m",
      "\u001b[0;31mValueError\u001b[0m                                Traceback (most recent call last)",
      "\u001b[0;32m<ipython-input-30-0b8c6969112b>\u001b[0m in \u001b[0;36m<module>\u001b[0;34m\u001b[0m\n\u001b[0;32m----> 1\u001b[0;31m \u001b[0mfill_diagonal2\u001b[0m\u001b[0;34m(\u001b[0m\u001b[0msm\u001b[0m\u001b[0;34m.\u001b[0m\u001b[0mT\u001b[0m\u001b[0;34m)\u001b[0m\u001b[0;34m\u001b[0m\u001b[0;34m\u001b[0m\u001b[0m\n\u001b[0m",
      "\u001b[0;32m<ipython-input-29-1d3742ef6fc2>\u001b[0m in \u001b[0;36mfill_diagonal2\u001b[0;34m(p)\u001b[0m\n\u001b[1;32m      7\u001b[0m     \u001b[0mp\u001b[0m \u001b[0;34m=\u001b[0m \u001b[0mnp\u001b[0m\u001b[0;34m.\u001b[0m\u001b[0masarray\u001b[0m\u001b[0;34m(\u001b[0m\u001b[0mp\u001b[0m\u001b[0;34m)\u001b[0m\u001b[0;34m\u001b[0m\u001b[0;34m\u001b[0m\u001b[0m\n\u001b[1;32m      8\u001b[0m     \u001b[0;32mif\u001b[0m \u001b[0mlen\u001b[0m\u001b[0;34m(\u001b[0m\u001b[0mp\u001b[0m\u001b[0;34m.\u001b[0m\u001b[0mshape\u001b[0m\u001b[0;34m)\u001b[0m \u001b[0;34m==\u001b[0m \u001b[0;36m3\u001b[0m\u001b[0;34m:\u001b[0m\u001b[0;34m\u001b[0m\u001b[0;34m\u001b[0m\u001b[0m\n\u001b[0;32m----> 9\u001b[0;31m         raise ValueError('Please use function `fill_diagonal3` for '\n\u001b[0m\u001b[1;32m     10\u001b[0m                          'three-dimensional matrix!')\n\u001b[1;32m     11\u001b[0m     \u001b[0mp0\u001b[0m \u001b[0;34m=\u001b[0m \u001b[0;34m(\u001b[0m\u001b[0mp\u001b[0m\u001b[0;34m.\u001b[0m\u001b[0msum\u001b[0m\u001b[0;34m(\u001b[0m\u001b[0maxis\u001b[0m\u001b[0;34m=\u001b[0m\u001b[0;36m1\u001b[0m\u001b[0;34m)\u001b[0m \u001b[0;34m==\u001b[0m \u001b[0;36m0\u001b[0m\u001b[0;34m)\u001b[0m\u001b[0;34m\u001b[0m\u001b[0;34m\u001b[0m\u001b[0m\n",
      "\u001b[0;31mValueError\u001b[0m: Please use function `fill_diagonal3` for three-dimensional matrix!"
     ]
    }
   ],
   "source": [
    "fill_diagonal2(sm.T)"
   ]
  },
  {
   "cell_type": "code",
   "execution_count": 18,
   "metadata": {},
   "outputs": [
    {
     "data": {
      "text/plain": [
       "[(0, 4), (4, 0), (4, 1)]"
      ]
     },
     "execution_count": 18,
     "metadata": {},
     "output_type": "execute_result"
    }
   ],
   "source": [
    "rows, cols = np.where(p_adjust.sum(axis=2) == 0)\n",
    "row_zero_i = list(zip(rows, cols))\n",
    "row_zero_i"
   ]
  },
  {
   "cell_type": "code",
   "execution_count": 19,
   "metadata": {},
   "outputs": [
    {
     "data": {
      "text/plain": [
       "array([[[264.,   9.,   0.,   0.,   0.],\n",
       "        [  5.,  32.,  10.,   0.,   0.],\n",
       "        [  0.,   7.,  38.,   4.,   0.],\n",
       "        [  0.,   0.,   3.,   3.,   0.],\n",
       "        [  0.,   0.,   0.,   0.,   1.]],\n",
       "\n",
       "       [[117.,  14.,   1.,   0.,   0.],\n",
       "        [  7., 142.,  10.,   0.,   0.],\n",
       "        [  0.,   6.,  88.,   8.,   0.],\n",
       "        [  0.,   0.,   9.,  56.,   0.],\n",
       "        [  0.,   0.,   0.,   0.,   4.]],\n",
       "\n",
       "       [[ 57.,  13.,   2.,   1.,   0.],\n",
       "        [ 12., 311.,  20.,   1.,   0.],\n",
       "        [  0.,  19., 272.,  29.,   1.],\n",
       "        [  0.,   0.,  29., 464.,   6.],\n",
       "        [  0.,   0.,   0.,   7.,  42.]],\n",
       "\n",
       "       [[ 43.,   8.,   0.,   1.,   0.],\n",
       "        [  9., 101.,  16.,   2.,   0.],\n",
       "        [  1.,  21., 278.,  37.,   1.],\n",
       "        [  0.,   1.,  41., 477.,  20.],\n",
       "        [  0.,   0.,   0.,  27., 319.]],\n",
       "\n",
       "       [[  1.,   0.,   0.,   0.,   0.],\n",
       "        [  0.,   1.,   0.,   0.,   0.],\n",
       "        [  0.,   2.,  27.,   1.,   0.],\n",
       "        [  0.,   0.,   6.,  96.,   4.],\n",
       "        [  0.,   0.,   0.,   7., 171.]]])"
      ]
     },
     "execution_count": 19,
     "metadata": {},
     "output_type": "execute_result"
    }
   ],
   "source": [
    "for row in row_zero_i:\n",
    "    i, j = row\n",
    "    p_adjust[i, j, j] = 1\n",
    "p_adjust"
   ]
  },
  {
   "cell_type": "code",
   "execution_count": 16,
   "metadata": {},
   "outputs": [
    {
     "data": {
      "text/plain": [
       "(array([0, 4, 4]), array([4, 0, 1]))"
      ]
     },
     "execution_count": 16,
     "metadata": {},
     "output_type": "execute_result"
    }
   ],
   "source": [
    "np.where(p_adjust.sum(axis=2) == 0)"
   ]
  },
  {
   "cell_type": "code",
   "execution_count": 13,
   "metadata": {},
   "outputs": [
    {
     "data": {
      "text/plain": [
       "array([[273.,  47.,  49.,   6.,   0.],\n",
       "       [132., 159., 102.,  65.,   4.],\n",
       "       [ 73., 344., 321., 499.,  49.],\n",
       "       [ 52., 128., 338., 539., 346.],\n",
       "       [  0.,   0.,  30., 106., 178.]])"
      ]
     },
     "execution_count": 13,
     "metadata": {},
     "output_type": "execute_result"
    }
   ],
   "source": [
    "\n",
    "if "
   ]
  },
  {
   "cell_type": "code",
   "execution_count": null,
   "metadata": {},
   "outputs": [],
   "source": [
    "if p_adjust.sum(axis=1).all() != 1:\n",
    "    row_sum = p_adjust.sum(axis=1)\n",
    "    indexn0 = np.where(row_sum != 0)[0]\n",
    "    p_diag = np.eye(k)\n",
    "    p_diag[indexn0] = p_adjust[indexn0]\n",
    "    p_adjust = p_diag"
   ]
  },
  {
   "cell_type": "code",
   "execution_count": 2,
   "metadata": {},
   "outputs": [],
   "source": [
    "p=np.array([[.5, .25, .25],[.5,0,.5],[.25,.25,.5]])"
   ]
  },
  {
   "cell_type": "code",
   "execution_count": 3,
   "metadata": {},
   "outputs": [
    {
     "data": {
      "text/plain": [
       "array([[0.5 , 0.25, 0.25],\n",
       "       [0.5 , 0.  , 0.5 ],\n",
       "       [0.25, 0.25, 0.5 ]])"
      ]
     },
     "execution_count": 3,
     "metadata": {},
     "output_type": "execute_result"
    }
   ],
   "source": [
    "p"
   ]
  },
  {
   "cell_type": "code",
   "execution_count": 6,
   "metadata": {},
   "outputs": [
    {
     "data": {
      "text/plain": [
       "array([[0.5, 0.5, 0. ],\n",
       "       [0.2, 0.8, 0. ],\n",
       "       [0. , 0. , 1. ]])"
      ]
     },
     "execution_count": 6,
     "metadata": {},
     "output_type": "execute_result"
    }
   ],
   "source": [
    "p=np.array([[.5, .5, 0],[.2,0.8,0],[0,0,1]])\n",
    "p"
   ]
  },
  {
   "cell_type": "code",
   "execution_count": 7,
   "metadata": {},
   "outputs": [],
   "source": [
    "import quantecon as qe"
   ]
  },
  {
   "cell_type": "code",
   "execution_count": 8,
   "metadata": {},
   "outputs": [],
   "source": [
    "mc = qe.MarkovChain(p)"
   ]
  },
  {
   "cell_type": "code",
   "execution_count": 9,
   "metadata": {},
   "outputs": [
    {
     "data": {
      "text/plain": [
       "2"
      ]
     },
     "execution_count": 9,
     "metadata": {},
     "output_type": "execute_result"
    }
   ],
   "source": [
    "mc.num_recurrent_classes"
   ]
  },
  {
   "cell_type": "code",
   "execution_count": null,
   "metadata": {},
   "outputs": [],
   "source": []
  },
  {
   "cell_type": "code",
   "execution_count": 12,
   "metadata": {},
   "outputs": [
    {
     "data": {
      "text/plain": [
       "3"
      ]
     },
     "execution_count": 12,
     "metadata": {},
     "output_type": "execute_result"
    }
   ],
   "source": [
    "mc.n"
   ]
  },
  {
   "cell_type": "code",
   "execution_count": 16,
   "metadata": {},
   "outputs": [
    {
     "data": {
      "text/plain": [
       "array([[3.5, 2. , inf],\n",
       "       [5. , 1.4, inf],\n",
       "       [inf, inf, 1. ]])"
      ]
     },
     "execution_count": 16,
     "metadata": {},
     "output_type": "execute_result"
    }
   ],
   "source": [
    "fmpt_general(p)"
   ]
  },
  {
   "cell_type": "code",
   "execution_count": 15,
   "metadata": {},
   "outputs": [],
   "source": [
    "from pysal.explore.giddy.ergodic import fmpt\n",
    "def fmpt_general(P):\n",
    "    \"\"\"\n",
    "    Calculates the matrix of first mean passage times for an ergodic/non-ergodic\n",
    "    transition probability matrix.\n",
    "\n",
    "    Parameters\n",
    "    ----------\n",
    "    P       : array\n",
    "             (k, k), an ergodic/non-ergodic Markov transition probability\n",
    "             matrix.\n",
    "\n",
    "    Returns\n",
    "    -------\n",
    "    fmpt_all: array\n",
    "              (k, k), elements are the expected value for the number of\n",
    "              intervals required for a chain starting in state i to first\n",
    "              enter state j. If i=j then this is the recurrence time.\n",
    "\n",
    "    Examples\n",
    "    --------\n",
    "    >>> import numpy as np\n",
    "    >>> from pysal.explore.giddy.ergodic import fmpt_general\n",
    "\n",
    "    # irreducible Markov chain\n",
    "    >>> p = np.array([[.5, .25, .25],[.5,0,.5],[.25,.25,.5]])\n",
    "    >>> fm = fmpt_general(p)\n",
    "    >>> fm\n",
    "    array([[2.5       , 4.        , 3.33333333],\n",
    "           [2.66666667, 5.        , 2.66666667],\n",
    "           [3.33333333, 4.        , 2.5       ]])\n",
    "\n",
    "    Thus, if it is raining today in Oz we can expect a nice day to come\n",
    "    along in another 4 days, on average, and snow to hit in 3.33 days. We can\n",
    "    expect another rainy day in 2.5 days. If it is nice today in Oz, we would\n",
    "    experience a change in the weather (either rain or snow) in 2.67 days from\n",
    "    today. (That wicked witch can only die once so I reckon that is the\n",
    "    ultimate absorbing state).\n",
    "\n",
    "    # reducible Markov chain\n",
    "    >>> p = np.array([[.5, .25, .25],[.5,0,.5],[.25,.25,.5]])\n",
    "    >>> fm = fmpt_general(p)\n",
    "    >>> fm\n",
    "    array([[2.5       , 4.        , 3.33333333],\n",
    "           [2.66666667, 5.        , 2.66666667],\n",
    "           [3.33333333, 4.        , 2.5       ]])\n",
    "\n",
    "\n",
    "    \"\"\"\n",
    "\n",
    "    P = np.asarray(P)\n",
    "    mc = qe.MarkovChain(P)\n",
    "    num_classes = mc.num_communication_classes\n",
    "    if num_classes == 1:\n",
    "        fmpt_all = fmpt(P)\n",
    "        return fmpt_all\n",
    "    else:\n",
    "        i_cclasses = mc.communication_classes_indices\n",
    "        fmpt_all = np.full((mc.n, mc.n), np.inf)\n",
    "        for cclass in i_cclasses:\n",
    "            rows = cclass[:, np.newaxis]\n",
    "            p_temp = P[rows, cclass]\n",
    "            fmpt_all[rows, cclass] = fmpt(p_temp)\n",
    "        return fmpt_all"
   ]
  },
  {
   "cell_type": "code",
   "execution_count": null,
   "metadata": {},
   "outputs": [],
   "source": []
  },
  {
   "cell_type": "code",
   "execution_count": 11,
   "metadata": {},
   "outputs": [
    {
     "data": {
      "text/plain": [
       "array([[0.28571429, 0.71428571, 0.        ],\n",
       "       [0.        , 0.        , 1.        ]])"
      ]
     },
     "execution_count": 11,
     "metadata": {},
     "output_type": "execute_result"
    }
   ],
   "source": [
    "mc.stationary_distributions"
   ]
  },
  {
   "cell_type": "markdown",
   "metadata": {},
   "source": [
    "## Full Rank Markov"
   ]
  },
  {
   "cell_type": "code",
   "execution_count": null,
   "metadata": {},
   "outputs": [],
   "source": [
    "import pysal.lib\n",
    "f = pysal.lib.io.open(pysal.lib.examples.get_path(\"usjoin.csv\"))\n",
    "pci = np.array([f.by_col[str(y)] for y in range(1929,2010)])\n",
    "q5 = np.array([mc.Quantiles(y).yb for y in pci]).transpose()\n",
    "m = Markov(q5)\n",
    "m.p"
   ]
  },
  {
   "cell_type": "code",
   "execution_count": null,
   "metadata": {},
   "outputs": [],
   "source": [
    "mc = qe.MarkovChain(m.p)"
   ]
  },
  {
   "cell_type": "code",
   "execution_count": null,
   "metadata": {},
   "outputs": [],
   "source": [
    "mc.stationary_distributions[0]"
   ]
  },
  {
   "cell_type": "code",
   "execution_count": null,
   "metadata": {},
   "outputs": [],
   "source": [
    "mc.stationary_distributions[0].shape"
   ]
  },
  {
   "cell_type": "code",
   "execution_count": null,
   "metadata": {},
   "outputs": [],
   "source": [
    "pci"
   ]
  },
  {
   "cell_type": "code",
   "execution_count": null,
   "metadata": {},
   "outputs": [],
   "source": [
    "from pysal.explore.giddy.markov import FullRank_Markov, Markov\n",
    "from pysal.viz import mapclassify as mc"
   ]
  },
  {
   "cell_type": "code",
   "execution_count": null,
   "metadata": {},
   "outputs": [],
   "source": [
    "income_table = pd.read_csv(ps.examples.get_path(\"usjoin.csv\"))\n",
    "pci = income_table[list(map(str,range(1929,2010)))].values\n",
    "# q5 = np.array([mc.Quantiles(y).yb for y in pci.T]).transpose()\n",
    "# m = Markov(q5)\n",
    "# m.p"
   ]
  },
  {
   "cell_type": "code",
   "execution_count": null,
   "metadata": {},
   "outputs": [],
   "source": [
    "pci"
   ]
  },
  {
   "cell_type": "code",
   "execution_count": null,
   "metadata": {},
   "outputs": [],
   "source": [
    "m = Markov(q5)\n",
    "m.p"
   ]
  },
  {
   "cell_type": "code",
   "execution_count": null,
   "metadata": {},
   "outputs": [],
   "source": []
  },
  {
   "cell_type": "code",
   "execution_count": null,
   "metadata": {},
   "outputs": [],
   "source": [
    "\n",
    "income_table.head()"
   ]
  },
  {
   "cell_type": "markdown",
   "metadata": {},
   "source": [
    "### Let's only select per capical incomes in years 1949-1960"
   ]
  },
  {
   "cell_type": "code",
   "execution_count": null,
   "metadata": {},
   "outputs": [],
   "source": [
    "pci = income_table[list(map(str,range(1990,2010)))].values\n",
    "pci"
   ]
  },
  {
   "cell_type": "code",
   "execution_count": null,
   "metadata": {},
   "outputs": [],
   "source": [
    "m = FullRank_Markov(pci)\n",
    "m.ranks"
   ]
  },
  {
   "cell_type": "code",
   "execution_count": null,
   "metadata": {},
   "outputs": [],
   "source": [
    "m.transitions"
   ]
  },
  {
   "cell_type": "markdown",
   "metadata": {},
   "source": [
    "Full rank Markov transition probability matrix"
   ]
  },
  {
   "cell_type": "code",
   "execution_count": null,
   "metadata": {},
   "outputs": [],
   "source": [
    "m.p"
   ]
  },
  {
   "cell_type": "code",
   "execution_count": null,
   "metadata": {},
   "outputs": [],
   "source": [
    "np.where(m.p == 1)"
   ]
  },
  {
   "cell_type": "markdown",
   "metadata": {},
   "source": [
    "The probability of staying in rank 48 is $100\\%$. Thus, this rank is not communicating with other ranks, meaning that if a US State currently ranks 48th in per capita income, it will always rank 48th in the future. In this case, there is not going to be a unique steady state distribution towards which the Markov Chain converges. Instead, the future distribution will be dependent on whether the system is traped in rank 48. And also because of this, the estimation of the first mean passage time becomes more complicated. Currently, `giddy` does not have a mechanism to deal with it."
   ]
  },
  {
   "cell_type": "markdown",
   "metadata": {},
   "source": [
    "The current implementation for estimating the steady state distribution in `giddy` ignores the possibility of being trapped in rank 48 and gives the following distribution."
   ]
  },
  {
   "cell_type": "markdown",
   "metadata": {},
   "source": [
    "The estimation of the first mean passage times will incur an error shown as follows:"
   ]
  },
  {
   "cell_type": "code",
   "execution_count": null,
   "metadata": {},
   "outputs": [],
   "source": [
    "m.fmpt"
   ]
  },
  {
   "cell_type": "markdown",
   "metadata": {},
   "source": [
    "#### At the moment (due to the time limit for submitting the paper), I will suggest to use an external package `quantecon` to check whether the Markov Chain is ergodic. If not, we give some explanation and not calculating or ploting the first mean passage times. \n",
    "\n",
    "#### I will refactor `giddy` in the meantime to incorporate the non-ergodic chains when estimating steady state distributions and first mean passage times. "
   ]
  },
  {
   "cell_type": "markdown",
   "metadata": {},
   "source": [
    "## Use `quantecon` to check whether the Markov Chain is ergodic and which Markov states are not communicating with others"
   ]
  },
  {
   "cell_type": "markdown",
   "metadata": {},
   "source": [
    "#### (1) check whether the Markov Chain is ergodic\n",
    "\n",
    "```python\n",
    "mc.is_irreducible and mc.is_aperiodic\n",
    "```"
   ]
  },
  {
   "cell_type": "code",
   "execution_count": null,
   "metadata": {},
   "outputs": [],
   "source": [
    "qe.MarkovChain?"
   ]
  },
  {
   "cell_type": "code",
   "execution_count": null,
   "metadata": {},
   "outputs": [],
   "source": [
    "import quantecon as qe\n",
    "mc = qe.MarkovChain(m.p)\n",
    "\n",
    "mc.is_irreducible and mc.is_aperiodic"
   ]
  },
  {
   "cell_type": "code",
   "execution_count": null,
   "metadata": {},
   "outputs": [],
   "source": [
    "mc.num_communication_classes?"
   ]
  },
  {
   "cell_type": "code",
   "execution_count": null,
   "metadata": {},
   "outputs": [],
   "source": [
    "mc.num_communication_classes"
   ]
  },
  {
   "cell_type": "code",
   "execution_count": null,
   "metadata": {},
   "outputs": [],
   "source": [
    "mc.communication_classes_indices"
   ]
  },
  {
   "cell_type": "code",
   "execution_count": null,
   "metadata": {},
   "outputs": [],
   "source": [
    "k = len(m.p)"
   ]
  },
  {
   "cell_type": "code",
   "execution_count": null,
   "metadata": {},
   "outputs": [],
   "source": [
    "fmpt_k = np.full((k, k), np.inf)"
   ]
  },
  {
   "cell_type": "code",
   "execution_count": null,
   "metadata": {},
   "outputs": [],
   "source": [
    "cclass = mc.communication_classes_indices[1]"
   ]
  },
  {
   "cell_type": "code",
   "execution_count": null,
   "metadata": {},
   "outputs": [],
   "source": [
    "cclass[:, np.newaxis]"
   ]
  },
  {
   "cell_type": "code",
   "execution_count": null,
   "metadata": {},
   "outputs": [],
   "source": [
    "rows = cclass[:, np.newaxis]\n",
    "m.p[rows,cclass]"
   ]
  },
  {
   "cell_type": "code",
   "execution_count": null,
   "metadata": {},
   "outputs": [],
   "source": []
  },
  {
   "cell_type": "code",
   "execution_count": null,
   "metadata": {},
   "outputs": [],
   "source": [
    "p_temp = m.p[cclass,:][:,cclass]\n",
    "p_temp"
   ]
  },
  {
   "cell_type": "code",
   "execution_count": null,
   "metadata": {},
   "outputs": [],
   "source": [
    "fmpt_k"
   ]
  },
  {
   "cell_type": "code",
   "execution_count": null,
   "metadata": {},
   "outputs": [],
   "source": [
    "fmpt_k.flat[[1,2]]"
   ]
  },
  {
   "cell_type": "code",
   "execution_count": null,
   "metadata": {},
   "outputs": [],
   "source": [
    "fmpt_temp = fmpt(p_temp)\n",
    "fmpt_temp"
   ]
  },
  {
   "cell_type": "code",
   "execution_count": null,
   "metadata": {},
   "outputs": [],
   "source": [
    "np.pad?"
   ]
  },
  {
   "cell_type": "code",
   "execution_count": null,
   "metadata": {},
   "outputs": [],
   "source": [
    "np.putmask?"
   ]
  },
  {
   "cell_type": "code",
   "execution_count": null,
   "metadata": {},
   "outputs": [],
   "source": [
    "fmpt_k[cclass,:]"
   ]
  },
  {
   "cell_type": "code",
   "execution_count": null,
   "metadata": {},
   "outputs": [],
   "source": [
    "fmpt_temp"
   ]
  },
  {
   "cell_type": "code",
   "execution_count": null,
   "metadata": {},
   "outputs": [],
   "source": [
    "b = fmpt_k[cclass,:]\n",
    "b[:,cclass] = fmpt_temp"
   ]
  },
  {
   "cell_type": "code",
   "execution_count": null,
   "metadata": {},
   "outputs": [],
   "source": []
  },
  {
   "cell_type": "code",
   "execution_count": null,
   "metadata": {},
   "outputs": [],
   "source": [
    "fmpt_k[cclass,:][:,cclass]"
   ]
  },
  {
   "cell_type": "code",
   "execution_count": null,
   "metadata": {},
   "outputs": [],
   "source": [
    "np.put(fmpt_k, cclass, fmpt_temp)"
   ]
  },
  {
   "cell_type": "code",
   "execution_count": null,
   "metadata": {},
   "outputs": [],
   "source": [
    "np.put?"
   ]
  },
  {
   "cell_type": "code",
   "execution_count": null,
   "metadata": {},
   "outputs": [],
   "source": [
    "fmpt_k[cclass,:][:,cclass]"
   ]
  },
  {
   "cell_type": "code",
   "execution_count": null,
   "metadata": {},
   "outputs": [],
   "source": [
    "fmpt_k[cclass,:][:,cclass] = fmpt_temp\n",
    "fmpt_k"
   ]
  },
  {
   "cell_type": "code",
   "execution_count": null,
   "metadata": {},
   "outputs": [],
   "source": [
    "for cclass in mc.communication_classes_indices:\n",
    "    rows = cclass[:, np.newaxis]\n",
    "    p_temp = m.p[rows,cclass]\n",
    "#     p_temp = m.p[cclass,:][:,cclass]\n",
    "    fmpt_temp = fmpt(p_temp)\n",
    "    print(cclass, fmpt_temp)\n",
    "    fmpt_k[rows,cclass] = fmpt_temp"
   ]
  },
  {
   "cell_type": "code",
   "execution_count": null,
   "metadata": {},
   "outputs": [],
   "source": [
    "fmpt_k"
   ]
  },
  {
   "cell_type": "code",
   "execution_count": null,
   "metadata": {},
   "outputs": [],
   "source": [
    "fmpt_k"
   ]
  },
  {
   "cell_type": "code",
   "execution_count": null,
   "metadata": {},
   "outputs": [],
   "source": [
    "mc.communication_classes_indices[1]"
   ]
  },
  {
   "cell_type": "code",
   "execution_count": null,
   "metadata": {},
   "outputs": [],
   "source": [
    "m.p[list(mc.communication_classes_indices[1]),:][:,list(mc.communication_classes_indices[1])]"
   ]
  },
  {
   "cell_type": "code",
   "execution_count": null,
   "metadata": {},
   "outputs": [],
   "source": [
    "from pysal.explore.giddy.ergodic import fmpt"
   ]
  },
  {
   "cell_type": "code",
   "execution_count": null,
   "metadata": {},
   "outputs": [],
   "source": [
    "a = np.zeros((2,2))\n",
    "a[0] = np.Infinity\n",
    "a"
   ]
  },
  {
   "cell_type": "code",
   "execution_count": null,
   "metadata": {},
   "outputs": [],
   "source": [
    "np.full((2, 2), np.inf)"
   ]
  },
  {
   "cell_type": "code",
   "execution_count": null,
   "metadata": {},
   "outputs": [],
   "source": [
    "fmpt(m.p[list(mc.communication_classes_indices[1]),:][:,list(mc.communication_classes_indices[1])])"
   ]
  },
  {
   "cell_type": "code",
   "execution_count": null,
   "metadata": {},
   "outputs": [],
   "source": [
    "k = len(m.p)"
   ]
  },
  {
   "cell_type": "code",
   "execution_count": null,
   "metadata": {},
   "outputs": [],
   "source": []
  },
  {
   "cell_type": "code",
   "execution_count": null,
   "metadata": {},
   "outputs": [],
   "source": [
    "mc.stationary_distributions"
   ]
  },
  {
   "cell_type": "code",
   "execution_count": null,
   "metadata": {},
   "outputs": [],
   "source": [
    "mc.is_irreducible"
   ]
  },
  {
   "cell_type": "code",
   "execution_count": null,
   "metadata": {},
   "outputs": [],
   "source": [
    "mc.is_aperiodic"
   ]
  },
  {
   "cell_type": "markdown",
   "metadata": {},
   "source": [
    "#### (2) check which Markov states are not communicating with others\n",
    "```python\n",
    "mc.num_communication_classes\n",
    "```\n",
    "\n",
    "```python\n",
    "mc.communication_classes\n",
    "```"
   ]
  },
  {
   "cell_type": "markdown",
   "metadata": {},
   "source": [
    "We have two sets of Markov states which are not communicating with each other"
   ]
  },
  {
   "cell_type": "code",
   "execution_count": null,
   "metadata": {},
   "outputs": [],
   "source": [
    "mc.num_communication_classes"
   ]
  },
  {
   "cell_type": "markdown",
   "metadata": {},
   "source": [
    "The first set contains all the Markov states (rank 1 to 47) and the second set contains only 1 Markov state (rank 48)"
   ]
  },
  {
   "cell_type": "code",
   "execution_count": null,
   "metadata": {},
   "outputs": [],
   "source": [
    "mc.communication_classes"
   ]
  },
  {
   "cell_type": "code",
   "execution_count": null,
   "metadata": {},
   "outputs": [],
   "source": [
    "from pysal.explore.giddy.ergodic import steady_state as STEADY_STATE\n",
    "if mc.num_communication_classes==1:\n",
    "    STEADY_STATE(mp.)"
   ]
  },
  {
   "cell_type": "code",
   "execution_count": null,
   "metadata": {},
   "outputs": [],
   "source": []
  }
 ],
 "metadata": {
  "kernelspec": {
   "display_name": "Python 3",
   "language": "python",
   "name": "python3"
  },
  "language_info": {
   "codemirror_mode": {
    "name": "ipython",
    "version": 3
   },
   "file_extension": ".py",
   "mimetype": "text/x-python",
   "name": "python",
   "nbconvert_exporter": "python",
   "pygments_lexer": "ipython3",
   "version": "3.7.3"
  }
 },
 "nbformat": 4,
 "nbformat_minor": 2
}
