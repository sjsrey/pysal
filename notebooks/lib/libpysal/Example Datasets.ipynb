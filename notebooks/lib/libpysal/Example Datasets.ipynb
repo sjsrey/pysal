{
 "cells": [
  {
   "cell_type": "markdown",
   "metadata": {},
   "source": [
    "## Datasets for use with libpysal\n",
    "As of version 4.2, libpysal has refactored the `examples` package to:\n",
    "\n",
    "- reduce the size of the source installation\n",
    "- allow the use of remote datasets from the [Center for Spatial Data Science at the Unversity of Chicago](https://spatial.uchicago.edu/), and other remotes\n",
    "\n",
    "This notebook highlights the new functionality"
   ]
  },
  {
   "cell_type": "markdown",
   "metadata": {},
   "source": [
    "## Backwards compatibility is maintained"
   ]
  },
  {
   "cell_type": "markdown",
   "metadata": {},
   "source": [
    "If you were familiar with previous versions of libpysal, the newest version maintains backwards compatibility so any code that relied on the previous API should work. \n",
    "\n",
    "For example:"
   ]
  },
  {
   "cell_type": "code",
   "execution_count": 1,
   "metadata": {},
   "outputs": [],
   "source": [
    "from libpysal.examples import get_path \n"
   ]
  },
  {
   "cell_type": "code",
   "execution_count": 2,
   "metadata": {},
   "outputs": [
    {
     "data": {
      "text/plain": [
       "'/home/jovyan/libpysal/examples/mexico/mexicojoin.dbf'"
      ]
     },
     "execution_count": 2,
     "metadata": {},
     "output_type": "execute_result"
    }
   ],
   "source": [
    "get_path(\"mexicojoin.dbf\")"
   ]
  },
  {
   "cell_type": "markdown",
   "metadata": {},
   "source": [
    "An important thing to note here is that the path to the file for this particular example is within the source distribution that was installed. Such an example data set is now referred to as a `builtin` dataset."
   ]
  },
  {
   "cell_type": "code",
   "execution_count": 3,
   "metadata": {},
   "outputs": [],
   "source": [
    "import libpysal\n",
    "dbf = libpysal.io.open(get_path(\"mexicojoin.dbf\"))"
   ]
  },
  {
   "cell_type": "code",
   "execution_count": 4,
   "metadata": {},
   "outputs": [
    {
     "data": {
      "text/plain": [
       "['POLY_ID',\n",
       " 'AREA',\n",
       " 'CODE',\n",
       " 'NAME',\n",
       " 'PERIMETER',\n",
       " 'ACRES',\n",
       " 'HECTARES',\n",
       " 'PCGDP1940',\n",
       " 'PCGDP1950',\n",
       " 'PCGDP1960',\n",
       " 'PCGDP1970',\n",
       " 'PCGDP1980',\n",
       " 'PCGDP1990',\n",
       " 'PCGDP2000',\n",
       " 'HANSON03',\n",
       " 'HANSON98',\n",
       " 'ESQUIVEL99',\n",
       " 'INEGI',\n",
       " 'INEGI2',\n",
       " 'MAXP',\n",
       " 'GR4000',\n",
       " 'GR5000',\n",
       " 'GR6000',\n",
       " 'GR7000',\n",
       " 'GR8000',\n",
       " 'GR9000',\n",
       " 'LPCGDP40',\n",
       " 'LPCGDP50',\n",
       " 'LPCGDP60',\n",
       " 'LPCGDP70',\n",
       " 'LPCGDP80',\n",
       " 'LPCGDP90',\n",
       " 'LPCGDP00',\n",
       " 'TEST']"
      ]
     },
     "execution_count": 4,
     "metadata": {},
     "output_type": "execute_result"
    }
   ],
   "source": [
    "dbf.header"
   ]
  },
  {
   "cell_type": "markdown",
   "metadata": {},
   "source": [
    "## `available` is updated"
   ]
  },
  {
   "cell_type": "markdown",
   "metadata": {},
   "source": [
    "The function `available` is also available but has been updated to be more informative:"
   ]
  },
  {
   "cell_type": "code",
   "execution_count": 5,
   "metadata": {},
   "outputs": [
    {
     "name": "stdout",
     "output_type": "stream",
     "text": [
      "                      Name                                        Description  Installed\n",
      "0                    10740    Albuquerque, New Mexico, Census 2000 Tract Data       True\n",
      "1                   AirBnB  Airbnb rentals, socioeconomics, and crime in C...      False\n",
      "2                  Atlanta       Atlanta, GA region homicide counts and rates      False\n",
      "3                Baltimore          Baltimore house sales prices and hedonics      False\n",
      "4                Bostonhsg               Boston housing and neighborhood data      False\n",
      "5              Buenosaires      Electoral Data for 1999 Argentinean Elections      False\n",
      "6              Charleston1   2000 Census Tract Data for Charleston, SC MSA...      False\n",
      "7              Charleston2   1998 and 2001 Zip Code Business Patterns (Cen...      False\n",
      "8           Chicago Health                   Chicago Health + Socio-Economics      False\n",
      "9              Chile Labor                 Labor Markets in Chile (1982-2002)      False\n",
      "10         Chile Migration            Internal Migration in Chile (1977-2002)      False\n",
      "11              Cincinnati         2008 Cincinnati Crime + Socio-Demographics      False\n",
      "12               Cleveland       2015 sales prices of homes in Cleveland, OH.      False\n",
      "13                Columbus                        Columbus neighborhood crime      False\n",
      "14                  Denver   Demographics and housing in Denver neighborho...      False\n",
      "15               Elections               2012 and 2016 Presidential Elections      False\n",
      "16                 Grid100                      Grid with simulated variables      False\n",
      "17               Groceries                          2015 Chicago supermarkets      False\n",
      "18                  Guerry          Moral statistics of France (Guerry, 1833)      False\n",
      "19       Health Indicators                Chicago Health Indicators (2005-11)      False\n",
      "20                 Health+                    2000 Health, Income + Diversity      False\n",
      "21                Hickory1   2000 Census Tract Data for Hickory, NC MSA an...      False\n",
      "22                Hickory2   1998 and 2001 Zip Code Business Patterns (Cen...      False\n",
      "23              Home Sales              2014-15 Home Sales in King County, WA      False\n",
      "24                 Houston       Houston, TX region homicide counts and rates      False\n",
      "25                Juvenile             Cardiff juvenile delinquent residences      False\n",
      "26                Lansing1   2000 Census Tract Data for Lansing, MI MSA an...      False\n",
      "27                Lansing2   1998 and 2001 Zip Code Business Patterns (Cen...      False\n",
      "28                 Laozone   Ozone measures at monitoring stations in Los ...      False\n",
      "29                LasRosas   Corn yield, fertilizer and field data for pre...      False\n",
      "30                    Line                                     Line Shapefile       True\n",
      "31           Liquor Stores                         2015 Chicago Liquor Stores      False\n",
      "32                 Malaria   Malaria incidence and population (1973, 95, 9...      False\n",
      "33              Milwaukee1       2000 Census Tract Data for Milwaukee, WI MSA      False\n",
      "34              Milwaukee2   1998 and 2001 Zip Code Business Patterns (Cen...      False\n",
      "35                   NCOVR                      US county homicides 1960-1990      False\n",
      "36                    NDVI        Normalized Difference Vegetation Index grid      False\n",
      "37                     NYC   Demographic and housing data for New York Cit...      False\n",
      "38            NYC Earnings              Block-level Earnings in NYC (2002-14)      False\n",
      "39           NYC Education                               NYC Education (2000)      False\n",
      "40       NYC Neighborhoods       Demographics for New York City neighborhoods      False\n",
      "41  NYC Socio-Demographics                 NYC Education + Socio-Demographics      False\n",
      "42              Natregimes                    NCOVR with regimes (book/PySAL)      False\n",
      "43                   Nepal   Health, poverty and education indicators for ...      False\n",
      "44                Ohiolung            Ohio lung cancer data, 1968, 1978, 1988      False\n",
      "45                Orlando1   2000 Census Tract Data for Orlando, FL MSA an...      False\n",
      "46                Orlando2   1998 and 2001 Zip Code Business Patterns (Cen...      False\n",
      "47                  Oz9799                        Monthly ozone data, 1997-99      False\n",
      "48             Phoenix ACS   Phoenix American Community Survey Data (2010,...      False\n",
      "49              Pittsburgh                      Pittsburgh homicide locations      False\n",
      "50                   Point                                    Point Shapefile       True\n",
      "51                  Police           Police expenditures Mississippi counties      False\n",
      "52                 Polygon                                  Polygon Shapefile       True\n",
      "53           Polygon_Holes                 Example to test treatment of holes       True\n",
      "54       Rio Grande do Sul  Cities of the Brazilian State of Rio Grande do...      False\n",
      "55                    SIDS            North Carolina county SIDS death counts      False\n",
      "56                   SIDS2   North Carolina county SIDS death counts and r...      False\n",
      "57             Sacramento1          2000 Census Tract Data for Sacramento MSA      False\n",
      "58             Sacramento2   1998 and 2001 Zip Code Business Patterns (Cen...      False\n",
      "59           SanFran Crime   July-Dec 2012 crime incidents in San Francisc...      False\n",
      "60               Savannah1   2000 Census Tract Data for Savannah, GA MSA a...      False\n",
      "61               Savannah2   1998 and 2001 Zip Code Business Patterns (Cen...      False\n",
      "62                 Scotlip               Male lip cancer in Scotland, 1975-80      False\n",
      "63                Seattle1   2000 Census Tract Data for Seattle, WA MSA an...      False\n",
      "64                Seattle2   1998 and 2001 Zip Code Business Patterns (Cen...      False\n",
      "65                   South             US Southern county homicides 1960-1990      False\n",
      "66                 StLouis   St Louis region county homicide counts and rates      False\n",
      "67                  Tampa1   2000 Census Tract Data for Tampa, FL MSA and ...      False\n",
      "68                  arcgis                               arcgis testing files       True\n",
      "69                  baltim     Baltimore house sales prices and hedonics 1978       True\n",
      "70                  berlin  Prenzlauer Berg neighborhood AirBnB data from ...       True\n",
      "71                    book       Synthetic data to illustrate spatial weights       True\n",
      "72                 burkitt  Burkitt's lymphoma in the Western Nile distric...       True\n",
      "73                  calemp         Employment density for California counties       True\n",
      "74                 chicago                              Chicago neighborhoods       True\n",
      "75              clearwater                               mgwr testing dataset      False\n",
      "76                columbus              Columbus neighborhood crime data 1980       True\n",
      "77                 desmith    Small dataset to illustrate Moran's I statistic       True\n",
      "78                geodanet        Datasets from geodanet for network analysis       True\n",
      "79                 georgia  Various socio-economic variables for counties ...       True\n",
      "80                juvenile    Residences of juvenile offenders in Cardiff, UK       True\n",
      "81                  mexico  Decennial per capita incomes of Mexican states...       True\n",
      "82                networks                  Datasets used for network testing       True\n",
      "83                newHaven                            Network testing dataset      False\n",
      "84               nyc_bikes                           New York City Bike Trips      False\n",
      "85                   sids2  North Carolina county SIDS death counts and rates       True\n",
      "86               snow_maps  Public water pumps and Cholera deaths in Londo...       True\n",
      "87                     stl  Homicides and selected socio-economic characte...       True\n",
      "88          street_net_pts                              Street network points       True\n",
      "89                     taz           Traffic Analysis Zones in So. California      False\n",
      "90                   tokyo                               Tokyo Mortality data       True\n",
      "91               us_income  Per-capita income for the lower 48 US states 1...       True\n",
      "92                virginia                        Virginia counties shapefile       True\n",
      "93                    wmat          Datasets used for spatial weights testing       True\n"
     ]
    }
   ],
   "source": [
    "from libpysal.examples import available\n",
    "available()"
   ]
  },
  {
   "cell_type": "markdown",
   "metadata": {},
   "source": [
    "We see that the new column `Installed` is added to the tablular output of `available`. This tells the user whether the dataset has aready been installed on the local machine. All the builtin datasets are by defninition installed. The interesting cases are the remote data sets that are new in this release. "
   ]
  },
  {
   "cell_type": "markdown",
   "metadata": {},
   "source": [
    "## Remote datasets\n",
    "\n",
    "The listing from `available` above shows that the dataset `Tampa1` is avalable, but has not yet been installed."
   ]
  },
  {
   "cell_type": "code",
   "execution_count": 6,
   "metadata": {},
   "outputs": [
    {
     "data": {
      "text/html": [
       "\n",
       "        <iframe\n",
       "            width=\"700\"\n",
       "            height=\"350\"\n",
       "            src=\"https://geodacenter.github.io/data-and-lab/tampa1/\"\n",
       "            frameborder=\"0\"\n",
       "            allowfullscreen\n",
       "        ></iframe>\n",
       "        "
      ],
      "text/plain": [
       "<IPython.lib.display.IFrame at 0x7f4a3694ecf8>"
      ]
     },
     "execution_count": 6,
     "metadata": {},
     "output_type": "execute_result"
    }
   ],
   "source": [
    "from libpysal.examples import explain\n",
    "explain('Tampa1')"
   ]
  },
  {
   "cell_type": "code",
   "execution_count": 7,
   "metadata": {},
   "outputs": [
    {
     "name": "stdout",
     "output_type": "stream",
     "text": [
      "Downloading Tampa1 to /home/jovyan/pysal_data/Tampa1\n"
     ]
    }
   ],
   "source": [
    "from libpysal.examples import load_example\n",
    "tampa1 = load_example('Tampa1')"
   ]
  },
  {
   "cell_type": "code",
   "execution_count": 8,
   "metadata": {},
   "outputs": [
    {
     "name": "stdout",
     "output_type": "stream",
     "text": [
      "                      Name                                        Description  Installed\n",
      "0                    10740    Albuquerque, New Mexico, Census 2000 Tract Data       True\n",
      "1                   AirBnB  Airbnb rentals, socioeconomics, and crime in C...      False\n",
      "2                  Atlanta       Atlanta, GA region homicide counts and rates      False\n",
      "3                Baltimore          Baltimore house sales prices and hedonics      False\n",
      "4                Bostonhsg               Boston housing and neighborhood data      False\n",
      "5              Buenosaires      Electoral Data for 1999 Argentinean Elections      False\n",
      "6              Charleston1   2000 Census Tract Data for Charleston, SC MSA...      False\n",
      "7              Charleston2   1998 and 2001 Zip Code Business Patterns (Cen...      False\n",
      "8           Chicago Health                   Chicago Health + Socio-Economics      False\n",
      "9              Chile Labor                 Labor Markets in Chile (1982-2002)      False\n",
      "10         Chile Migration            Internal Migration in Chile (1977-2002)      False\n",
      "11              Cincinnati         2008 Cincinnati Crime + Socio-Demographics      False\n",
      "12               Cleveland       2015 sales prices of homes in Cleveland, OH.      False\n",
      "13                Columbus                        Columbus neighborhood crime      False\n",
      "14                  Denver   Demographics and housing in Denver neighborho...      False\n",
      "15               Elections               2012 and 2016 Presidential Elections      False\n",
      "16                 Grid100                      Grid with simulated variables      False\n",
      "17               Groceries                          2015 Chicago supermarkets      False\n",
      "18                  Guerry          Moral statistics of France (Guerry, 1833)      False\n",
      "19       Health Indicators                Chicago Health Indicators (2005-11)      False\n",
      "20                 Health+                    2000 Health, Income + Diversity      False\n",
      "21                Hickory1   2000 Census Tract Data for Hickory, NC MSA an...      False\n",
      "22                Hickory2   1998 and 2001 Zip Code Business Patterns (Cen...      False\n",
      "23              Home Sales              2014-15 Home Sales in King County, WA      False\n",
      "24                 Houston       Houston, TX region homicide counts and rates      False\n",
      "25                Juvenile             Cardiff juvenile delinquent residences      False\n",
      "26                Lansing1   2000 Census Tract Data for Lansing, MI MSA an...      False\n",
      "27                Lansing2   1998 and 2001 Zip Code Business Patterns (Cen...      False\n",
      "28                 Laozone   Ozone measures at monitoring stations in Los ...      False\n",
      "29                LasRosas   Corn yield, fertilizer and field data for pre...      False\n",
      "30                    Line                                     Line Shapefile       True\n",
      "31           Liquor Stores                         2015 Chicago Liquor Stores      False\n",
      "32                 Malaria   Malaria incidence and population (1973, 95, 9...      False\n",
      "33              Milwaukee1       2000 Census Tract Data for Milwaukee, WI MSA      False\n",
      "34              Milwaukee2   1998 and 2001 Zip Code Business Patterns (Cen...      False\n",
      "35                   NCOVR                      US county homicides 1960-1990      False\n",
      "36                    NDVI        Normalized Difference Vegetation Index grid      False\n",
      "37                     NYC   Demographic and housing data for New York Cit...      False\n",
      "38            NYC Earnings              Block-level Earnings in NYC (2002-14)      False\n",
      "39           NYC Education                               NYC Education (2000)      False\n",
      "40       NYC Neighborhoods       Demographics for New York City neighborhoods      False\n",
      "41  NYC Socio-Demographics                 NYC Education + Socio-Demographics      False\n",
      "42              Natregimes                    NCOVR with regimes (book/PySAL)      False\n",
      "43                   Nepal   Health, poverty and education indicators for ...      False\n",
      "44                Ohiolung            Ohio lung cancer data, 1968, 1978, 1988      False\n",
      "45                Orlando1   2000 Census Tract Data for Orlando, FL MSA an...      False\n",
      "46                Orlando2   1998 and 2001 Zip Code Business Patterns (Cen...      False\n",
      "47                  Oz9799                        Monthly ozone data, 1997-99      False\n",
      "48             Phoenix ACS   Phoenix American Community Survey Data (2010,...      False\n",
      "49              Pittsburgh                      Pittsburgh homicide locations      False\n",
      "50                   Point                                    Point Shapefile       True\n",
      "51                  Police           Police expenditures Mississippi counties      False\n",
      "52                 Polygon                                  Polygon Shapefile       True\n",
      "53           Polygon_Holes                 Example to test treatment of holes       True\n",
      "54       Rio Grande do Sul  Cities of the Brazilian State of Rio Grande do...      False\n",
      "55                    SIDS            North Carolina county SIDS death counts      False\n",
      "56                   SIDS2   North Carolina county SIDS death counts and r...      False\n",
      "57             Sacramento1          2000 Census Tract Data for Sacramento MSA      False\n",
      "58             Sacramento2   1998 and 2001 Zip Code Business Patterns (Cen...      False\n",
      "59           SanFran Crime   July-Dec 2012 crime incidents in San Francisc...      False\n",
      "60               Savannah1   2000 Census Tract Data for Savannah, GA MSA a...      False\n",
      "61               Savannah2   1998 and 2001 Zip Code Business Patterns (Cen...      False\n",
      "62                 Scotlip               Male lip cancer in Scotland, 1975-80      False\n",
      "63                Seattle1   2000 Census Tract Data for Seattle, WA MSA an...      False\n",
      "64                Seattle2   1998 and 2001 Zip Code Business Patterns (Cen...      False\n",
      "65                   South             US Southern county homicides 1960-1990      False\n",
      "66                 StLouis   St Louis region county homicide counts and rates      False\n",
      "67                  Tampa1   2000 Census Tract Data for Tampa, FL MSA and ...       True\n",
      "68                  arcgis                               arcgis testing files       True\n",
      "69                  baltim     Baltimore house sales prices and hedonics 1978       True\n",
      "70                  berlin  Prenzlauer Berg neighborhood AirBnB data from ...       True\n",
      "71                    book       Synthetic data to illustrate spatial weights       True\n",
      "72                 burkitt  Burkitt's lymphoma in the Western Nile distric...       True\n",
      "73                  calemp         Employment density for California counties       True\n",
      "74                 chicago                              Chicago neighborhoods       True\n",
      "75              clearwater                               mgwr testing dataset      False\n",
      "76                columbus              Columbus neighborhood crime data 1980       True\n",
      "77                 desmith    Small dataset to illustrate Moran's I statistic       True\n",
      "78                geodanet        Datasets from geodanet for network analysis       True\n",
      "79                 georgia  Various socio-economic variables for counties ...       True\n",
      "80                juvenile    Residences of juvenile offenders in Cardiff, UK       True\n",
      "81                  mexico  Decennial per capita incomes of Mexican states...       True\n",
      "82                networks                  Datasets used for network testing       True\n",
      "83                newHaven                            Network testing dataset      False\n",
      "84               nyc_bikes                           New York City Bike Trips      False\n",
      "85                   sids2  North Carolina county SIDS death counts and rates       True\n",
      "86               snow_maps  Public water pumps and Cholera deaths in Londo...       True\n",
      "87                     stl  Homicides and selected socio-economic characte...       True\n",
      "88          street_net_pts                              Street network points       True\n",
      "89                     taz           Traffic Analysis Zones in So. California      False\n",
      "90                   tokyo                               Tokyo Mortality data       True\n",
      "91               us_income  Per-capita income for the lower 48 US states 1...       True\n",
      "92                virginia                        Virginia counties shapefile       True\n",
      "93                    wmat          Datasets used for spatial weights testing       True\n"
     ]
    }
   ],
   "source": [
    "available()"
   ]
  },
  {
   "cell_type": "code",
   "execution_count": 9,
   "metadata": {},
   "outputs": [
    {
     "data": {
      "text/plain": [
       "True"
      ]
     },
     "execution_count": 9,
     "metadata": {},
     "output_type": "execute_result"
    }
   ],
   "source": [
    "tampa1.installed"
   ]
  },
  {
   "cell_type": "code",
   "execution_count": 10,
   "metadata": {},
   "outputs": [
    {
     "data": {
      "text/plain": [
       "['/home/jovyan/pysal_data/Tampa1/__MACOSX/._TampaMSA',\n",
       " '/home/jovyan/pysal_data/Tampa1/__MACOSX/TampaMSA/._tampa_counties.sbx',\n",
       " '/home/jovyan/pysal_data/Tampa1/__MACOSX/TampaMSA/._tampa_final_census2.sbx',\n",
       " '/home/jovyan/pysal_data/Tampa1/__MACOSX/TampaMSA/._2000 Census Data Variables_Documentation.pdf',\n",
       " '/home/jovyan/pysal_data/Tampa1/__MACOSX/TampaMSA/._tampa_final_census2.sbn',\n",
       " '/home/jovyan/pysal_data/Tampa1/__MACOSX/TampaMSA/._tampa_counties.sbn',\n",
       " '/home/jovyan/pysal_data/Tampa1/TampaMSA/tampa_final_census2.geojson',\n",
       " '/home/jovyan/pysal_data/Tampa1/TampaMSA/tampa_counties.gpkg',\n",
       " '/home/jovyan/pysal_data/Tampa1/TampaMSA/tampa_final_census2.xlsx',\n",
       " '/home/jovyan/pysal_data/Tampa1/TampaMSA/tampa_final_census2.mid',\n",
       " '/home/jovyan/pysal_data/Tampa1/TampaMSA/TampaMSA.gdb/a0000000a.spx',\n",
       " '/home/jovyan/pysal_data/Tampa1/TampaMSA/TampaMSA.gdb/a00000005.gdbindexes',\n",
       " '/home/jovyan/pysal_data/Tampa1/TampaMSA/TampaMSA.gdb/a00000007.CatRelTypesByDestItemTypeID.atx',\n",
       " '/home/jovyan/pysal_data/Tampa1/TampaMSA/TampaMSA.gdb/a00000002.gdbtable',\n",
       " '/home/jovyan/pysal_data/Tampa1/TampaMSA/TampaMSA.gdb/a00000004.CatItemsByType.atx',\n",
       " '/home/jovyan/pysal_data/Tampa1/TampaMSA/TampaMSA.gdb/a00000003.gdbtablx',\n",
       " '/home/jovyan/pysal_data/Tampa1/TampaMSA/TampaMSA.gdb/gdb',\n",
       " '/home/jovyan/pysal_data/Tampa1/TampaMSA/TampaMSA.gdb/a00000007.gdbtable',\n",
       " '/home/jovyan/pysal_data/Tampa1/TampaMSA/TampaMSA.gdb/a00000002.gdbtablx',\n",
       " '/home/jovyan/pysal_data/Tampa1/TampaMSA/TampaMSA.gdb/a00000004.gdbtablx',\n",
       " '/home/jovyan/pysal_data/Tampa1/TampaMSA/TampaMSA.gdb/a00000007.CatRelTypesByForwardLabel.atx',\n",
       " '/home/jovyan/pysal_data/Tampa1/TampaMSA/TampaMSA.gdb/a00000007.CatRelTypesByBackwardLabel.atx',\n",
       " '/home/jovyan/pysal_data/Tampa1/TampaMSA/TampaMSA.gdb/a00000007.CatRelTypesByOriginItemTypeID.atx',\n",
       " '/home/jovyan/pysal_data/Tampa1/TampaMSA/TampaMSA.gdb/a00000005.CatItemTypesByParentTypeID.atx',\n",
       " '/home/jovyan/pysal_data/Tampa1/TampaMSA/TampaMSA.gdb/a00000003.gdbtable',\n",
       " '/home/jovyan/pysal_data/Tampa1/TampaMSA/TampaMSA.gdb/a00000007.gdbindexes',\n",
       " '/home/jovyan/pysal_data/Tampa1/TampaMSA/TampaMSA.gdb/a00000001.gdbindexes',\n",
       " '/home/jovyan/pysal_data/Tampa1/TampaMSA/TampaMSA.gdb/a0000000a.gdbindexes',\n",
       " '/home/jovyan/pysal_data/Tampa1/TampaMSA/TampaMSA.gdb/a00000005.gdbtable',\n",
       " '/home/jovyan/pysal_data/Tampa1/TampaMSA/TampaMSA.gdb/a00000004.spx',\n",
       " '/home/jovyan/pysal_data/Tampa1/TampaMSA/TampaMSA.gdb/a00000009.gdbindexes',\n",
       " '/home/jovyan/pysal_data/Tampa1/TampaMSA/TampaMSA.gdb/a00000006.FDO_UUID.atx',\n",
       " '/home/jovyan/pysal_data/Tampa1/TampaMSA/TampaMSA.gdb/a00000006.CatRelsByOriginID.atx',\n",
       " '/home/jovyan/pysal_data/Tampa1/TampaMSA/TampaMSA.gdb/a00000009.gdbtable',\n",
       " '/home/jovyan/pysal_data/Tampa1/TampaMSA/TampaMSA.gdb/a00000003.gdbindexes',\n",
       " '/home/jovyan/pysal_data/Tampa1/TampaMSA/TampaMSA.gdb/a00000006.gdbtablx',\n",
       " '/home/jovyan/pysal_data/Tampa1/TampaMSA/TampaMSA.gdb/a00000004.CatItemsByPhysicalName.atx',\n",
       " '/home/jovyan/pysal_data/Tampa1/TampaMSA/TampaMSA.gdb/a0000000a.gdbtablx',\n",
       " '/home/jovyan/pysal_data/Tampa1/TampaMSA/TampaMSA.gdb/a00000006.CatRelsByType.atx',\n",
       " '/home/jovyan/pysal_data/Tampa1/TampaMSA/TampaMSA.gdb/a00000004.gdbindexes',\n",
       " '/home/jovyan/pysal_data/Tampa1/TampaMSA/TampaMSA.gdb/a00000007.CatRelTypesByUUID.atx',\n",
       " '/home/jovyan/pysal_data/Tampa1/TampaMSA/TampaMSA.gdb/a00000005.gdbtablx',\n",
       " '/home/jovyan/pysal_data/Tampa1/TampaMSA/TampaMSA.gdb/a00000005.CatItemTypesByUUID.atx',\n",
       " '/home/jovyan/pysal_data/Tampa1/TampaMSA/TampaMSA.gdb/a00000009.gdbtablx',\n",
       " '/home/jovyan/pysal_data/Tampa1/TampaMSA/TampaMSA.gdb/a00000006.gdbtable',\n",
       " '/home/jovyan/pysal_data/Tampa1/TampaMSA/TampaMSA.gdb/a0000000a.gdbtable',\n",
       " '/home/jovyan/pysal_data/Tampa1/TampaMSA/TampaMSA.gdb/a00000007.gdbtablx',\n",
       " '/home/jovyan/pysal_data/Tampa1/TampaMSA/TampaMSA.gdb/a00000009.spx',\n",
       " '/home/jovyan/pysal_data/Tampa1/TampaMSA/TampaMSA.gdb/a00000004.FDO_UUID.atx',\n",
       " '/home/jovyan/pysal_data/Tampa1/TampaMSA/TampaMSA.gdb/a00000006.CatRelsByDestinationID.atx',\n",
       " '/home/jovyan/pysal_data/Tampa1/TampaMSA/TampaMSA.gdb/a00000001.gdbtable',\n",
       " '/home/jovyan/pysal_data/Tampa1/TampaMSA/TampaMSA.gdb/a00000004.gdbtable',\n",
       " '/home/jovyan/pysal_data/Tampa1/TampaMSA/TampaMSA.gdb/timestamps',\n",
       " '/home/jovyan/pysal_data/Tampa1/TampaMSA/TampaMSA.gdb/a00000007.CatRelTypesByName.atx',\n",
       " '/home/jovyan/pysal_data/Tampa1/TampaMSA/TampaMSA.gdb/a00000006.gdbindexes',\n",
       " '/home/jovyan/pysal_data/Tampa1/TampaMSA/TampaMSA.gdb/a00000005.CatItemTypesByName.atx',\n",
       " '/home/jovyan/pysal_data/Tampa1/TampaMSA/TampaMSA.gdb/a00000001.TablesByName.atx',\n",
       " '/home/jovyan/pysal_data/Tampa1/TampaMSA/TampaMSA.gdb/a00000001.gdbtablx',\n",
       " '/home/jovyan/pysal_data/Tampa1/TampaMSA/tampa_final_census2.sbn',\n",
       " '/home/jovyan/pysal_data/Tampa1/TampaMSA/tampa_counties.xlsx',\n",
       " '/home/jovyan/pysal_data/Tampa1/TampaMSA/2000 Census Data Variables_Documentation.pdf',\n",
       " '/home/jovyan/pysal_data/Tampa1/TampaMSA/tampa_counties.mid',\n",
       " '/home/jovyan/pysal_data/Tampa1/TampaMSA/tampa_final_census2.dbf',\n",
       " '/home/jovyan/pysal_data/Tampa1/TampaMSA/tampa_final_census2.gpkg',\n",
       " '/home/jovyan/pysal_data/Tampa1/TampaMSA/tampa_counties.mif',\n",
       " '/home/jovyan/pysal_data/Tampa1/TampaMSA/tampa_final_census2.kml',\n",
       " '/home/jovyan/pysal_data/Tampa1/TampaMSA/tampa_counties.sqlite',\n",
       " '/home/jovyan/pysal_data/Tampa1/TampaMSA/tampa_counties.dbf',\n",
       " '/home/jovyan/pysal_data/Tampa1/TampaMSA/tampa_final_census2.prj',\n",
       " '/home/jovyan/pysal_data/Tampa1/TampaMSA/tampa_final_census2.mif',\n",
       " '/home/jovyan/pysal_data/Tampa1/TampaMSA/tampa_final_census2.shx',\n",
       " '/home/jovyan/pysal_data/Tampa1/TampaMSA/tampa_counties.geojson',\n",
       " '/home/jovyan/pysal_data/Tampa1/TampaMSA/tampa_counties.shx',\n",
       " '/home/jovyan/pysal_data/Tampa1/TampaMSA/tampa_counties.sbn',\n",
       " '/home/jovyan/pysal_data/Tampa1/TampaMSA/tampa_counties.sbx',\n",
       " '/home/jovyan/pysal_data/Tampa1/TampaMSA/tampa_counties.prj',\n",
       " '/home/jovyan/pysal_data/Tampa1/TampaMSA/tampa_counties.shp',\n",
       " '/home/jovyan/pysal_data/Tampa1/TampaMSA/tampa_final_census2.shp',\n",
       " '/home/jovyan/pysal_data/Tampa1/TampaMSA/tampa_final_census2.sqlite',\n",
       " '/home/jovyan/pysal_data/Tampa1/TampaMSA/tampa_final_census2.sbx',\n",
       " '/home/jovyan/pysal_data/Tampa1/TampaMSA/tampa_counties.kml']"
      ]
     },
     "execution_count": 10,
     "metadata": {},
     "output_type": "execute_result"
    }
   ],
   "source": [
    "tampa1.get_file_list()"
   ]
  },
  {
   "cell_type": "code",
   "execution_count": 11,
   "metadata": {},
   "outputs": [],
   "source": [
    "tampa_counties_shp = tampa1.load('tampa_counties.shp')"
   ]
  },
  {
   "cell_type": "code",
   "execution_count": 12,
   "metadata": {},
   "outputs": [
    {
     "data": {
      "text/plain": [
       "<libpysal.io.iohandlers.pyShpIO.PurePyShpWrapper at 0x7f4a368ce7b8>"
      ]
     },
     "execution_count": 12,
     "metadata": {},
     "output_type": "execute_result"
    }
   ],
   "source": [
    "tampa_counties_shp"
   ]
  },
  {
   "cell_type": "code",
   "execution_count": 13,
   "metadata": {},
   "outputs": [],
   "source": [
    "import geopandas"
   ]
  },
  {
   "cell_type": "code",
   "execution_count": 14,
   "metadata": {},
   "outputs": [],
   "source": [
    "tampa_df = geopandas.read_file(tampa1.get_path('tampa_counties.shp'))"
   ]
  },
  {
   "cell_type": "code",
   "execution_count": 15,
   "metadata": {},
   "outputs": [
    {
     "data": {
      "text/plain": [
       "<matplotlib.axes._subplots.AxesSubplot at 0x7f4a2eb25f60>"
      ]
     },
     "execution_count": 15,
     "metadata": {},
     "output_type": "execute_result"
    },
    {
     "data": {
      "image/png": "[encoded data removed]",
      "text/plain": [
       "<Figure size 432x288 with 1 Axes>"
      ]
     },
     "metadata": {
      "needs_background": "light"
     },
     "output_type": "display_data"
    }
   ],
   "source": [
    "%matplotlib inline\n",
    "tampa_df.plot()"
   ]
  },
  {
   "cell_type": "markdown",
   "metadata": {},
   "source": [
    "## Other Remotes\n",
    "\n",
    "In addition to the remote datasets from the GeoData Data Science Center, there are several large remotes available at github repositories. "
   ]
  },
  {
   "cell_type": "code",
   "execution_count": 16,
   "metadata": {},
   "outputs": [
    {
     "name": "stdout",
     "output_type": "stream",
     "text": [
      "Rio_Grande_do_Sul\n",
      "======================\n",
      "\n",
      "Cities of the Brazilian State of Rio Grande do Sul\n",
      "-------------------------------------------------------\n",
      "\n",
      "* 43MUE250GC_SIR.dbf: attribute data (k=2)\n",
      "* 43MUE250GC_SIR.shp: Polygon shapefile (n=499)\n",
      "* 43MUE250GC_SIR.shx: spatial index\n",
      "* 43MUE250GC_SIR.cpg: encoding file \n",
      "* 43MUE250GC_SIR.prj: projection information \n",
      "* map_RS_BR.dbf: attribute data (k=3)\n",
      "* map_RS_BR.shp: Polygon shapefile (no lakes) (n=497)\n",
      "* map_RS_BR.prj: projection information\n",
      "* map_RS_BR.shx: spatial index\n",
      "\n",
      "\n",
      "\n",
      "Source: Renan Xavier Cortes \n",
      "Reference: https://github.com/pysal/pysal/issues/889#issuecomment-396693495\n",
      "\n",
      "\n"
     ]
    }
   ],
   "source": [
    "explain('Rio Grande do Sul')"
   ]
  },
  {
   "cell_type": "markdown",
   "metadata": {},
   "source": [
    "Note that the `explain` function generates a textual description of this example dataset - no rendering of the map is done as the source repository does not include that functionality."
   ]
  },
  {
   "cell_type": "code",
   "execution_count": 17,
   "metadata": {},
   "outputs": [
    {
     "name": "stdout",
     "output_type": "stream",
     "text": [
      "Downloading Rio Grande do Sul to /home/jovyan/pysal_data/Rio_Grande_do_Sul\n"
     ]
    }
   ],
   "source": [
    "rio = load_example('Rio Grande do Sul')"
   ]
  },
  {
   "cell_type": "code",
   "execution_count": 18,
   "metadata": {},
   "outputs": [
    {
     "name": "stdout",
     "output_type": "stream",
     "text": [
      "                      Name                                        Description  Installed\n",
      "0                    10740    Albuquerque, New Mexico, Census 2000 Tract Data       True\n",
      "1                   AirBnB  Airbnb rentals, socioeconomics, and crime in C...      False\n",
      "2                  Atlanta       Atlanta, GA region homicide counts and rates      False\n",
      "3                Baltimore          Baltimore house sales prices and hedonics      False\n",
      "4                Bostonhsg               Boston housing and neighborhood data      False\n",
      "5              Buenosaires      Electoral Data for 1999 Argentinean Elections      False\n",
      "6              Charleston1   2000 Census Tract Data for Charleston, SC MSA...      False\n",
      "7              Charleston2   1998 and 2001 Zip Code Business Patterns (Cen...      False\n",
      "8           Chicago Health                   Chicago Health + Socio-Economics      False\n",
      "9              Chile Labor                 Labor Markets in Chile (1982-2002)      False\n",
      "10         Chile Migration            Internal Migration in Chile (1977-2002)      False\n",
      "11              Cincinnati         2008 Cincinnati Crime + Socio-Demographics      False\n",
      "12               Cleveland       2015 sales prices of homes in Cleveland, OH.      False\n",
      "13                Columbus                        Columbus neighborhood crime      False\n",
      "14                  Denver   Demographics and housing in Denver neighborho...      False\n",
      "15               Elections               2012 and 2016 Presidential Elections      False\n",
      "16                 Grid100                      Grid with simulated variables      False\n",
      "17               Groceries                          2015 Chicago supermarkets      False\n",
      "18                  Guerry          Moral statistics of France (Guerry, 1833)      False\n",
      "19       Health Indicators                Chicago Health Indicators (2005-11)      False\n",
      "20                 Health+                    2000 Health, Income + Diversity      False\n",
      "21                Hickory1   2000 Census Tract Data for Hickory, NC MSA an...      False\n",
      "22                Hickory2   1998 and 2001 Zip Code Business Patterns (Cen...      False\n",
      "23              Home Sales              2014-15 Home Sales in King County, WA      False\n",
      "24                 Houston       Houston, TX region homicide counts and rates      False\n",
      "25                Juvenile             Cardiff juvenile delinquent residences      False\n",
      "26                Lansing1   2000 Census Tract Data for Lansing, MI MSA an...      False\n",
      "27                Lansing2   1998 and 2001 Zip Code Business Patterns (Cen...      False\n",
      "28                 Laozone   Ozone measures at monitoring stations in Los ...      False\n",
      "29                LasRosas   Corn yield, fertilizer and field data for pre...      False\n",
      "30                    Line                                     Line Shapefile       True\n",
      "31           Liquor Stores                         2015 Chicago Liquor Stores      False\n",
      "32                 Malaria   Malaria incidence and population (1973, 95, 9...      False\n",
      "33              Milwaukee1       2000 Census Tract Data for Milwaukee, WI MSA      False\n",
      "34              Milwaukee2   1998 and 2001 Zip Code Business Patterns (Cen...      False\n",
      "35                   NCOVR                      US county homicides 1960-1990      False\n",
      "36                    NDVI        Normalized Difference Vegetation Index grid      False\n",
      "37                     NYC   Demographic and housing data for New York Cit...      False\n",
      "38            NYC Earnings              Block-level Earnings in NYC (2002-14)      False\n",
      "39           NYC Education                               NYC Education (2000)      False\n",
      "40       NYC Neighborhoods       Demographics for New York City neighborhoods      False\n",
      "41  NYC Socio-Demographics                 NYC Education + Socio-Demographics      False\n",
      "42              Natregimes                    NCOVR with regimes (book/PySAL)      False\n",
      "43                   Nepal   Health, poverty and education indicators for ...      False\n",
      "44                Ohiolung            Ohio lung cancer data, 1968, 1978, 1988      False\n",
      "45                Orlando1   2000 Census Tract Data for Orlando, FL MSA an...      False\n",
      "46                Orlando2   1998 and 2001 Zip Code Business Patterns (Cen...      False\n",
      "47                  Oz9799                        Monthly ozone data, 1997-99      False\n",
      "48             Phoenix ACS   Phoenix American Community Survey Data (2010,...      False\n",
      "49              Pittsburgh                      Pittsburgh homicide locations      False\n",
      "50                   Point                                    Point Shapefile       True\n",
      "51                  Police           Police expenditures Mississippi counties      False\n",
      "52                 Polygon                                  Polygon Shapefile       True\n",
      "53           Polygon_Holes                 Example to test treatment of holes       True\n",
      "54       Rio Grande do Sul  Cities of the Brazilian State of Rio Grande do...       True\n",
      "55                    SIDS            North Carolina county SIDS death counts      False\n",
      "56                   SIDS2   North Carolina county SIDS death counts and r...      False\n",
      "57             Sacramento1          2000 Census Tract Data for Sacramento MSA      False\n",
      "58             Sacramento2   1998 and 2001 Zip Code Business Patterns (Cen...      False\n",
      "59           SanFran Crime   July-Dec 2012 crime incidents in San Francisc...      False\n",
      "60               Savannah1   2000 Census Tract Data for Savannah, GA MSA a...      False\n",
      "61               Savannah2   1998 and 2001 Zip Code Business Patterns (Cen...      False\n",
      "62                 Scotlip               Male lip cancer in Scotland, 1975-80      False\n",
      "63                Seattle1   2000 Census Tract Data for Seattle, WA MSA an...      False\n",
      "64                Seattle2   1998 and 2001 Zip Code Business Patterns (Cen...      False\n",
      "65                   South             US Southern county homicides 1960-1990      False\n",
      "66                 StLouis   St Louis region county homicide counts and rates      False\n",
      "67                  Tampa1   2000 Census Tract Data for Tampa, FL MSA and ...       True\n",
      "68                  arcgis                               arcgis testing files       True\n",
      "69                  baltim     Baltimore house sales prices and hedonics 1978       True\n",
      "70                  berlin  Prenzlauer Berg neighborhood AirBnB data from ...       True\n",
      "71                    book       Synthetic data to illustrate spatial weights       True\n",
      "72                 burkitt  Burkitt's lymphoma in the Western Nile distric...       True\n",
      "73                  calemp         Employment density for California counties       True\n",
      "74                 chicago                              Chicago neighborhoods       True\n",
      "75              clearwater                               mgwr testing dataset      False\n",
      "76                columbus              Columbus neighborhood crime data 1980       True\n",
      "77                 desmith    Small dataset to illustrate Moran's I statistic       True\n",
      "78                geodanet        Datasets from geodanet for network analysis       True\n",
      "79                 georgia  Various socio-economic variables for counties ...       True\n",
      "80                juvenile    Residences of juvenile offenders in Cardiff, UK       True\n",
      "81                  mexico  Decennial per capita incomes of Mexican states...       True\n",
      "82                networks                  Datasets used for network testing       True\n",
      "83                newHaven                            Network testing dataset      False\n",
      "84               nyc_bikes                           New York City Bike Trips      False\n",
      "85                   sids2  North Carolina county SIDS death counts and rates       True\n",
      "86               snow_maps  Public water pumps and Cholera deaths in Londo...       True\n",
      "87                     stl  Homicides and selected socio-economic characte...       True\n",
      "88          street_net_pts                              Street network points       True\n",
      "89                     taz           Traffic Analysis Zones in So. California      False\n",
      "90                   tokyo                               Tokyo Mortality data       True\n",
      "91               us_income  Per-capita income for the lower 48 US states 1...       True\n",
      "92                virginia                        Virginia counties shapefile       True\n",
      "93                    wmat          Datasets used for spatial weights testing       True\n"
     ]
    }
   ],
   "source": [
    "available()"
   ]
  },
  {
   "cell_type": "markdown",
   "metadata": {},
   "source": [
    "## Grabbing all the remotes\n",
    "\n",
    "All the remote datasets can be downloaded with:"
   ]
  },
  {
   "cell_type": "code",
   "execution_count": 19,
   "metadata": {},
   "outputs": [
    {
     "name": "stdout",
     "output_type": "stream",
     "text": [
      "AirBnB\n",
      "Downloading AirBnB to /home/jovyan/pysal_data/AirBnB\n",
      "Atlanta\n",
      "Downloading Atlanta to /home/jovyan/pysal_data/Atlanta\n",
      "Baltimore\n",
      "Downloading Baltimore to /home/jovyan/pysal_data/Baltimore\n",
      "Bostonhsg\n",
      "Downloading Bostonhsg to /home/jovyan/pysal_data/Bostonhsg\n",
      "Buenosaires\n",
      "Downloading Buenosaires to /home/jovyan/pysal_data/Buenosaires\n",
      "Charleston1\n",
      "Downloading Charleston1 to /home/jovyan/pysal_data/Charleston1\n",
      "Charleston2\n",
      "Downloading Charleston2 to /home/jovyan/pysal_data/Charleston2\n",
      "Chicago Health\n",
      "Downloading Chicago Health to /home/jovyan/pysal_data/Chicago_Health\n",
      "Chile Labor\n",
      "Downloading Chile Labor to /home/jovyan/pysal_data/Chile_Labor\n",
      "Chile Migration\n",
      "Downloading Chile Migration to /home/jovyan/pysal_data/Chile_Migration\n",
      "Cincinnati\n",
      "Downloading Cincinnati to /home/jovyan/pysal_data/Cincinnati\n",
      "Cleveland\n",
      "Downloading Cleveland to /home/jovyan/pysal_data/Cleveland\n",
      "Columbus\n",
      "Downloading Columbus to /home/jovyan/pysal_data/Columbus\n",
      "Denver\n",
      "Downloading Denver to /home/jovyan/pysal_data/Denver\n",
      "Elections\n",
      "Downloading Elections to /home/jovyan/pysal_data/Elections\n",
      "Grid100\n",
      "Downloading Grid100 to /home/jovyan/pysal_data/Grid100\n",
      "Groceries\n",
      "Downloading Groceries to /home/jovyan/pysal_data/Groceries\n",
      "Guerry\n",
      "Downloading Guerry to /home/jovyan/pysal_data/Guerry\n",
      "Health Indicators\n",
      "Downloading Health Indicators to /home/jovyan/pysal_data/Health_Indicators\n",
      "Health+\n",
      "Downloading Health+ to /home/jovyan/pysal_data/Health+\n",
      "Hickory1\n",
      "Downloading Hickory1 to /home/jovyan/pysal_data/Hickory1\n",
      "Hickory2\n",
      "Downloading Hickory2 to /home/jovyan/pysal_data/Hickory2\n",
      "Home Sales\n",
      "Downloading Home Sales to /home/jovyan/pysal_data/Home_Sales\n",
      "Houston\n",
      "Downloading Houston to /home/jovyan/pysal_data/Houston\n",
      "Juvenile\n",
      "Downloading Juvenile to /home/jovyan/pysal_data/Juvenile\n",
      "Lansing1\n",
      "Downloading Lansing1 to /home/jovyan/pysal_data/Lansing1\n",
      "Lansing2\n",
      "Downloading Lansing2 to /home/jovyan/pysal_data/Lansing2\n",
      "Laozone\n",
      "Downloading Laozone to /home/jovyan/pysal_data/Laozone\n",
      "LasRosas\n",
      "Downloading LasRosas to /home/jovyan/pysal_data/LasRosas\n",
      "Liquor Stores\n",
      "Downloading Liquor Stores to /home/jovyan/pysal_data/Liquor_Stores\n",
      "Malaria\n",
      "Downloading Malaria to /home/jovyan/pysal_data/Malaria\n",
      "Milwaukee1\n",
      "Downloading Milwaukee1 to /home/jovyan/pysal_data/Milwaukee1\n",
      "Milwaukee2\n",
      "Downloading Milwaukee2 to /home/jovyan/pysal_data/Milwaukee2\n",
      "NCOVR\n",
      "Downloading NCOVR to /home/jovyan/pysal_data/NCOVR\n",
      "NDVI\n",
      "Downloading NDVI to /home/jovyan/pysal_data/NDVI\n",
      "NYC\n",
      "Downloading NYC to /home/jovyan/pysal_data/NYC\n",
      "NYC Earnings\n",
      "Downloading NYC Earnings to /home/jovyan/pysal_data/NYC_Earnings\n",
      "NYC Education\n",
      "Downloading NYC Education to /home/jovyan/pysal_data/NYC_Education\n",
      "NYC Neighborhoods\n",
      "Downloading NYC Neighborhoods to /home/jovyan/pysal_data/NYC_Neighborhoods\n",
      "NYC Socio-Demographics\n",
      "Downloading NYC Socio-Demographics to /home/jovyan/pysal_data/NYC_Socio-Demographics\n",
      "Natregimes\n",
      "Downloading Natregimes to /home/jovyan/pysal_data/Natregimes\n",
      "Nepal\n",
      "Downloading Nepal to /home/jovyan/pysal_data/Nepal\n",
      "Ohiolung\n",
      "Downloading Ohiolung to /home/jovyan/pysal_data/Ohiolung\n",
      "Orlando1\n",
      "Downloading Orlando1 to /home/jovyan/pysal_data/Orlando1\n",
      "Orlando2\n",
      "Downloading Orlando2 to /home/jovyan/pysal_data/Orlando2\n",
      "Oz9799\n",
      "Downloading Oz9799 to /home/jovyan/pysal_data/Oz9799\n",
      "Phoenix ACS\n",
      "Downloading Phoenix ACS to /home/jovyan/pysal_data/Phoenix_ACS\n",
      "Pittsburgh\n",
      "Downloading Pittsburgh to /home/jovyan/pysal_data/Pittsburgh\n",
      "Police\n",
      "Downloading Police to /home/jovyan/pysal_data/Police\n",
      "Rio Grande do Sul\n",
      "Already downloaded\n",
      "SIDS\n",
      "Downloading SIDS to /home/jovyan/pysal_data/SIDS\n",
      "SIDS2\n",
      "Downloading SIDS2 to /home/jovyan/pysal_data/SIDS2\n",
      "Sacramento1\n",
      "Downloading Sacramento1 to /home/jovyan/pysal_data/Sacramento1\n",
      "Sacramento2\n",
      "Downloading Sacramento2 to /home/jovyan/pysal_data/Sacramento2\n",
      "SanFran Crime\n",
      "Downloading SanFran Crime to /home/jovyan/pysal_data/SanFran_Crime\n",
      "Savannah1\n",
      "Downloading Savannah1 to /home/jovyan/pysal_data/Savannah1\n",
      "Savannah2\n",
      "Downloading Savannah2 to /home/jovyan/pysal_data/Savannah2\n",
      "Scotlip\n",
      "Downloading Scotlip to /home/jovyan/pysal_data/Scotlip\n",
      "Seattle1\n",
      "Downloading Seattle1 to /home/jovyan/pysal_data/Seattle1\n",
      "Seattle2\n",
      "Downloading Seattle2 to /home/jovyan/pysal_data/Seattle2\n",
      "South\n",
      "Downloading South to /home/jovyan/pysal_data/South\n",
      "StLouis\n",
      "Downloading StLouis to /home/jovyan/pysal_data/StLouis\n",
      "Tampa1\n",
      "Already downloaded\n",
      "clearwater\n",
      "Downloading clearwater to /home/jovyan/pysal_data/clearwater\n",
      "newHaven\n",
      "Downloading newHaven to /home/jovyan/pysal_data/newHaven\n",
      "nyc_bikes\n",
      "Downloading nyc_bikes to /home/jovyan/pysal_data/nyc_bikes\n",
      "taz\n",
      "Downloading taz to /home/jovyan/pysal_data/taz\n"
     ]
    }
   ],
   "source": [
    "libpysal.examples.fetch_all()"
   ]
  },
  {
   "cell_type": "code",
   "execution_count": 20,
   "metadata": {},
   "outputs": [
    {
     "name": "stdout",
     "output_type": "stream",
     "text": [
      "                      Name                                        Description  Installed\n",
      "0                    10740    Albuquerque, New Mexico, Census 2000 Tract Data       True\n",
      "1                   AirBnB  Airbnb rentals, socioeconomics, and crime in C...       True\n",
      "2                  Atlanta       Atlanta, GA region homicide counts and rates       True\n",
      "3                Baltimore          Baltimore house sales prices and hedonics       True\n",
      "4                Bostonhsg               Boston housing and neighborhood data       True\n",
      "5              Buenosaires      Electoral Data for 1999 Argentinean Elections       True\n",
      "6              Charleston1   2000 Census Tract Data for Charleston, SC MSA...       True\n",
      "7              Charleston2   1998 and 2001 Zip Code Business Patterns (Cen...       True\n",
      "8           Chicago Health                   Chicago Health + Socio-Economics       True\n",
      "9              Chile Labor                 Labor Markets in Chile (1982-2002)       True\n",
      "10         Chile Migration            Internal Migration in Chile (1977-2002)       True\n",
      "11              Cincinnati         2008 Cincinnati Crime + Socio-Demographics       True\n",
      "12               Cleveland       2015 sales prices of homes in Cleveland, OH.       True\n",
      "13                Columbus                        Columbus neighborhood crime       True\n",
      "14                  Denver   Demographics and housing in Denver neighborho...       True\n",
      "15               Elections               2012 and 2016 Presidential Elections       True\n",
      "16                 Grid100                      Grid with simulated variables       True\n",
      "17               Groceries                          2015 Chicago supermarkets       True\n",
      "18                  Guerry          Moral statistics of France (Guerry, 1833)       True\n",
      "19       Health Indicators                Chicago Health Indicators (2005-11)       True\n",
      "20                 Health+                    2000 Health, Income + Diversity       True\n",
      "21                Hickory1   2000 Census Tract Data for Hickory, NC MSA an...       True\n",
      "22                Hickory2   1998 and 2001 Zip Code Business Patterns (Cen...       True\n",
      "23              Home Sales              2014-15 Home Sales in King County, WA       True\n",
      "24                 Houston       Houston, TX region homicide counts and rates       True\n",
      "25                Juvenile             Cardiff juvenile delinquent residences       True\n",
      "26                Lansing1   2000 Census Tract Data for Lansing, MI MSA an...       True\n",
      "27                Lansing2   1998 and 2001 Zip Code Business Patterns (Cen...       True\n",
      "28                 Laozone   Ozone measures at monitoring stations in Los ...       True\n",
      "29                LasRosas   Corn yield, fertilizer and field data for pre...       True\n",
      "30                    Line                                     Line Shapefile       True\n",
      "31           Liquor Stores                         2015 Chicago Liquor Stores       True\n",
      "32                 Malaria   Malaria incidence and population (1973, 95, 9...       True\n",
      "33              Milwaukee1       2000 Census Tract Data for Milwaukee, WI MSA       True\n",
      "34              Milwaukee2   1998 and 2001 Zip Code Business Patterns (Cen...       True\n",
      "35                   NCOVR                      US county homicides 1960-1990       True\n",
      "36                    NDVI        Normalized Difference Vegetation Index grid       True\n",
      "37                     NYC   Demographic and housing data for New York Cit...       True\n",
      "38            NYC Earnings              Block-level Earnings in NYC (2002-14)       True\n",
      "39           NYC Education                               NYC Education (2000)       True\n",
      "40       NYC Neighborhoods       Demographics for New York City neighborhoods       True\n",
      "41  NYC Socio-Demographics                 NYC Education + Socio-Demographics       True\n",
      "42              Natregimes                    NCOVR with regimes (book/PySAL)       True\n",
      "43                   Nepal   Health, poverty and education indicators for ...       True\n",
      "44                Ohiolung            Ohio lung cancer data, 1968, 1978, 1988       True\n",
      "45                Orlando1   2000 Census Tract Data for Orlando, FL MSA an...       True\n",
      "46                Orlando2   1998 and 2001 Zip Code Business Patterns (Cen...       True\n",
      "47                  Oz9799                        Monthly ozone data, 1997-99       True\n",
      "48             Phoenix ACS   Phoenix American Community Survey Data (2010,...       True\n",
      "49              Pittsburgh                      Pittsburgh homicide locations       True\n",
      "50                   Point                                    Point Shapefile       True\n",
      "51                  Police           Police expenditures Mississippi counties       True\n",
      "52                 Polygon                                  Polygon Shapefile       True\n",
      "53           Polygon_Holes                 Example to test treatment of holes       True\n",
      "54       Rio Grande do Sul  Cities of the Brazilian State of Rio Grande do...       True\n",
      "55                    SIDS            North Carolina county SIDS death counts       True\n",
      "56                   SIDS2   North Carolina county SIDS death counts and r...       True\n",
      "57             Sacramento1          2000 Census Tract Data for Sacramento MSA       True\n",
      "58             Sacramento2   1998 and 2001 Zip Code Business Patterns (Cen...       True\n",
      "59           SanFran Crime   July-Dec 2012 crime incidents in San Francisc...       True\n",
      "60               Savannah1   2000 Census Tract Data for Savannah, GA MSA a...       True\n",
      "61               Savannah2   1998 and 2001 Zip Code Business Patterns (Cen...       True\n",
      "62                 Scotlip               Male lip cancer in Scotland, 1975-80       True\n",
      "63                Seattle1   2000 Census Tract Data for Seattle, WA MSA an...       True\n",
      "64                Seattle2   1998 and 2001 Zip Code Business Patterns (Cen...       True\n",
      "65                   South             US Southern county homicides 1960-1990       True\n",
      "66                 StLouis   St Louis region county homicide counts and rates       True\n",
      "67                  Tampa1   2000 Census Tract Data for Tampa, FL MSA and ...       True\n",
      "68                  arcgis                               arcgis testing files       True\n",
      "69                  baltim     Baltimore house sales prices and hedonics 1978       True\n",
      "70                  berlin  Prenzlauer Berg neighborhood AirBnB data from ...       True\n",
      "71                    book       Synthetic data to illustrate spatial weights       True\n",
      "72                 burkitt  Burkitt's lymphoma in the Western Nile distric...       True\n",
      "73                  calemp         Employment density for California counties       True\n",
      "74                 chicago                              Chicago neighborhoods       True\n",
      "75              clearwater                               mgwr testing dataset       True\n",
      "76                columbus              Columbus neighborhood crime data 1980       True\n",
      "77                 desmith    Small dataset to illustrate Moran's I statistic       True\n",
      "78                geodanet        Datasets from geodanet for network analysis       True\n",
      "79                 georgia  Various socio-economic variables for counties ...       True\n",
      "80                juvenile    Residences of juvenile offenders in Cardiff, UK       True\n",
      "81                  mexico  Decennial per capita incomes of Mexican states...       True\n",
      "82                networks                  Datasets used for network testing       True\n",
      "83                newHaven                            Network testing dataset       True\n",
      "84               nyc_bikes                           New York City Bike Trips       True\n",
      "85                   sids2  North Carolina county SIDS death counts and rates       True\n",
      "86               snow_maps  Public water pumps and Cholera deaths in Londo...       True\n",
      "87                     stl  Homicides and selected socio-economic characte...       True\n",
      "88          street_net_pts                              Street network points       True\n",
      "89                     taz           Traffic Analysis Zones in So. California       True\n",
      "90                   tokyo                               Tokyo Mortality data       True\n",
      "91               us_income  Per-capita income for the lower 48 US states 1...       True\n",
      "92                virginia                        Virginia counties shapefile       True\n",
      "93                    wmat          Datasets used for spatial weights testing       True\n"
     ]
    }
   ],
   "source": [
    "available()"
   ]
  }
 ],
 "metadata": {
  "kernelspec": {
   "display_name": "Python 3",
   "language": "python",
   "name": "python3"
  },
  "language_info": {
   "codemirror_mode": {
    "name": "ipython",
    "version": 3
   },
   "file_extension": ".py",
   "mimetype": "text/x-python",
   "name": "python",
   "nbconvert_exporter": "python",
   "pygments_lexer": "ipython3",
   "version": "3.7.3"
  }
 },
 "nbformat": 4,
 "nbformat_minor": 2
}
