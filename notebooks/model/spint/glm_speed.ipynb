{
 "cells": [
  {
   "cell_type": "code",
   "execution_count": null,
   "metadata": {
    "ExecuteTime": {
     "end_time": "2019-01-05T17:49:08.791636Z",
     "start_time": "2019-01-05T17:49:07.648966Z"
    }
   },
   "outputs": [],
   "source": [
    "import numpy as np\n",
    "import pandas as pd\n",
    "from pysal.model.spint.gravity import Gravity, Production, Attraction, Doubly, BaseGravity\n",
    "#from entropy import Unconstrained, ProductionConstrained, AttractionConstrained, DoublyConstrained\n",
    "import statsmodels.formula.api as smf\n",
    "from statsmodels.api import families\n",
    "import matplotlib.pyplot as plt\n",
    "%pylab inline\n",
    "\n",
    "import time                                                \n",
    "\n",
    "def timeit(method):\n",
    "\n",
    "    def timed(*args, **kw):\n",
    "        ts = time.time()\n",
    "        result = method(*args, **kw)\n",
    "        te = time.time()\n",
    "        elapsed = te-ts\n",
    "        \n",
    "        return result, elapsed\n",
    "\n",
    "    return timed"
   ]
  },
  {
   "cell_type": "code",
   "execution_count": null,
   "metadata": {
    "ExecuteTime": {
     "end_time": "2019-01-05T17:49:11.621267Z",
     "start_time": "2019-01-05T17:49:11.612565Z"
    }
   },
   "outputs": [],
   "source": [
    "@timeit\n",
    "def gravity(f ,o, d, o_vars, d_vars, dij, cost='exp', framework='glm'):\n",
    "    results = Gravity(f, o_vars, d_vars, dij, cost, framework=framework)\n",
    "    return results\n",
    "    \n",
    "@timeit    \n",
    "def production(f ,o, d, o_vars, d_vars, dij, cost='exp', framework='glm'):\n",
    "    results = Production(f, o, d_vars, dij, 'exp', framework=framework)\n",
    "    return results\n",
    "\n",
    "@timeit    \n",
    "def attraction(f ,o, d, o_vars, d_vars, dij, cost='exp', framework='glm'):\n",
    "    results = Attraction(f, d, o_vars, dij, 'exp', framework=framework)\n",
    "    return results\n",
    "\n",
    "@timeit    \n",
    "def doubly(f ,o, d, o_vars, d_vars, dij, cost='exp', framework='glm'):\n",
    "    results = Doubly(f, o, d, dij, 'exp', framework=framework)\n",
    "    return results\n",
    "\n"
   ]
  },
  {
   "cell_type": "code",
   "execution_count": null,
   "metadata": {
    "ExecuteTime": {
     "end_time": "2019-01-05T17:49:13.051717Z",
     "start_time": "2019-01-05T17:49:13.043400Z"
    }
   },
   "outputs": [],
   "source": [
    "def sim_data(n):\n",
    "    o = np.tile(np.arange(n),n)\n",
    "    d = np.repeat(np.arange(n),n)\n",
    "    loc_size = np.random.randint(25000,500000, n)\n",
    "    o_vars = np.tile(loc_size, n)\n",
    "    d_vars = np.repeat(loc_size, n)\n",
    "    dij = np.random.exponential(2500, n**2)\n",
    "    f = o_vars**.3*d_vars**.4*np.exp(dij*-.00005)\n",
    "    o = np.reshape(o, (-1,1))\n",
    "    d = np.reshape(d, (-1,1))\n",
    "    o_vars = np.reshape(o_vars, (-1,1))\n",
    "    d_vars = np.reshape(d_vars, (-1,1))\n",
    "    dij = np.reshape(dij, (-1,1))\n",
    "    f = np.reshape(f, (-1,1))\n",
    "    f = f.astype(np.int64)\n",
    "    return f, o, d, o_vars, d_vars, dij\n"
   ]
  },
  {
   "cell_type": "code",
   "execution_count": null,
   "metadata": {
    "ExecuteTime": {
     "end_time": "2019-01-05T17:49:28.057547Z",
     "start_time": "2019-01-05T17:49:28.052351Z"
    }
   },
   "outputs": [],
   "source": [
    "def loop(func, start, stop, step, framework='glm'):\n",
    "    results = []\n",
    "    for n in np.arange(start, stop, step):\n",
    "        f, o, d, o_vars, d_vars, dij = sim_data(n)\n",
    "        out, elapsed = func(f, o, d, o_vars, d_vars, dij, 'exp', framework=framework)\n",
    "        print(out.params[-2:])\n",
    "        results.append(elapsed)\n",
    "    return results"
   ]
  },
  {
   "cell_type": "code",
   "execution_count": null,
   "metadata": {
    "ExecuteTime": {
     "end_time": "2019-01-05T17:49:33.184949Z",
     "start_time": "2019-01-05T17:49:30.182637Z"
    }
   },
   "outputs": [],
   "source": [
    "glm_grav = loop(gravity, 50, 250, 50)\n",
    "glm_prod = loop(production, 50, 250, 50)\n",
    "glm_att = loop(attraction, 50, 250, 50)\n",
    "glm_doub = loop(doubly, 50, 250, 50)"
   ]
  },
  {
   "cell_type": "code",
   "execution_count": null,
   "metadata": {
    "ExecuteTime": {
     "end_time": "2019-01-05T17:49:36.298895Z",
     "start_time": "2019-01-05T17:49:36.193100Z"
    }
   },
   "outputs": [],
   "source": [
    "smglm_grav = loop(gravity, 50, 250, 50, framework='sm_glm')\n",
    "smglm_prod = loop(production, 50, 250, 50, framework='sm_glm')\n",
    "smglm_att = loop(attraction, 50, 250, 50, framework='sm_glm')\n",
    "smglm_doub = loop(doubly, 50, 250, 50, framework='sm_glm')"
   ]
  },
  {
   "cell_type": "code",
   "execution_count": null,
   "metadata": {
    "ExecuteTime": {
     "end_time": "2019-01-05T17:49:51.262028Z",
     "start_time": "2019-01-05T17:49:51.258592Z"
    }
   },
   "outputs": [],
   "source": [
    "x = np.arange(50, 250, 50)"
   ]
  },
  {
   "cell_type": "code",
   "execution_count": null,
   "metadata": {
    "ExecuteTime": {
     "end_time": "2019-01-05T17:49:51.934219Z",
     "start_time": "2019-01-05T17:49:51.642595Z"
    },
    "scrolled": true
   },
   "outputs": [],
   "source": [
    "plt.plot(x, glm_grav, x, glm_prod, x, glm_att, x, glm_doub)\n",
    "plt.legend(('unconstrained', 'production', 'attraction', 'doubly'))\n",
    "plt.title('Custom GLM Framework')\n",
    "plt.xlabel('Sample Size')\n",
    "plt.ylabel('Seconds')"
   ]
  },
  {
   "cell_type": "code",
   "execution_count": null,
   "metadata": {
    "ExecuteTime": {
     "end_time": "2019-01-05T17:49:53.767784Z",
     "start_time": "2019-01-05T17:49:53.751473Z"
    }
   },
   "outputs": [],
   "source": [
    "plt.plot(x, smglm_grav, x, smglm_prod, x, smglm_att, x, smglm_doub)\n",
    "plt.legend(('unconstrained', 'production', 'attraction', 'doubly'))\n",
    "plt.legend(('unconstrained', 'production', 'attraction', 'doubly'))\n",
    "plt.title('Statsmodels GLM Framework')\n",
    "plt.xlabel('Sample Size')\n",
    "plt.ylabel('Seconds')"
   ]
  },
  {
   "cell_type": "code",
   "execution_count": null,
   "metadata": {},
   "outputs": [],
   "source": []
  },
  {
   "cell_type": "code",
   "execution_count": null,
   "metadata": {
    "ExecuteTime": {
     "end_time": "2019-01-05T17:50:02.265965Z",
     "start_time": "2019-01-05T17:50:02.181539Z"
    }
   },
   "outputs": [],
   "source": [
    "f, o, d, o_vars, d_vars, dij = sim_data(100)\n",
    "test = Production(f, o, d_vars, dij, 'exp')"
   ]
  },
  {
   "cell_type": "code",
   "execution_count": null,
   "metadata": {
    "ExecuteTime": {
     "end_time": "2019-01-05T17:50:03.122726Z",
     "start_time": "2019-01-05T17:50:03.117604Z"
    }
   },
   "outputs": [],
   "source": [
    "test."
   ]
  }
 ],
 "metadata": {
  "kernelspec": {
   "display_name": "Python [conda env:py3_spgh_dev]",
   "language": "python",
   "name": "conda-env-py3_spgh_dev-py"
  },
  "language_info": {
   "codemirror_mode": {
    "name": "ipython",
    "version": 3
   },
   "file_extension": ".py",
   "mimetype": "text/x-python",
   "name": "python",
   "nbconvert_exporter": "python",
   "pygments_lexer": "ipython3",
   "version": "3.6.6"
  }
 },
 "nbformat": 4,
 "nbformat_minor": 1
}
