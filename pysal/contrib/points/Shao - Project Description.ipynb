{
 "cells": [
  {
   "cell_type": "markdown",
   "metadata": {},
   "source": [
    "# Project Description - Parallelized Tools for Point Pattern Analysis\n",
    "----------------\n",
    "**Hu Shao**\n",
    "\n",
    "\n",
    "## General Scope\n",
    "The main purpose of this project is to develop some parallelized algorithm/tools to leverage the performance of existing point pattern analysis methods in [Pysal](https://github.com/pysal).  \n",
    "Simulating spatial processes in general is computation intensive. For example, in [Distance Based Statistical Method for Planar Point Patterns](https://github.com/sjsrey/pysal/blob/points_contrib/pysal/contrib/points/distance_statistics.py), we need to simulate CSR or a specific spatial process for a lot of times to build simulation envelops for the hypothesis testing. Parallelizing this process is important and logically straightforward.  \n",
    "##  Tentative workplan\n",
    "1. Get familiar with parallel computing algorithm of Python and the point pattern analysis algorithms in Pysal.\n",
    "2. Develop the parallelized algorithms for Pysal.\n",
    "\n",
    "## Deliverables\n",
    "This work will contribute to the [point pattern module](https://github.com/sjsrey/pysal/tree/points_contrib/pysal/contrib/points) of Pysal"
   ]
  },
  {
   "cell_type": "markdown",
   "metadata": {},
   "source": [
    "## Working Process\n",
    "------------\n",
    "The step by step working process will be recorded in this section\n",
    "\n",
    "### Step 1:\n",
    "**Figure out the computing process for a specific point pattern analysis and decide which parts of them could be parallelized**  \n",
    "Directly related pages for reading:\n",
    "- pointpattern.ipynb  \n",
    "    This page briefly introduces the basic knowledge about point pattern and the implementation of \"Point pattern analysis\" in PySAL's \"pointpattern\" module. It also talks about how a point lists can be loaded into this module.  \n",
    "- distance_statistics.ipynb\n"
   ]
  },
  {
   "cell_type": "code",
   "execution_count": 6,
   "metadata": {
    "collapsed": false
   },
   "outputs": [
    {
     "name": "stdout",
     "output_type": "stream",
     "text": [
      "import finished!\n"
     ]
    }
   ],
   "source": [
    "import sys\n",
    "path_base_dell = 'C:/work/ASUWork/pysal'\n",
    "path_base_os = '/Users/hushao/Documents/ASUWork/pysal/'\n",
    "sys.path.append(path_base_dell)\n",
    "sys.path.append(path_base_os)\n",
    "import pysal as ps\n",
    "import numpy as np\n",
    "from pysal.contrib.points.pointpattern import PointPattern\n",
    "\n",
    "print(\"import finished!\")"
   ]
  },
  {
   "cell_type": "code",
   "execution_count": 9,
   "metadata": {
    "collapsed": false
   },
   "outputs": [
    {
     "name": "stdout",
     "output_type": "stream",
     "text": [
      "(12, 2)\n"
     ]
    }
   ],
   "source": [
    "points = [[66.22, 32.54], [22.52, 22.39], [31.01, 81.21],\n",
    "          [9.47, 31.02],  [30.78, 60.10], [75.21, 58.93],\n",
    "          [79.26,  7.68], [8.23, 39.93],  [98.73, 77.17],\n",
    "          [89.78, 42.53], [65.19, 92.08], [54.46, 8.48]]\n",
    "p1 = PointPattern(points)"
   ]
  }
 ],
 "metadata": {
  "kernelspec": {
   "display_name": "Python 2",
   "language": "python",
   "name": "python2"
  },
  "language_info": {
   "codemirror_mode": {
    "name": "ipython",
    "version": 2
   },
   "file_extension": ".py",
   "mimetype": "text/x-python",
   "name": "python",
   "nbconvert_exporter": "python",
   "pygments_lexer": "ipython2",
   "version": "2.7.11"
  }
 },
 "nbformat": 4,
 "nbformat_minor": 0
}
