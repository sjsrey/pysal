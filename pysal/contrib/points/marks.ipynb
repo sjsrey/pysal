{
 "cells": [
  {
   "cell_type": "code",
   "execution_count": 1,
   "metadata": {
    "collapsed": false
   },
   "outputs": [
    {
     "name": "stderr",
     "output_type": "stream",
     "text": [
      "/home/serge/Dropbox/p/pysal/src/pysal/pysal/core/IOHandlers/__init__.py:25: UserWarning: SQLAlchemy and Geomet not installed, database I/O disabled\n",
      "  warnings.warn('SQLAlchemy and Geomet not installed, database I/O disabled')\n"
     ]
    }
   ],
   "source": [
    "from pysal.contrib.points.process import PoissonPointProcess, PoissonClusterPointProcess\n",
    "from pysal.contrib.points.window import Window, poly_from_bbox\n",
    "from pysal.contrib.points.pointpattern import PointPattern\n",
    "import pysal as ps\n",
    "from pysal.contrib import shapely_ext\n",
    "#import shapely\n",
    "%matplotlib inline\n",
    "import matplotlib.pyplot as plt"
   ]
  },
  {
   "cell_type": "code",
   "execution_count": 2,
   "metadata": {
    "collapsed": true
   },
   "outputs": [],
   "source": [
    "# open the virginia polygon shapefile\n",
    "va = ps.open(ps.examples.get_path(\"virginia.shp\"))\n",
    "polys = [shp for shp in va]"
   ]
  },
  {
   "cell_type": "code",
   "execution_count": 3,
   "metadata": {
    "collapsed": true
   },
   "outputs": [],
   "source": [
    "# Create the exterior polygons for VA from the union of the county shapes\n",
    "state = shapely_ext.cascaded_union(polys)\n",
    "# create window from virginia state boundary\n",
    "window = Window(state.parts)"
   ]
  },
  {
   "cell_type": "code",
   "execution_count": 4,
   "metadata": {
    "collapsed": false
   },
   "outputs": [
    {
     "data": {
      "text/plain": [
       "[-83.67526245117188, 36.541481018066406, -75.24258422851562, 39.45690155029297]"
      ]
     },
     "execution_count": 4,
     "metadata": {},
     "output_type": "execute_result"
    }
   ],
   "source": [
    "window.bbox"
   ]
  },
  {
   "cell_type": "code",
   "execution_count": 5,
   "metadata": {
    "collapsed": false
   },
   "outputs": [
    {
     "data": {
      "text/plain": [
       "(-78.85183583334933, 37.51851209850039)"
      ]
     },
     "execution_count": 5,
     "metadata": {},
     "output_type": "execute_result"
    }
   ],
   "source": [
    "window.centroid"
   ]
  },
  {
   "cell_type": "code",
   "execution_count": 6,
   "metadata": {
    "collapsed": true
   },
   "outputs": [],
   "source": [
    "samples = PoissonPointProcess(window, 200, 1, conditioning=False, asPP=False)"
   ]
  },
  {
   "cell_type": "code",
   "execution_count": 7,
   "metadata": {
    "collapsed": true
   },
   "outputs": [],
   "source": [
    "csr = PointPattern(samples.realizations[0])"
   ]
  },
  {
   "cell_type": "code",
   "execution_count": 8,
   "metadata": {
    "collapsed": false
   },
   "outputs": [],
   "source": [
    "cx, cy = window.centroid"
   ]
  },
  {
   "cell_type": "code",
   "execution_count": 9,
   "metadata": {
    "collapsed": false
   },
   "outputs": [
    {
     "data": {
      "text/plain": [
       "-78.85183583334933"
      ]
     },
     "execution_count": 9,
     "metadata": {},
     "output_type": "execute_result"
    }
   ],
   "source": [
    "cx"
   ]
  },
  {
   "cell_type": "code",
   "execution_count": 10,
   "metadata": {
    "collapsed": false
   },
   "outputs": [
    {
     "data": {
      "text/plain": [
       "37.51851209850039"
      ]
     },
     "execution_count": 10,
     "metadata": {},
     "output_type": "execute_result"
    }
   ],
   "source": [
    "cy"
   ]
  },
  {
   "cell_type": "code",
   "execution_count": 11,
   "metadata": {
    "collapsed": false
   },
   "outputs": [],
   "source": [
    "west = csr.points.x < cx\n",
    "\n",
    "south = csr.points.y < cy\n",
    "east = 1 - west\n",
    "north = 1 - south"
   ]
  },
  {
   "cell_type": "code",
   "execution_count": 12,
   "metadata": {
    "collapsed": false
   },
   "outputs": [],
   "source": [
    "quad = 1 * east * north +  2 * west * north + 3 * west * south + 4 * east * south"
   ]
  },
  {
   "cell_type": "code",
   "execution_count": 13,
   "metadata": {
    "collapsed": false
   },
   "outputs": [
    {
     "data": {
      "text/plain": [
       "0      2\n",
       "1      4\n",
       "2      4\n",
       "3      1\n",
       "4      4\n",
       "5      1\n",
       "6      1\n",
       "7      4\n",
       "8      2\n",
       "9      3\n",
       "10     2\n",
       "11     4\n",
       "12     2\n",
       "13     4\n",
       "14     4\n",
       "15     2\n",
       "16     2\n",
       "17     3\n",
       "18     4\n",
       "19     4\n",
       "20     1\n",
       "21     2\n",
       "22     3\n",
       "23     3\n",
       "24     3\n",
       "25     3\n",
       "26     1\n",
       "27     3\n",
       "28     3\n",
       "29     3\n",
       "      ..\n",
       "170    3\n",
       "171    3\n",
       "172    3\n",
       "173    4\n",
       "174    3\n",
       "175    4\n",
       "176    3\n",
       "177    4\n",
       "178    4\n",
       "179    1\n",
       "180    2\n",
       "181    3\n",
       "182    3\n",
       "183    1\n",
       "184    3\n",
       "185    1\n",
       "186    4\n",
       "187    1\n",
       "188    4\n",
       "189    4\n",
       "190    3\n",
       "191    2\n",
       "192    3\n",
       "193    4\n",
       "194    3\n",
       "195    4\n",
       "196    1\n",
       "197    4\n",
       "198    4\n",
       "199    1\n",
       "dtype: int64"
      ]
     },
     "execution_count": 13,
     "metadata": {},
     "output_type": "execute_result"
    }
   ],
   "source": [
    "quad"
   ]
  },
  {
   "cell_type": "code",
   "execution_count": 14,
   "metadata": {
    "collapsed": true
   },
   "outputs": [],
   "source": [
    "csr.add_marks([quad], mark_names = ['quad'])"
   ]
  },
  {
   "cell_type": "code",
   "execution_count": 15,
   "metadata": {
    "collapsed": false
   },
   "outputs": [
    {
     "data": {
      "text/plain": [
       "0      2\n",
       "1      4\n",
       "2      4\n",
       "3      1\n",
       "4      4\n",
       "5      1\n",
       "6      1\n",
       "7      4\n",
       "8      2\n",
       "9      3\n",
       "10     2\n",
       "11     4\n",
       "12     2\n",
       "13     4\n",
       "14     4\n",
       "15     2\n",
       "16     2\n",
       "17     3\n",
       "18     4\n",
       "19     4\n",
       "20     1\n",
       "21     2\n",
       "22     3\n",
       "23     3\n",
       "24     3\n",
       "25     3\n",
       "26     1\n",
       "27     3\n",
       "28     3\n",
       "29     3\n",
       "      ..\n",
       "170    3\n",
       "171    3\n",
       "172    3\n",
       "173    4\n",
       "174    3\n",
       "175    4\n",
       "176    3\n",
       "177    4\n",
       "178    4\n",
       "179    1\n",
       "180    2\n",
       "181    3\n",
       "182    3\n",
       "183    1\n",
       "184    3\n",
       "185    1\n",
       "186    4\n",
       "187    1\n",
       "188    4\n",
       "189    4\n",
       "190    3\n",
       "191    2\n",
       "192    3\n",
       "193    4\n",
       "194    3\n",
       "195    4\n",
       "196    1\n",
       "197    4\n",
       "198    4\n",
       "199    1\n",
       "dtype: int64"
      ]
     },
     "execution_count": 15,
     "metadata": {},
     "output_type": "execute_result"
    }
   ],
   "source": [
    "quad"
   ]
  },
  {
   "cell_type": "code",
   "execution_count": 22,
   "metadata": {
    "collapsed": false
   },
   "outputs": [],
   "source": [
    "csr_q = csr.explode('quad')"
   ]
  },
  {
   "cell_type": "code",
   "execution_count": 23,
   "metadata": {
    "collapsed": false
   },
   "outputs": [
    {
     "data": {
      "text/plain": [
       "4"
      ]
     },
     "execution_count": 23,
     "metadata": {},
     "output_type": "execute_result"
    }
   ],
   "source": [
    "len(csr_q)"
   ]
  },
  {
   "cell_type": "code",
   "execution_count": 24,
   "metadata": {
    "collapsed": false
   },
   "outputs": [
    {
     "data": {
      "text/plain": [
       "<pysal.contrib.points.pointpattern.PointPattern at 0x7eff828cc510>"
      ]
     },
     "execution_count": 24,
     "metadata": {},
     "output_type": "execute_result"
    }
   ],
   "source": [
    "csr"
   ]
  },
  {
   "cell_type": "code",
   "execution_count": 25,
   "metadata": {
    "collapsed": false
   },
   "outputs": [
    {
     "name": "stdout",
     "output_type": "stream",
     "text": [
      "Point Pattern\n",
      "200 points\n",
      "Bounding rectangle [(-83.5850605805,36.5796689582), (-75.6568602245,39.3220681169)]\n",
      "Area of window: 21.7422899861\n",
      "Intensity estimate for window: 9.19866307219\n",
      "           x          y  quad\n",
      "0 -79.070601  37.753815     2\n",
      "1 -77.897053  36.859739     4\n",
      "2 -77.693233  37.073287     4\n",
      "3 -77.255492  37.723716     1\n",
      "4 -76.377539  36.763075     4\n"
     ]
    }
   ],
   "source": [
    "csr.summary()"
   ]
  },
  {
   "cell_type": "code",
   "execution_count": 30,
   "metadata": {
    "collapsed": false,
    "scrolled": true
   },
   "outputs": [
    {
     "data": {
      "image/png": "[encoded data removed]",
      "text/plain": [
       "<matplotlib.figure.Figure at 0x7eff801d9610>"
      ]
     },
     "metadata": {},
     "output_type": "display_data"
    },
    {
     "data": {
      "image/png": "[encoded data removed]",
      "text/plain": [
       "<matplotlib.figure.Figure at 0x7eff801d9590>"
      ]
     },
     "metadata": {},
     "output_type": "display_data"
    },
    {
     "data": {
      "image/png": "[encoded data removed]",
      "text/plain": [
       "<matplotlib.figure.Figure at 0x7eff802fdfd0>"
      ]
     },
     "metadata": {},
     "output_type": "display_data"
    },
    {
     "data": {
      "image/png": "[encoded data removed]",
      "text/plain": [
       "<matplotlib.figure.Figure at 0x7eff80295d90>"
      ]
     },
     "metadata": {},
     "output_type": "display_data"
    },
    {
     "data": {
      "image/png": "[encoded data removed]",
      "text/plain": [
       "<matplotlib.figure.Figure at 0x7eff80075b50>"
      ]
     },
     "metadata": {},
     "output_type": "display_data"
    }
   ],
   "source": [
    "plt.xlim()\n",
    "for ppn in csr_q:\n",
    "    ppn.plot()"
   ]
  },
  {
   "cell_type": "code",
   "execution_count": 32,
   "metadata": {
    "collapsed": false
   },
   "outputs": [],
   "source": [
    "x0, y0, x1, y1 = csr.mbb\n",
    "ylim = (y0, y1)\n",
    "xlim = (x0, x1)"
   ]
  },
  {
   "cell_type": "code",
   "execution_count": 34,
   "metadata": {
    "collapsed": false
   },
   "outputs": [
    {
     "data": {
      "image/png": "[encoded data removed]",
      "text/plain": [
       "<matplotlib.figure.Figure at 0x7eff800560d0>"
      ]
     },
     "metadata": {},
     "output_type": "display_data"
    },
    {
     "data": {
      "image/png": "[encoded data removed]",
      "text/plain": [
       "<matplotlib.figure.Figure at 0x7eff8066ecd0>"
      ]
     },
     "metadata": {},
     "output_type": "display_data"
    },
    {
     "data": {
      "image/png": "[encoded data removed]",
      "text/plain": [
       "<matplotlib.figure.Figure at 0x7eff8284ca90>"
      ]
     },
     "metadata": {},
     "output_type": "display_data"
    },
    {
     "data": {
      "image/png": "[encoded data removed]",
      "text/plain": [
       "<matplotlib.figure.Figure at 0x7eff801bf6d0>"
      ]
     },
     "metadata": {},
     "output_type": "display_data"
    }
   ],
   "source": [
    "\n",
    "for ppn in csr_q:\n",
    "    ppn.plot()\n",
    "    plt.xlim(xlim)\n",
    "    plt.ylim(ylim)"
   ]
  },
  {
   "cell_type": "code",
   "execution_count": null,
   "metadata": {
    "collapsed": true
   },
   "outputs": [],
   "source": []
  }
 ],
 "metadata": {
  "kernelspec": {
   "display_name": "Python 2",
   "language": "python",
   "name": "python2"
  },
  "language_info": {
   "codemirror_mode": {
    "name": "ipython",
    "version": 2
   },
   "file_extension": ".py",
   "mimetype": "text/x-python",
   "name": "python",
   "nbconvert_exporter": "python",
   "pygments_lexer": "ipython2",
   "version": "2.7.12"
  }
 },
 "nbformat": 4,
 "nbformat_minor": 0
}
