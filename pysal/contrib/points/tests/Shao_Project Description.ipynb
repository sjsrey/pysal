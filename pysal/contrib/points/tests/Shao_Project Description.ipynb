{
 "cells": [
  {
   "cell_type": "markdown",
   "metadata": {},
   "source": [
    "# Project Description - Parallelized Tools for Point Pattern Analysis\n",
    "----------------\n",
    "**Hu Shao**\n",
    "\n",
    "\n",
    "## General Scope\n",
    "The main purpose of this project is to develop some parallelized algorithm/tools to leverage the performance of existing point pattern analysis methods in [Pysal](https://github.com/pysal).  \n",
    "Simulating spatial processes in general is computation intensive. For example, in [Distance Based Statistical Method for Planar Point Patterns](https://github.com/sjsrey/pysal/blob/points_contrib/pysal/contrib/points/distance_statistics.py), we need to simulate CSR or a specific spatial process for a lot of times to build simulation envelops for the hypothesis testing. Parallelizing this process is important and logically straightforward.  \n",
    "##  Tentative workplan\n",
    "1. Get familiar with parallel computing algorithm of Python and the point pattern analysis algorithms in Pysal.\n",
    "2. Develop the parallelized algorithms for Pysal.\n",
    "\n",
    "## Deliverables\n",
    "This work will contribute to the [point pattern module](https://github.com/sjsrey/pysal/tree/points_contrib/pysal/contrib/points) of Pysal"
   ]
  },
  {
   "cell_type": "markdown",
   "metadata": {},
   "source": [
    "## Working Process\n",
    "------------\n",
    "The step by step working process will be recorded in this section\n",
    "\n",
    "### Step 1:\n",
    "<b style=\"color:blue\">Figure out the computing process for a specific point pattern analysis and decide which parts of them could be parallelized</b>  \n",
    "Directly related pages for reading:\n",
    "- pointpattern.ipynb  \n",
    "    - This page briefly introduces the basic knowledge about point pattern and the implementation of \"Point pattern analysis\" in PySAL's \"pointpattern\" module. It also talks about how a point lists can be loaded into this module.  \n",
    "- distance_statistics.ipynb\n",
    "    - G function: just calculate the nearest neighbor distance of each event. Say, if there are 12 events, then there will be 12 distances.\n",
    "    - F function: randomly generate extra points and calculate the distance of nearest event to each of the points. So, the distances' number equals to the number of generated points. If the number of generated points is large (e.g. 100), then the result statistic line will be smoother than the G function.\n",
    "\n",
    "### Step2:\n",
    "<b style=\"color:blue\">Get familiar the exactly calculation process form importing point to generating the simulation envelop</b>  \n",
    "**Importing points into PointPattern Class**  \n",
    "``\n",
    "def __init__(self, points, window=None, names=None, coord_names=None):\n",
    "``\n",
    "Two parameters are important in the init function:\n",
    "1. points: all the sample points\n",
    "2. window: study area/constrain.  \n",
    "    The window parameter takes instance of the class *pysal.contrib.points.Window*, which is an sub-class of *pysal.cg.shapes.Polygon*  \n",
    "    The inherit function **contains_point** is used to determine whether a randomly generated point locates in the polygon. Finally the \"real\" contains_point function is implemented in the class *Ring*. Typical method is used: firstly check if the points located in the BBX of polygon; If yes, compare this point to every line segment of the boundary."
   ]
  },
  {
   "cell_type": "code",
   "execution_count": 1,
   "metadata": {
    "collapsed": false
   },
   "outputs": [
    {
     "name": "stdout",
     "output_type": "stream",
     "text": [
      "import finished!\n"
     ]
    }
   ],
   "source": [
    "# Import essential libraries for following calculation\n",
    "import sys\n",
    "path_base_dell = 'C:/work/ASUWork/pysal'\n",
    "path_base_lenove = 'D:/ASUWork/pysal'\n",
    "path_base_os = '/Users/hushao/Documents/ASUWork/pysal/'\n",
    "sys.path.append(path_base_dell)\n",
    "sys.path.append(path_base_lenove)\n",
    "sys.path.append(path_base_os)\n",
    "import pysal as ps\n",
    "import numpy as np\n",
    "from pysal.contrib.points.pointpattern import PointPattern\n",
    "from pysal.contrib.points.process import PoissonPointProcess \n",
    "from pysal.contrib.points.distance_statistics import G, F, J, K, L\n",
    "from pysal.contrib.points.distance_statistics import Genv, Fenv, Jenv, Kenv, Lenv\n",
    "%matplotlib inline\n",
    "import matplotlib.pyplot as plt\n",
    "\n",
    "from pysal.cg.shapes import Polygon, Point\n",
    "import time\n",
    "print(\"import finished!\")"
   ]
  },
  {
   "cell_type": "code",
   "execution_count": 3,
   "metadata": {
    "collapsed": false
   },
   "outputs": [
    {
     "name": "stdout",
     "output_type": "stream",
     "text": [
      "<pysal.cg.shapes.Polygon object at 0x0000000004450828>\n",
      "(1461224116692L, 1461224116694L, 2L)\n"
     ]
    }
   ],
   "source": [
    "time_begin = int(round(time.time() * 1000))\n",
    "pols = ps.open(\"data/Tunxi_region.shp\")\n",
    "for polygon in pols:\n",
    "    print(polygon)\n",
    "polygon = pols[0]\n",
    "time_end = int(round(time.time() * 1000))\n",
    "print(time_begin, time_end, time_end - time_begin)"
   ]
  },
  {
   "cell_type": "code",
   "execution_count": 8,
   "metadata": {
    "collapsed": false
   },
   "outputs": [
    {
     "name": "stdout",
     "output_type": "stream",
     "text": [
      "('lenght of points in polygon:', 426)\n",
      "((118.357163, 29.782866), (118.357163, 29.782866))\n",
      "True\n"
     ]
    },
    {
     "data": {
      "text/plain": [
       "False"
      ]
     },
     "execution_count": 8,
     "metadata": {},
     "output_type": "execute_result"
    }
   ],
   "source": [
    "print(\"lenght of points in polygon:\", len(polygon.vertices))\n",
    "print(polygon.vertices[0], polygon.vertices[len(polygon.vertices)-1])\n",
    "print(polygon.vertices[0] == polygon.vertices[len(polygon.vertices)-1])\n",
    "polygon.contains_point((1,3))"
   ]
  },
  {
   "cell_type": "code",
   "execution_count": 30,
   "metadata": {
    "collapsed": false
   },
   "outputs": [
    {
     "data": {
      "text/plain": [
       "1461196569.788"
      ]
     },
     "execution_count": 30,
     "metadata": {},
     "output_type": "execute_result"
    }
   ],
   "source": [
    "time.time()"
   ]
  },
  {
   "cell_type": "code",
   "execution_count": 15,
   "metadata": {
    "collapsed": false
   },
   "outputs": [
    {
     "name": "stdout",
     "output_type": "stream",
     "text": [
      "(12, 2)\n",
      "        x      y\n",
      "0   66.22  32.54\n",
      "1   22.52  22.39\n",
      "2   31.01  81.21\n",
      "3    9.47  31.02\n",
      "4   30.78  60.10\n",
      "5   75.21  58.93\n",
      "6   79.26   7.68\n",
      "7    8.23  39.93\n",
      "8   98.73  77.17\n",
      "9   89.78  42.53\n",
      "10  65.19  92.08\n",
      "11  54.46   8.48\n"
     ]
    },
    {
     "data": {
      "image/png": "[encoded data removed]",
      "text/plain": [
       "<matplotlib.figure.Figure at 0x117707a50>"
      ]
     },
     "metadata": {},
     "output_type": "display_data"
    }
   ],
   "source": [
    "points = [[66.22, 32.54], [22.52, 22.39], [31.01, 81.21],\n",
    "          [9.47, 31.02],  [30.78, 60.10], [75.21, 58.93],\n",
    "          [79.26,  7.68], [8.23, 39.93],  [98.73, 77.17],\n",
    "          [89.78, 42.53], [65.19, 92.08], [54.46, 8.48]]\n",
    "pp = PointPattern(points) # import the points into the class PointPattern\n",
    "kf = K(pp) # Calculate the K function for the points\n",
    "kf.plot()"
   ]
  },
  {
   "cell_type": "code",
   "execution_count": 9,
   "metadata": {
    "collapsed": false
   },
   "outputs": [
    {
     "ename": "NameError",
     "evalue": "name 'pp' is not defined",
     "output_type": "error",
     "traceback": [
      "\u001b[1;31m---------------------------------------------------------------------------\u001b[0m",
      "\u001b[1;31mNameError\u001b[0m                                 Traceback (most recent call last)",
      "\u001b[1;32m<ipython-input-9-6db1c35592ef>\u001b[0m in \u001b[0;36m<module>\u001b[1;34m()\u001b[0m\n\u001b[1;32m----> 1\u001b[1;33m \u001b[0mrealizations\u001b[0m \u001b[1;33m=\u001b[0m \u001b[0mPoissonPointProcess\u001b[0m\u001b[1;33m(\u001b[0m\u001b[0mpp\u001b[0m\u001b[1;33m.\u001b[0m\u001b[0mwindow\u001b[0m\u001b[1;33m,\u001b[0m \u001b[0mpp\u001b[0m\u001b[1;33m.\u001b[0m\u001b[0mn\u001b[0m\u001b[1;33m,\u001b[0m \u001b[1;36m100\u001b[0m\u001b[1;33m,\u001b[0m \u001b[0masPP\u001b[0m\u001b[1;33m=\u001b[0m\u001b[0mTrue\u001b[0m\u001b[1;33m)\u001b[0m \u001b[1;31m# simulate CSR 100 times\u001b[0m\u001b[1;33m\u001b[0m\u001b[0m\n\u001b[0m\u001b[0;32m      2\u001b[0m \u001b[0mkenv\u001b[0m \u001b[1;33m=\u001b[0m \u001b[0mKenv\u001b[0m\u001b[1;33m(\u001b[0m\u001b[0mpp\u001b[0m\u001b[1;33m,\u001b[0m \u001b[0mintervals\u001b[0m\u001b[1;33m=\u001b[0m\u001b[1;36m20\u001b[0m\u001b[1;33m,\u001b[0m \u001b[0mrealizations\u001b[0m\u001b[1;33m=\u001b[0m\u001b[0mrealizations\u001b[0m\u001b[1;33m)\u001b[0m\u001b[1;33m\u001b[0m\u001b[0m\n\u001b[0;32m      3\u001b[0m \u001b[0mkenv\u001b[0m\u001b[1;33m.\u001b[0m\u001b[0mplot\u001b[0m\u001b[1;33m(\u001b[0m\u001b[1;33m)\u001b[0m\u001b[1;33m\u001b[0m\u001b[0m\n",
      "\u001b[1;31mNameError\u001b[0m: name 'pp' is not defined"
     ]
    }
   ],
   "source": [
    "realizations = PoissonPointProcess(pp.window, pp.n, 100, asPP=True) # simulate CSR 100 times\n",
    "kenv = Kenv(pp, intervals=20, realizations=realizations)\n",
    "kenv.plot()"
   ]
  },
  {
   "cell_type": "markdown",
   "metadata": {},
   "source": [
    "## Algorithm of building quadtree cells for research area\n",
    "A huge number of points will be simulated and test if falls in the study area in the real case. This calculation process is very computing intensive. Especially when the boundary of study area is complex and contains a lot of segments, or the simulation time is also large.   \n",
    "In order to fast decide whether a point is contained in the study area, we can prepare an grid structure which divide the study area into quadtree based regular rectangles. Each rectangles will have a specific status from ['in', 'out', 'maybe']. After we prepared this kind of grid structure, deciding whether a points falls in the study area will be very easy: first, allocate the point into a specific cell. For the cell with different status:  \n",
    "- in: the point must be in the study area  \n",
    "- out: the point must not be in the study area  \n",
    "- maybe: decide if the points falls into the study area by some following-up calculation. However, the small polygon contains much less boundary segments, the calculation will be much easier. What's more, this kind of grids only take over a very small part of the whole grids  \n",
    "![quadtree_example](img/quadtree_example.png)\n",
    "\n",
    "### Process of duadtree dividing of the study area:\n",
    "Treat the boundary of the study area as arc. Each time of dividing the study area means use two straight lines (on horizontal and one vertical) to split a big rectangle (cell) into 4 smaller ones. During this process, the arc should also be used to intersect with the straight lines and break into small segments. Different segments should belong to different cells and can be used to determine the status of the cell (as we mentioned: in, out or maybe inside of the study area.) Repeat this process until the cell's size is small enough.  \n",
    "During the dividing, there are <font style=\"color:blue\">some special properties of the arcs</font> we need to know:  \n",
    "- Point order of the arcs **MUST** be clockwise  \n",
    "- The two end-points of each arc **MUST** lie on the borders of the cell  \n",
    "- When a arc goes in a cell, it **MUST** goes out from the same one  \n",
    "- The intersection points **MUST** be lying on the inner-boundaries which are used to divide the cell into 4 sub-cells\n",
    "- Use the intersection points to split the arcs into small ones  \n",
    "- No need to store cell boundaries as arcs, store the intersection points, points' relative location from  \n",
    "\n",
    "\n",
    "The following image depicts the categorize rule of cell boundary when being divided into sub cells:  \n",
    "<b style=\"color:blue\">cell_boundary_category_rule</b>  \n",
    "![cell_boundary_category_rule](img/cell_boundary_category_rule.png)\n",
    "\n",
    "<b style=\"color:blue\">segment_sequence_search_rule</b>  \n",
    "![segment_sequence_search_rule](img/segment_sequence_search_rule.png)\n",
    "\n",
    "In the situations that there are some arcs intersect with a cell and we need to extract the segment squence, here is the rule:  \n",
    "1. Start on the bottom-left point of the cell, go clockwise to search points.  \n",
    "2. Find the first arc-begin-point on the cell's border. The actual segment sequence begin from here.  \n",
    "3. Go alone the arc until the end point on the border. Then go alone the cell's border until find next arc-begin-point.  \n",
    "4. Repeat **Step.3** until reach the first arc-begin-point at **Step.2**. Search stop.\n",
    "\n",
    "From the image we can see that the red border lines also belong to the segment sequence.  \n",
    "During the quadtree dividing, when there is a cell who doesn't intersect with any arc, we need to determine whether this cell is totally within the study area or not. we Can use the method above to determine: If this cell share a border which belongs to other cells' segment sequence, then this cell is totally within the study area; vice versa"
   ]
  },
  {
   "cell_type": "code",
   "execution_count": 2,
   "metadata": {
    "collapsed": false
   },
   "outputs": [
    {
     "data": {
      "text/plain": [
       "False"
      ]
     },
     "execution_count": 2,
     "metadata": {},
     "output_type": "execute_result"
    }
   ],
   "source": [
    "1==1==2"
   ]
  }
 ],
 "metadata": {
  "kernelspec": {
   "display_name": "Python 2",
   "language": "python",
   "name": "python2"
  },
  "language_info": {
   "codemirror_mode": {
    "name": "ipython",
    "version": 2
   },
   "file_extension": ".py",
   "mimetype": "text/x-python",
   "name": "python",
   "nbconvert_exporter": "python",
   "pygments_lexer": "ipython2",
   "version": "2.7.11"
  }
 },
 "nbformat": 4,
 "nbformat_minor": 0
}
