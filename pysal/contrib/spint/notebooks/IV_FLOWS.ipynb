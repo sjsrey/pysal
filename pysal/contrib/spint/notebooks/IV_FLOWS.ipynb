{
 "cells": [
  {
   "cell_type": "code",
   "execution_count": 145,
   "metadata": {
    "collapsed": false
   },
   "outputs": [],
   "source": [
    "import numpy as np\n",
    "import pandas as pd\n",
    "import pysal as ps\n",
    "import os\n",
    "os.chdir('/Users/toshan/dev/pysal/pysal/weights')\n",
    "from spintW import ODW\n",
    "from pysal.spreg.twosls_sp import GM_Lag, BaseGM_Lag"
   ]
  },
  {
   "cell_type": "code",
   "execution_count": 146,
   "metadata": {
    "collapsed": true
   },
   "outputs": [],
   "source": [
    "#Prep Data\n",
    "austria = pd.read_csv('http://dl.dropbox.com/u/8649795/AT_Austria.csv')\n",
    "f = austria['Data'].values.reshape((-1,1))\n",
    "o = austria['Origin'].values.reshape((-1,1))\n",
    "d = austria['Destination'].values.reshape((-1,1))\n",
    "dij = austria['Dij'].values.reshape((-1,1))\n",
    "o_vars = austria['Oi2007'].values.reshape((-1,1))\n",
    "d_vars = austria['Dj2007'].values.reshape((-1,1))\n",
    "\n",
    "Wo = ps.weights.lat2W(3,3)\n",
    "Wd = ps.weights.lat2W(3,3)\n",
    "Ww = ODW(Wo,Wd)\n",
    "\n",
    "y = f.reshape((-1,1))\n",
    "X = np.hstack([o_vars.reshape((-1,1)), d_vars.reshape((-1,1)), dij.reshape((-1,1))])"
   ]
  },
  {
   "cell_type": "code",
   "execution_count": 149,
   "metadata": {
    "collapsed": false
   },
   "outputs": [
    {
     "data": {
      "text/plain": [
       "array([[ -2.86692386e+02],\n",
       "       [  1.02229167e-01],\n",
       "       [  1.02020709e-01],\n",
       "       [ -3.59211608e+00],\n",
       "       [ -3.46757679e-02]])"
      ]
     },
     "execution_count": 149,
     "metadata": {},
     "output_type": "execute_result"
    }
   ],
   "source": [
    "#GM Lag with OD-W\n",
    "model = GM_Lag(y, X, w=ODw, w_lags=1)\n",
    "model.betas"
   ]
  },
  {
   "cell_type": "code",
   "execution_count": 150,
   "metadata": {
    "collapsed": false
   },
   "outputs": [
    {
     "data": {
      "text/plain": [
       "array([[  1.40576692e+03],\n",
       "       [  6.93836657e-02],\n",
       "       [  6.03194419e-02],\n",
       "       [ -1.05386559e+01],\n",
       "       [  3.10794995e-01]])"
      ]
     },
     "execution_count": 150,
     "metadata": {},
     "output_type": "execute_result"
    }
   ],
   "source": [
    "#Base TSLS with OD-W\n",
    "\n",
    "X = np.hstack([np.ones((81,1)), o_vars.reshape((-1,1)), d_vars.reshape((-1,1)), dij.reshape((-1,1))])\n",
    "#X = np.hstack([o_vars.reshape((-1,1)), d_vars.reshape((-1,1)), dij.reshape((-1,1))])\n",
    "\n",
    "Wo = ps.weights.full2W(np.kron(Wo.full()[0], np.identity(9)))\n",
    "Wd = ps.weights.full2W(np.kron(np.identity(9), Wd.full()[0]))\n",
    "\n",
    "w_lags=1\n",
    "    \n",
    "o_yend, o_q = set_endog(y, X, Wo, None, None, w_lags, True)\n",
    "d_yend, d_q = set_endog(y, X, Wd, None, None, w_lags, True)\n",
    "w_yend, w_q = set_endog(y, X, Ww, None, None, w_lags, True)\n",
    "\n",
    "w = Ww.sparse\n",
    "yend = w_yend\n",
    "q = w_q\n",
    "\n",
    "model = TSLS.BaseTSLS(y=y, x=X, yend=yend, q=q)\n",
    "model.betas"
   ]
  },
  {
   "cell_type": "code",
   "execution_count": 151,
   "metadata": {
    "collapsed": false,
    "scrolled": true
   },
   "outputs": [
    {
     "data": {
      "text/plain": [
       "array([[  5.38733321e+04],\n",
       "       [ -1.33117926e+01],\n",
       "       [ -7.14188368e+00],\n",
       "       [  3.55723696e+02],\n",
       "       [  7.88125684e+00],\n",
       "       [  1.20094221e+01],\n",
       "       [  6.54489799e+01]])"
      ]
     },
     "execution_count": 151,
     "metadata": {},
     "output_type": "execute_result"
    }
   ],
   "source": [
    "#Base TSLS with O-W, D-Wm and OD-W\n",
    "\n",
    "w = (Wo.sparse, Wd.sparse, Ww.sparse)\n",
    "yend = np.hstack([o_yend, d_yend, w_yend])\n",
    "q = np.hstack([o_q, d_q, w_q])\n",
    "\n",
    "model = TSLS.BaseTSLS(y=f, x=X, yend=yend, q=q)\n",
    "model.betas"
   ]
  },
  {
   "cell_type": "code",
   "execution_count": null,
   "metadata": {
    "collapsed": true
   },
   "outputs": [],
   "source": []
  },
  {
   "cell_type": "code",
   "execution_count": null,
   "metadata": {
    "collapsed": true
   },
   "outputs": [],
   "source": []
  }
 ],
 "metadata": {
  "anaconda-cloud": {},
  "kernelspec": {
   "display_name": "Python [Root]",
   "language": "python",
   "name": "Python [Root]"
  },
  "language_info": {
   "codemirror_mode": {
    "name": "ipython",
    "version": 2
   },
   "file_extension": ".py",
   "mimetype": "text/x-python",
   "name": "python",
   "nbconvert_exporter": "python",
   "pygments_lexer": "ipython2",
   "version": "2.7.12"
  }
 },
 "nbformat": 4,
 "nbformat_minor": 0
}
