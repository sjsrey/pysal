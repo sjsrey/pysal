{
 "cells": [
  {
   "cell_type": "code",
   "execution_count": 3,
   "id": "amino-suggestion",
   "metadata": {},
   "outputs": [],
   "source": [
    "import json"
   ]
  },
  {
   "cell_type": "code",
   "execution_count": 4,
   "id": "familiar-limit",
   "metadata": {},
   "outputs": [],
   "source": [
    "from release_info import get_github_info"
   ]
  },
  {
   "cell_type": "code",
   "execution_count": 5,
   "id": "graphic-arcade",
   "metadata": {},
   "outputs": [
    {
     "name": "stdout",
     "output_type": "stream",
     "text": [
      "https://api.github.com/repos/pysal/libpysal/releases/latest\n",
      "https://api.github.com/repos/pysal/access/releases/latest\n",
      "https://api.github.com/repos/pysal/esda/releases/latest\n",
      "https://api.github.com/repos/pysal/giddy/releases/latest\n",
      "https://api.github.com/repos/pysal/inequality/releases/latest\n",
      "https://api.github.com/repos/pysal/pointpats/releases/latest\n",
      "https://api.github.com/repos/pysal/segregation/releases/latest\n",
      "https://api.github.com/repos/pysal/spaghetti/releases/latest\n",
      "https://api.github.com/repos/pysal/mgwr/releases/latest\n",
      "https://api.github.com/repos/pysal/momepy/releases/latest\n",
      "https://api.github.com/repos/pysal/spglm/releases/latest\n",
      "https://api.github.com/repos/pysal/spint/releases/latest\n",
      "https://api.github.com/repos/pysal/spreg/releases/latest\n",
      "https://api.github.com/repos/pysal/spvcm/releases/latest\n",
      "https://api.github.com/repos/pysal/tobler/releases/latest\n",
      "https://api.github.com/repos/pysal/mapclassify/releases/latest\n",
      "https://api.github.com/repos/pysal/splot/releases/latest\n",
      "https://api.github.com/repos/pysal/spopt/releases/latest\n"
     ]
    }
   ],
   "source": [
    "releases = get_github_info()  "
   ]
  },
  {
   "cell_type": "code",
   "execution_count": 6,
   "id": "north-movement",
   "metadata": {},
   "outputs": [
    {
     "data": {
      "text/plain": [
       "{'libpysal': {'version': 'v4.9.2',\n",
       "  'url': 'https://api.github.com/repos/pysal/libpysal/tarball/v4.9.2',\n",
       "  'release_date': datetime.datetime(2023, 11, 5, 21, 11, 5)},\n",
       " 'access': {'version': 'v1.1.9',\n",
       "  'url': 'https://api.github.com/repos/pysal/access/tarball/v1.1.9',\n",
       "  'release_date': datetime.datetime(2023, 10, 6, 2, 43, 55)},\n",
       " 'esda': {'version': 'v2.5.1',\n",
       "  'url': 'https://api.github.com/repos/pysal/esda/tarball/v2.5.1',\n",
       "  'release_date': datetime.datetime(2023, 10, 24, 17, 26, 14)},\n",
       " 'giddy': {'version': 'v2.3.5',\n",
       "  'url': 'https://api.github.com/repos/pysal/giddy/tarball/v2.3.5',\n",
       "  'release_date': datetime.datetime(2024, 1, 16, 22, 39, 24)},\n",
       " 'inequality': {'version': 'v1.0.1',\n",
       "  'url': 'https://api.github.com/repos/pysal/inequality/tarball/v1.0.1',\n",
       "  'release_date': datetime.datetime(2023, 10, 28, 23, 10, 33)},\n",
       " 'pointpats': {'version': 'v2.4.0',\n",
       "  'url': 'https://api.github.com/repos/pysal/pointpats/tarball/v2.4.0',\n",
       "  'release_date': datetime.datetime(2023, 9, 29, 17, 16, 15)},\n",
       " 'segregation': {'version': 'v2.5',\n",
       "  'url': 'https://api.github.com/repos/pysal/segregation/tarball/v2.5',\n",
       "  'release_date': datetime.datetime(2023, 8, 24, 16, 41, 39)},\n",
       " 'spaghetti': {'version': 'v1.7.4',\n",
       "  'url': 'https://api.github.com/repos/pysal/spaghetti/tarball/v1.7.4',\n",
       "  'release_date': datetime.datetime(2023, 6, 19, 16, 24, 41)},\n",
       " 'mgwr': {'version': 'v2.2.1',\n",
       "  'url': 'https://api.github.com/repos/pysal/mgwr/tarball/v2.2.1',\n",
       "  'release_date': datetime.datetime(2024, 1, 6, 16, 43, 47)},\n",
       " 'momepy': {'version': 'v0.7.0',\n",
       "  'url': 'https://api.github.com/repos/pysal/momepy/tarball/v0.7.0',\n",
       "  'release_date': datetime.datetime(2023, 11, 22, 21, 32, 11)},\n",
       " 'spglm': {'version': 'v1.1.0',\n",
       "  'url': 'https://api.github.com/repos/pysal/spglm/tarball/v1.1.0',\n",
       "  'release_date': datetime.datetime(2023, 10, 25, 13, 50, 11)},\n",
       " 'spint': {'version': 'v1.0.7',\n",
       "  'url': 'https://api.github.com/repos/pysal/spint/tarball/v1.0.7',\n",
       "  'release_date': datetime.datetime(2020, 9, 9, 2, 28, 50)},\n",
       " 'spreg': {'version': 'v1.4.2',\n",
       "  'url': 'https://api.github.com/repos/pysal/spreg/tarball/v1.4.2',\n",
       "  'release_date': datetime.datetime(2023, 11, 7, 4, 13, 57)},\n",
       " 'spvcm': {'version': 'v0.3.0',\n",
       "  'url': 'https://api.github.com/repos/pysal/spvcm/tarball/v0.3.0',\n",
       "  'release_date': datetime.datetime(2020, 2, 2, 19, 42, 39)},\n",
       " 'tobler': {'version': 'v0.11.2',\n",
       "  'url': 'https://api.github.com/repos/pysal/tobler/tarball/v0.11.2',\n",
       "  'release_date': datetime.datetime(2023, 9, 26, 1, 19, 23)},\n",
       " 'mapclassify': {'version': 'v2.6.1',\n",
       "  'url': 'https://api.github.com/repos/pysal/mapclassify/tarball/v2.6.1',\n",
       "  'release_date': datetime.datetime(2023, 10, 4, 19, 50, 20)},\n",
       " 'splot': {'version': 'v1.1.5.post1',\n",
       "  'url': 'https://api.github.com/repos/pysal/splot/tarball/v1.1.5.post1',\n",
       "  'release_date': datetime.datetime(2022, 4, 13, 21, 13, 27)},\n",
       " 'spopt': {'version': 'v0.6.0',\n",
       "  'url': 'https://api.github.com/repos/pysal/spopt/tarball/v0.6.0',\n",
       "  'release_date': datetime.datetime(2023, 12, 10, 20, 27, 19)}}"
      ]
     },
     "execution_count": 6,
     "metadata": {},
     "output_type": "execute_result"
    }
   ],
   "source": [
    "releases"
   ]
  },
  {
   "cell_type": "code",
   "execution_count": 7,
   "id": "6d469743-97a7-4a75-98e3-997c853a3ce3",
   "metadata": {},
   "outputs": [],
   "source": [
    "import json\n",
    "requirements = []\n",
    "frozen_dict = {}\n",
    "for package in releases:\n",
    "    version = releases[package]['version']\n",
    "    version = version.replace(\"v\",\"\")\n",
    "    version = version.replace(\"V\",\"\")\n",
    "    requirements.append(f'{package}>={version}')\n",
    "    frozen_dict[package] = version\n",
    "\n",
    "with open('frozen.txt', 'w') as f:\n",
    "    f.write(\"\\n\".join(requirements))\n",
    "\n",
    "\n",
    "\n",
    "with open ('../requirements.txt', 'w') as f:\n",
    "    s = \"\\n\".join(requirements)\n",
    "    f.write(s)\n",
    "    "
   ]
  },
  {
   "cell_type": "code",
   "execution_count": 8,
   "id": "38da20eb-1ed6-4eba-ac55-ec0d60fbc614",
   "metadata": {},
   "outputs": [],
   "source": [
    "# update frozen.py    \n",
    "with open('../pysal/frozen.py', 'w') as f:\n",
    "    s = json.dumps(frozen_dict)\n",
    "    s = s.replace(\",\", \",\\n\\t\")\n",
    "    s = f\"frozen_packages = {s}\"\n",
    "    f.write(s)\n",
    "    "
   ]
  },
  {
   "cell_type": "code",
   "execution_count": null,
   "id": "2b66e22a-7d37-46f7-9576-c6bf5cc6e94b",
   "metadata": {},
   "outputs": [],
   "source": []
  },
  {
   "cell_type": "code",
   "execution_count": 9,
   "id": "frozen-singing",
   "metadata": {},
   "outputs": [],
   "source": [
    "import pickle \n",
    "pickle.dump(releases, open( \"releases.p\", \"wb\" ) )\n"
   ]
  }
 ],
 "metadata": {
  "kernelspec": {
   "display_name": "Python 3 (ipykernel)",
   "language": "python",
   "name": "python3"
  },
  "language_info": {
   "codemirror_mode": {
    "name": "ipython",
    "version": 3
   },
   "file_extension": ".py",
   "mimetype": "text/x-python",
   "name": "python",
   "nbconvert_exporter": "python",
   "pygments_lexer": "ipython3",
   "version": "3.10.12"
  }
 },
 "nbformat": 4,
 "nbformat_minor": 5
}
